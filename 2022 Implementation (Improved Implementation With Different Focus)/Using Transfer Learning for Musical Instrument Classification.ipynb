{
  "cells": [
    {
      "cell_type": "markdown",
      "id": "2a96ac87",
      "metadata": {
        "id": "2a96ac87"
      },
      "source": [
        "## Global Variables to decide what to load into Memory\n",
        "\n",
        "\n"
      ]
    },
    {
      "cell_type": "code",
      "execution_count": null,
      "id": "62d0093c",
      "metadata": {
        "id": "62d0093c"
      },
      "outputs": [],
      "source": [
        "CREATE_DATABASE = False\n",
        "REDUCE_MEM = True\n",
        "LOAD_INS_VIEW = False\n",
        "LOAD_INS_TYPE = True\n",
        "LOAD_INS_COUNTRY = False\n",
        "LOAD_INS_BALANCED = False"
      ]
    },
    {
      "cell_type": "markdown",
      "source": [
        "## Import Folder and Libraries"
      ],
      "metadata": {
        "id": "POhOjslgtHeJ"
      },
      "id": "POhOjslgtHeJ"
    },
    {
      "cell_type": "code",
      "source": [
        "from google.colab import drive\n",
        "drive.mount('/content/drive')\n",
        "# os.listdir(\"drive/MyDrive/CS342\")"
      ],
      "metadata": {
        "colab": {
          "base_uri": "https://localhost:8080/"
        },
        "id": "zAYdxoQGXYYm",
        "outputId": "865e5eaf-925e-4169-d062-d9bf2341b352"
      },
      "id": "zAYdxoQGXYYm",
      "execution_count": null,
      "outputs": [
        {
          "output_type": "stream",
          "name": "stdout",
          "text": [
            "Drive already mounted at /content/drive; to attempt to forcibly remount, call drive.mount(\"/content/drive\", force_remount=True).\n"
          ]
        }
      ]
    },
    {
      "cell_type": "code",
      "execution_count": null,
      "id": "d0e10444",
      "metadata": {
        "id": "d0e10444",
        "colab": {
          "base_uri": "https://localhost:8080/"
        },
        "outputId": "1db42993-8abc-4103-e46d-afa15f0147bb"
      },
      "outputs": [
        {
          "output_type": "execute_result",
          "data": {
            "text/plain": [
              "device(type='cuda')"
            ]
          },
          "metadata": {},
          "execution_count": 4
        }
      ],
      "source": [
        "import sys\n",
        "# !{sys.executable} -m pip install opencv-python\n",
        "# !{sys.executable} -m pip install geopy\n",
        "# !{sys.executable} -m  pip install jupyter-resource-usage\n",
        "import matplotlib.pyplot as plt\n",
        "from geopy import Nominatim # Used for city to country conversions\n",
        "import torch\n",
        "from torch import nn\n",
        "import csv\n",
        "import time\n",
        "import os\n",
        "import json\n",
        "import re\n",
        "import pandas as pd\n",
        "from geopy.geocoders import Nominatim\n",
        "import numpy as np\n",
        "import matplotlib.pyplot as plt\n",
        "import math\n",
        "from os.path import exists\n",
        "from torch.utils.data import Dataset, DataLoader\n",
        "import cv2 # for image processing\n",
        "from PIL import Image # for image processing\n",
        "from torchvision import transforms # for image processing\n",
        "import copy\n",
        "import random\n",
        "import pickle\n",
        "from torch.utils.data.sampler import SubsetRandomSampler\n",
        "\n",
        " # Make random deterministic for reproducibility\n",
        "seed = 42\n",
        "np.random.seed(seed)\n",
        "torch.manual_seed(0)\n",
        "np.random.seed(0)\n",
        "random.seed(0)\n",
        "device = torch.device('cuda' if torch.cuda.is_available() else 'cpu')\n",
        "device"
      ]
    },
    {
      "cell_type": "markdown",
      "id": "e3cbadb3",
      "metadata": {
        "id": "e3cbadb3"
      },
      "source": [
        "## Database Creation\n",
        "Making a Pandas database from folders of data stored locally on my machine from a previous web scraping project"
      ]
    },
    {
      "cell_type": "code",
      "execution_count": null,
      "id": "d9ba339e",
      "metadata": {
        "id": "d9ba339e"
      },
      "outputs": [],
      "source": [
        "error_dict = {\"os_error_cnt\" : 0}\n",
        "DEBUG = False # for database creation only\n",
        "def debug_print(statement):\n",
        "    if DEBUG:\n",
        "        print(statement)"
      ]
    },
    {
      "cell_type": "code",
      "source": [
        "with open(\"drive/MyDrive/CS342/base_folder.dat\", \"rb\") as f:\n",
        "    base_folder = pickle.load(f)"
      ],
      "metadata": {
        "id": "btTJdYTxujz2"
      },
      "id": "btTJdYTxujz2",
      "execution_count": null,
      "outputs": []
    },
    {
      "cell_type": "code",
      "execution_count": null,
      "id": "6968f141",
      "metadata": {
        "id": "6968f141"
      },
      "outputs": [],
      "source": [
        "def get_violin_maker_folders(base_violin_code_folder):\n",
        "    dir_list = os.listdir(base_violin_code_folder)\n",
        "    return [x for x in dir_list if x.startswith(\"ViolinMaker-\")]\n",
        "if CREATE_DATABASE:\n",
        "  violin_maker_folders = get_violin_maker_folders(base_folder)\n",
        "  # violin_maker_folders[0:5]\n",
        "  print(\"There are {} unique violin makers in this database\".format(len(violin_maker_folders)))"
      ]
    },
    {
      "cell_type": "code",
      "execution_count": null,
      "id": "01c479b2",
      "metadata": {
        "id": "01c479b2"
      },
      "outputs": [],
      "source": [
        "def get_instrument_paths(violin_maker_folders):\n",
        "    instrument_folder_paths = []\n",
        "    for violin_maker_folder in violin_maker_folders:\n",
        "        violin_maker_path = base_folder+\"/\"+violin_maker_folder\n",
        "        violin_list  = os.listdir(violin_maker_path)\n",
        "        instruments = [(violin_maker_path + \"/\" + x) for x in violin_list if x.startswith(\"Instrument-\")]\n",
        "        if instruments:\n",
        "            instrument_folder_paths.extend(instruments)\n",
        "    return instrument_folder_paths\n",
        "if CREATE_DATABASE:\n",
        "  instrument_paths = get_instrument_paths(violin_maker_folders)\n",
        "  print(\"There are {} unique instruments in this database\".format(len(instrument_paths)))"
      ]
    },
    {
      "cell_type": "code",
      "execution_count": null,
      "id": "bf779c25",
      "metadata": {
        "id": "bf779c25"
      },
      "outputs": [],
      "source": [
        "def parse_text(orig_dict):\n",
        "    debug_print(\"Original Dict {}\".format(orig_dict))\n",
        "    desired_info = {\n",
        "        \"image_top\" : None,\n",
        "        \"maker_name\" : None,\n",
        "        \"country_made\": None,\n",
        "        \"city_made\" : None,\n",
        "        \"year_made\": None,\n",
        "        \"instrument_type\" : None,\n",
        "        \"year_sold\": None,\n",
        "        \"sale_price_USD\": None} # \"image_back\" : None,\n",
        "    \n",
        "    desired_info[\"maker_name\"] = orig_dict['Maker Name']\n",
        "    desired_info[\"city_made\"] = orig_dict[\"Location\"]\n",
        "    desired_info[\"instrument_type\"] = orig_dict[\"Instrument Type\"]\n",
        "    try:\n",
        "        year_made = re.findall(\"\\d+\", orig_dict[\"Year Made\"])\n",
        "        if not year_made:\n",
        "            debug_print(\"No year made in following: orig_dict[\\\"Year Made\\\"] {}\".format(orig_dict[\"Year Made\"]))\n",
        "        else:\n",
        "            assert(len(year_made)<2)\n",
        "            desired_info[\"year_made\"] = int(year_made[0])\n",
        "    except Exception as e1:\n",
        "        debug_print(\"year_made exception\")\n",
        "        debug_print(e1)\n",
        "    try:\n",
        "        year_sold = re.findall(\"\\d+$\", orig_dict['Date Sold'])\n",
        "        if not year_sold:\n",
        "            debug_print(\"No year_sold found in orig_dict[\\\"Sale Date\\\"] {}\".format(orig_dict['Date Sold']))\n",
        "        else:\n",
        "            assert(len(year_sold)<2)\n",
        "            desired_info[\"year_sold\"] = int(year_sold[0])\n",
        "    except Exception as e1:\n",
        "        debug_print(\"year_sold exception\")\n",
        "        debug_print(e1)\n",
        "    try:\n",
        "        sales_price_USD = orig_dict['USD'].split(\"$\")[1].replace(\",\", \"\")\n",
        "        if not sales_price_USD:\n",
        "            debug_print(\"No sales_price_USD found in {}\".format( orig_dict['USD']))\n",
        "        if \"\\n\" in sales_price_USD:\n",
        "            debug_print(\"\\\\\\n in sales_price_USD\")\n",
        "            sales_price_USD = sales_price_USD.split(\"\\n\")[0]\n",
        "        desired_info[\"sale_price_USD\"] = int(sales_price_USD)\n",
        "    except Exception as e1:\n",
        "        debug_print(\"sales_price_USD exception\")\n",
        "        debug_print(e1)\n",
        "    debug_print(\"Parsed Dict {}\".format(desired_info))\n",
        "    return desired_info"
      ]
    },
    {
      "cell_type": "markdown",
      "id": "0486ef06",
      "metadata": {
        "id": "0486ef06"
      },
      "source": [
        "### Data Processing\n",
        "\n",
        "Pad all images to fit the dimensions of desired_dimensions_after_downsample without stretching or squeezing the image. Instruments from different countries are associated with different dimensions, so any squeezing or stretching of an image that changes the ratio of height to width may result in a loss of accuracy in classifying instruments by country."
      ]
    },
    {
      "cell_type": "code",
      "execution_count": null,
      "id": "dc8c8b10",
      "metadata": {
        "id": "dc8c8b10"
      },
      "outputs": [],
      "source": [
        "def resize_image_with_padding(img_top_orig, desired_dimensions_after_downsample = (256, 256)):\n",
        "    padding_val = img_top_orig[0][0].mean()\n",
        "    y_len = img_top_orig.shape[0]\n",
        "    x_len = img_top_orig.shape[1]\n",
        "    y_conv_factor = y_len/desired_dimensions_after_downsample[0]\n",
        "    x_conv_factor = x_len/desired_dimensions_after_downsample[1]\n",
        "    used_conv_factor = max(x_conv_factor, y_conv_factor)\n",
        "    x_len_after_conv = math.ceil(x_len/used_conv_factor)\n",
        "    y_len_after_conv = math.ceil(y_len/used_conv_factor)\n",
        "    num_x_padding =  (desired_dimensions_after_downsample[1] - x_len_after_conv)/2\n",
        "    num_y_padding =  (desired_dimensions_after_downsample[0] - y_len_after_conv)/2\n",
        "    \n",
        "    if num_x_padding%1!=0:\n",
        "        x_pad_tuple = ( int(math.floor(num_x_padding)), int(math.ceil(num_x_padding)))\n",
        "    else:\n",
        "        x_pad_tuple = (int(num_x_padding), int(num_x_padding))\n",
        "    if num_y_padding%1!=0:\n",
        "        y_pad_tuple = (int(math.floor(num_y_padding)), int(math.ceil(num_y_padding)))\n",
        "    else:\n",
        "        y_pad_tuple = (int(num_y_padding), int(num_y_padding))\n",
        "    img_top_resized_no_padding = cv2.resize(img_top_orig, dsize=(x_len_after_conv, y_len_after_conv), interpolation=cv2.INTER_CUBIC)\n",
        "    img_top_resized_padded = np.pad(img_top_resized_no_padding , [y_pad_tuple, x_pad_tuple, (0,0)], constant_values = (padding_val,padding_val))\n",
        "    if img_top_resized_padded.shape != (desired_dimensions_after_downsample[0], desired_dimensions_after_downsample[1], 3):\n",
        "        print(\"{}: {}\".format(\"x_len_after_conv\", x_len_after_conv))\n",
        "        print(\"{}: {}\".format(\"y_len_after_conv\", y_len_after_conv))\n",
        "        print(\"{}: {}\".format(\"num_x_padding\", num_x_padding))\n",
        "        print(\"{}: {}\".format(\"num_y_padding\", num_y_padding))\n",
        "        print(\"{}: {}\".format(\"img_top_resized_no_padding.shape\", img_top_resized_no_padding.shape))\n",
        "        print(\"{}: {}\".format(\"img_top_resized_padded.shape\", img_top_resized_padded.shape))\n",
        "        raise ValueError(\"img_top_resized_padded of incorrect shape of {}\".format(img_top_resized_padded.shape))\n",
        "    return img_top_resized_padded"
      ]
    },
    {
      "cell_type": "code",
      "execution_count": null,
      "id": "8992726f",
      "metadata": {
        "id": "8992726f"
      },
      "outputs": [],
      "source": [
        "def get_image_data(instrument_path):\n",
        "    instrument_files = os.listdir(instrument_path)\n",
        "    top_image_candidates = [(instrument_path + \"/\" + x) for x in instrument_files if \"top\" in x and \"back\" not in x ]\n",
        "    back_image_candidates = [(instrument_path + \"/\" + x) for x in instrument_files if \"back\" in x and \"top\" not in x]\n",
        "    if len(top_image_candidates)>1:\n",
        "        perfect_match_top =  [(instrument_path + \"/\" + x) for x in instrument_files if x==\"top.jpg\"]\n",
        "        if len(perfect_match_top)>=1:\n",
        "            top_image_candidates = perfect_match_top\n",
        "    if len(back_image_candidates)>1:\n",
        "        perfect_match_back =  [(instrument_path + \"/\" + x) for x in instrument_files if x==\"back.jpg\"]\n",
        "        if len(perfect_match_back)>=1:\n",
        "            back_image_candidates = perfect_match_back\n",
        "    if len(top_image_candidates)==0 or len(back_image_candidates)==0: \n",
        "        return [], [] # Ignore all images from local directory if they do not contain at least one photo of back and front\n",
        "    img_top_orig = cv2.imread(top_image_candidates[0])\n",
        "    img_top_resized = resize_image_with_padding(img_top_orig)\n",
        "    img_back_orig = cv2.imread(back_image_candidates[0])\n",
        "    img_back_resized = resize_image_with_padding(img_back_orig)\n",
        "    return img_top_resized, img_back_resized"
      ]
    },
    {
      "cell_type": "code",
      "execution_count": null,
      "id": "0fa2dc2e",
      "metadata": {
        "id": "0fa2dc2e"
      },
      "outputs": [],
      "source": [
        "# Shows image with original ordering of dimensions\n",
        "def show_image(image_arr):\n",
        "    assert image_arr.shape[-1] == 3 \n",
        "    fig = plt.figure()\n",
        "    ax = fig.add_subplot(1,1,1)\n",
        "    cax = ax.matshow(image_arr)\n",
        "    fig.colorbar(cax)\n",
        "    plt.show()"
      ]
    },
    {
      "cell_type": "code",
      "execution_count": null,
      "id": "86ab8b37",
      "metadata": {
        "id": "86ab8b37"
      },
      "outputs": [],
      "source": [
        "# Shows image and saves image to google drive\n",
        "def show_image_processed(img_tensor, save_name = \"\",title=\"\", ticks = True):\n",
        "    assert img_tensor.shape[0] == 3\n",
        "    img_tensor_reshaped = torch.transpose(torch.transpose(img_tensor, 0 ,2),0,1)\n",
        "    fig = plt.figure()\n",
        "    ax = fig.add_subplot(1,1,1)\n",
        "    if ticks == False:\n",
        "      ax.tick_params(left=False,bottom=False)\n",
        "    cax = ax.matshow(img_tensor_reshaped)\n",
        "    fig.colorbar(cax)\n",
        "    if title!=\"\":\n",
        "      plt.title(title)\n",
        "    if save_name!=\"\":\n",
        "      plt.savefig('drive/MyDrive/CS342/'+save_name + '.png',bbox_inches='tight')\n",
        "    plt.show()"
      ]
    },
    {
      "cell_type": "code",
      "execution_count": null,
      "id": "242b47fd",
      "metadata": {
        "id": "242b47fd"
      },
      "outputs": [],
      "source": [
        "def get_text_data_from_instrument_folder(instrument_path): \n",
        "    instrument_text_info_path = instrument_path + \"/OrganizedViolinProfile.txt\"\n",
        "    try:\n",
        "        with open(instrument_text_info_path) as f:\n",
        "            instrument_text_info = f.read()\n",
        "    except OSError as e:\n",
        "        error_dict[\"os_error_cnt\"] +=1\n",
        "        return {}\n",
        "    instrument_text_info_dict = json.loads(instrument_text_info)\n",
        "    desired_info = parse_text(instrument_text_info_dict)\n",
        "    return desired_info"
      ]
    },
    {
      "cell_type": "code",
      "execution_count": null,
      "id": "95870337",
      "metadata": {
        "id": "95870337"
      },
      "outputs": [],
      "source": [
        "def get_all_instrument_data(instrument_paths):\n",
        "    instrument_text_data_list = []\n",
        "    for instrument_path in instrument_paths:\n",
        "        debug_print(\"\\nNew Data Attempt\")\n",
        "        instrument_data = get_text_data_from_instrument_folder(instrument_path)\n",
        "        top_image_data, back_image_data = get_image_data(instrument_path)\n",
        "        if len(top_image_data)>0 and len(back_image_data)>0:\n",
        "            instrument_data[\"image_top\"] = top_image_data \n",
        "            instrument_data[\"image_back\"] = back_image_data \n",
        "        else:\n",
        "            debug_print(\"{} does not contain compatible image data\".format(instrument_path))\n",
        "        if instrument_data:\n",
        "            instrument_text_data_list.append(instrument_data)\n",
        "        debug_print(instrument_data)\n",
        "        debug_print(\"\\n\")\n",
        "    return instrument_text_data_list"
      ]
    },
    {
      "cell_type": "code",
      "execution_count": null,
      "id": "0e989757",
      "metadata": {
        "id": "0e989757"
      },
      "outputs": [],
      "source": [
        "# Creates the entire database to filter/select from in data selection phase \n",
        "if CREATE_DATABASE:\n",
        "    all_instrument_data = get_all_instrument_data(instrument_paths)"
      ]
    },
    {
      "cell_type": "markdown",
      "id": "9f20055b",
      "metadata": {
        "id": "9f20055b"
      },
      "source": [
        "## Feature Extraction\n",
        "\n",
        "Predict the country for each instrument based off the historical city where the instrument was made"
      ]
    },
    {
      "cell_type": "code",
      "execution_count": null,
      "id": "6975fbd2",
      "metadata": {
        "id": "6975fbd2"
      },
      "outputs": [],
      "source": [
        "def extrapolate_country_made_():\n",
        "    city_to_country_dict = {}\n",
        "    city_to_country_dict_path = \"inside local UT Neural Network homework folder\"\n",
        "    if exists(city_to_country_dict_path):\n",
        "        with open(city_to_country_dict_path, mode='r') as inp:\n",
        "            reader = csv.reader(inp)\n",
        "            city_to_country_dict = {rows[0]:rows[1] for rows in reader}\n",
        "    geolocator = Nominatim(user_agent = \"city_to_country\")\n",
        "    def convert_city_to_country(city_name):\n",
        "      try:\n",
        "          if city_name in city_to_country_dict.keys():\n",
        "              country = city_to_country_dict[city_name]\n",
        "          else:\n",
        "              time.sleep(.05)\n",
        "              location = geolocator.geocode(city_name, exactly_one=True)\n",
        "              print(location)\n",
        "              country = location[-2].split(\", \")[-1] \n",
        "              city_to_country_dict[city_name] = country\n",
        "      except Exception as e:\n",
        "          city_to_country_dict[city_name] = None\n",
        "          print(\"Unable to convert {} due to {}\".format(city_name, e))\n",
        "          return None\n",
        "      return country\n",
        "\n",
        "    for instrument_data in all_instrument_data:\n",
        "        instrument_data['country_made'] = convert_city_to_country(instrument_data[\"city_made\"])"
      ]
    },
    {
      "cell_type": "code",
      "execution_count": null,
      "id": "eab3634e",
      "metadata": {
        "id": "eab3634e"
      },
      "outputs": [],
      "source": [
        "if CREATE_DATABASE:\n",
        "    extrapolate_country_made_()"
      ]
    },
    {
      "cell_type": "code",
      "execution_count": null,
      "id": "67217531",
      "metadata": {
        "id": "67217531"
      },
      "outputs": [],
      "source": [
        "if CREATE_DATABASE:\n",
        "    # Update Dictionary File\n",
        "    w = csv.writer(open(\"city_to_country_dict.csv\", \"w\"))\n",
        "    # loop over dictionary keys and values\n",
        "    for key, val in city_to_country_dict.items():\n",
        "        # write every key and value to file\n",
        "        w.writerow([key, val])"
      ]
    },
    {
      "cell_type": "code",
      "source": [
        "# if \"alexnet_ins_extra_layer\" not in locals():\n",
        "with open(\"drive/MyDrive/CS342/alexnet_ins.dat\", \"rb\") as f:\n",
        "  alexnet_ins= pickle.load(f)\n",
        "with open(\"drive/MyDrive/CS342/alexnet_ins__cpu.dat\", \"wb\") as f:\n",
        "  pickle.dump(alexnet_ins.to(torch.device(\"cpu\")), f)"
      ],
      "metadata": {
        "id": "Cp-w9kBPQUum"
      },
      "id": "Cp-w9kBPQUum",
      "execution_count": null,
      "outputs": []
    },
    {
      "cell_type": "code",
      "execution_count": null,
      "id": "bfc8c636",
      "metadata": {
        "id": "bfc8c636",
        "colab": {
          "base_uri": "https://localhost:8080/",
          "height": 337
        },
        "outputId": "ae017d87-0b8c-4b19-c079-2ebde23938ed"
      },
      "outputs": [
        {
          "output_type": "execute_result",
          "data": {
            "text/plain": [
              "                                           image_top              maker_name  \\\n",
              "0  [[[255, 255, 255], [255, 255, 255], [255, 255,...          Robert Clemens   \n",
              "1  [[[254, 254, 254], [254, 254, 254], [254, 254,...  John Frederick Lott II   \n",
              "2  [[[239, 239, 239], [239, 239, 239], [239, 239,...  John Frederick Lott II   \n",
              "3  [[[244, 244, 244], [244, 244, 244], [244, 244,...  John Frederick Lott II   \n",
              "4                                               None  John Frederick Lott II   \n",
              "\n",
              "     country_made city_made  year_made instrument_type  year_sold  \\\n",
              "0   United States   Chicago        NaN          Violin     2005.0   \n",
              "1  United Kingdom    London     1840.0          Violin        NaN   \n",
              "2  United Kingdom    London     1840.0          Violin        NaN   \n",
              "3  United Kingdom    London     1850.0          Violin        NaN   \n",
              "4  United Kingdom    London     1850.0          Violin        NaN   \n",
              "\n",
              "   sale_price_USD                                         image_back  \n",
              "0          3738.0  [[[183, 183, 183], [183, 183, 183], [183, 183,...  \n",
              "1             NaN  [[[255, 255, 255], [255, 255, 255], [255, 255,...  \n",
              "2             NaN  [[[233, 233, 233], [233, 233, 233], [233, 233,...  \n",
              "3             NaN  [[[248, 248, 248], [248, 248, 248], [248, 248,...  \n",
              "4             NaN                                                NaN  "
            ],
            "text/html": [
              "\n",
              "  <div id=\"df-0d9373d0-3818-41c5-96bf-f36794610c9a\">\n",
              "    <div class=\"colab-df-container\">\n",
              "      <div>\n",
              "<style scoped>\n",
              "    .dataframe tbody tr th:only-of-type {\n",
              "        vertical-align: middle;\n",
              "    }\n",
              "\n",
              "    .dataframe tbody tr th {\n",
              "        vertical-align: top;\n",
              "    }\n",
              "\n",
              "    .dataframe thead th {\n",
              "        text-align: right;\n",
              "    }\n",
              "</style>\n",
              "<table border=\"1\" class=\"dataframe\">\n",
              "  <thead>\n",
              "    <tr style=\"text-align: right;\">\n",
              "      <th></th>\n",
              "      <th>image_top</th>\n",
              "      <th>maker_name</th>\n",
              "      <th>country_made</th>\n",
              "      <th>city_made</th>\n",
              "      <th>year_made</th>\n",
              "      <th>instrument_type</th>\n",
              "      <th>year_sold</th>\n",
              "      <th>sale_price_USD</th>\n",
              "      <th>image_back</th>\n",
              "    </tr>\n",
              "  </thead>\n",
              "  <tbody>\n",
              "    <tr>\n",
              "      <th>0</th>\n",
              "      <td>[[[255, 255, 255], [255, 255, 255], [255, 255,...</td>\n",
              "      <td>Robert Clemens</td>\n",
              "      <td>United States</td>\n",
              "      <td>Chicago</td>\n",
              "      <td>NaN</td>\n",
              "      <td>Violin</td>\n",
              "      <td>2005.0</td>\n",
              "      <td>3738.0</td>\n",
              "      <td>[[[183, 183, 183], [183, 183, 183], [183, 183,...</td>\n",
              "    </tr>\n",
              "    <tr>\n",
              "      <th>1</th>\n",
              "      <td>[[[254, 254, 254], [254, 254, 254], [254, 254,...</td>\n",
              "      <td>John Frederick Lott II</td>\n",
              "      <td>United Kingdom</td>\n",
              "      <td>London</td>\n",
              "      <td>1840.0</td>\n",
              "      <td>Violin</td>\n",
              "      <td>NaN</td>\n",
              "      <td>NaN</td>\n",
              "      <td>[[[255, 255, 255], [255, 255, 255], [255, 255,...</td>\n",
              "    </tr>\n",
              "    <tr>\n",
              "      <th>2</th>\n",
              "      <td>[[[239, 239, 239], [239, 239, 239], [239, 239,...</td>\n",
              "      <td>John Frederick Lott II</td>\n",
              "      <td>United Kingdom</td>\n",
              "      <td>London</td>\n",
              "      <td>1840.0</td>\n",
              "      <td>Violin</td>\n",
              "      <td>NaN</td>\n",
              "      <td>NaN</td>\n",
              "      <td>[[[233, 233, 233], [233, 233, 233], [233, 233,...</td>\n",
              "    </tr>\n",
              "    <tr>\n",
              "      <th>3</th>\n",
              "      <td>[[[244, 244, 244], [244, 244, 244], [244, 244,...</td>\n",
              "      <td>John Frederick Lott II</td>\n",
              "      <td>United Kingdom</td>\n",
              "      <td>London</td>\n",
              "      <td>1850.0</td>\n",
              "      <td>Violin</td>\n",
              "      <td>NaN</td>\n",
              "      <td>NaN</td>\n",
              "      <td>[[[248, 248, 248], [248, 248, 248], [248, 248,...</td>\n",
              "    </tr>\n",
              "    <tr>\n",
              "      <th>4</th>\n",
              "      <td>None</td>\n",
              "      <td>John Frederick Lott II</td>\n",
              "      <td>United Kingdom</td>\n",
              "      <td>London</td>\n",
              "      <td>1850.0</td>\n",
              "      <td>Violin</td>\n",
              "      <td>NaN</td>\n",
              "      <td>NaN</td>\n",
              "      <td>NaN</td>\n",
              "    </tr>\n",
              "  </tbody>\n",
              "</table>\n",
              "</div>\n",
              "      <button class=\"colab-df-convert\" onclick=\"convertToInteractive('df-0d9373d0-3818-41c5-96bf-f36794610c9a')\"\n",
              "              title=\"Convert this dataframe to an interactive table.\"\n",
              "              style=\"display:none;\">\n",
              "        \n",
              "  <svg xmlns=\"http://www.w3.org/2000/svg\" height=\"24px\"viewBox=\"0 0 24 24\"\n",
              "       width=\"24px\">\n",
              "    <path d=\"M0 0h24v24H0V0z\" fill=\"none\"/>\n",
              "    <path d=\"M18.56 5.44l.94 2.06.94-2.06 2.06-.94-2.06-.94-.94-2.06-.94 2.06-2.06.94zm-11 1L8.5 8.5l.94-2.06 2.06-.94-2.06-.94L8.5 2.5l-.94 2.06-2.06.94zm10 10l.94 2.06.94-2.06 2.06-.94-2.06-.94-.94-2.06-.94 2.06-2.06.94z\"/><path d=\"M17.41 7.96l-1.37-1.37c-.4-.4-.92-.59-1.43-.59-.52 0-1.04.2-1.43.59L10.3 9.45l-7.72 7.72c-.78.78-.78 2.05 0 2.83L4 21.41c.39.39.9.59 1.41.59.51 0 1.02-.2 1.41-.59l7.78-7.78 2.81-2.81c.8-.78.8-2.07 0-2.86zM5.41 20L4 18.59l7.72-7.72 1.47 1.35L5.41 20z\"/>\n",
              "  </svg>\n",
              "      </button>\n",
              "      \n",
              "  <style>\n",
              "    .colab-df-container {\n",
              "      display:flex;\n",
              "      flex-wrap:wrap;\n",
              "      gap: 12px;\n",
              "    }\n",
              "\n",
              "    .colab-df-convert {\n",
              "      background-color: #E8F0FE;\n",
              "      border: none;\n",
              "      border-radius: 50%;\n",
              "      cursor: pointer;\n",
              "      display: none;\n",
              "      fill: #1967D2;\n",
              "      height: 32px;\n",
              "      padding: 0 0 0 0;\n",
              "      width: 32px;\n",
              "    }\n",
              "\n",
              "    .colab-df-convert:hover {\n",
              "      background-color: #E2EBFA;\n",
              "      box-shadow: 0px 1px 2px rgba(60, 64, 67, 0.3), 0px 1px 3px 1px rgba(60, 64, 67, 0.15);\n",
              "      fill: #174EA6;\n",
              "    }\n",
              "\n",
              "    [theme=dark] .colab-df-convert {\n",
              "      background-color: #3B4455;\n",
              "      fill: #D2E3FC;\n",
              "    }\n",
              "\n",
              "    [theme=dark] .colab-df-convert:hover {\n",
              "      background-color: #434B5C;\n",
              "      box-shadow: 0px 1px 3px 1px rgba(0, 0, 0, 0.15);\n",
              "      filter: drop-shadow(0px 1px 2px rgba(0, 0, 0, 0.3));\n",
              "      fill: #FFFFFF;\n",
              "    }\n",
              "  </style>\n",
              "\n",
              "      <script>\n",
              "        const buttonEl =\n",
              "          document.querySelector('#df-0d9373d0-3818-41c5-96bf-f36794610c9a button.colab-df-convert');\n",
              "        buttonEl.style.display =\n",
              "          google.colab.kernel.accessAllowed ? 'block' : 'none';\n",
              "\n",
              "        async function convertToInteractive(key) {\n",
              "          const element = document.querySelector('#df-0d9373d0-3818-41c5-96bf-f36794610c9a');\n",
              "          const dataTable =\n",
              "            await google.colab.kernel.invokeFunction('convertToInteractive',\n",
              "                                                     [key], {});\n",
              "          if (!dataTable) return;\n",
              "\n",
              "          const docLinkHtml = 'Like what you see? Visit the ' +\n",
              "            '<a target=\"_blank\" href=https://colab.research.google.com/notebooks/data_table.ipynb>data table notebook</a>'\n",
              "            + ' to learn more about interactive tables.';\n",
              "          element.innerHTML = '';\n",
              "          dataTable['output_type'] = 'display_data';\n",
              "          await google.colab.output.renderOutput(dataTable, element);\n",
              "          const docLink = document.createElement('div');\n",
              "          docLink.innerHTML = docLinkHtml;\n",
              "          element.appendChild(docLink);\n",
              "        }\n",
              "      </script>\n",
              "    </div>\n",
              "  </div>\n",
              "  "
            ]
          },
          "metadata": {},
          "execution_count": 21
        }
      ],
      "source": [
        "if CREATE_DATABASE:\n",
        "  df = pd.DataFrame(all_instrument_data) \n",
        "  with open(\"drive/MyDrive/CS342/df.dat\", \"wb\") as f:\n",
        "      pickle.dump(df, f)\n",
        "else:\n",
        "  with open(\"drive/MyDrive/CS342/df.dat\", \"rb\") as f:\n",
        "    df = pickle.load(f)\n",
        "df.head()"
      ]
    },
    {
      "cell_type": "markdown",
      "id": "80ea16b9",
      "metadata": {
        "id": "80ea16b9"
      },
      "source": [
        "## Data Selection\n",
        "\n",
        "1. Select the rows with the seven most popular countries that historically account for over 95% of all fine violin making.\n",
        "2. Select instruments 'Violin','Cello','Viola','Bass' which account for over 95% of all stringed instruments from the data. 'Bass' is later removed due to insufficient data.\n",
        "3. Select instruments that we have image data for (either front and back or just front depending on classification problem).\n",
        "4. Make three seperate databases for each classification problem to make it easier to convert the desired x,y labels into dataset/dataloader objects."
      ]
    },
    {
      "cell_type": "code",
      "execution_count": null,
      "id": "6020684c",
      "metadata": {
        "id": "6020684c"
      },
      "outputs": [],
      "source": [
        "popular_countries = ['Italia', 'France', 'United Kingdom','United States','Deutschland','Österreich','Nederland']\n",
        "desired_instrument_types = ['Violin','Cello','Viola','Bass']"
      ]
    },
    {
      "cell_type": "markdown",
      "source": [
        "Create database of instruments with a valid front image, labeled image type, and of the seven most popular countries"
      ],
      "metadata": {
        "id": "XycQD2Wvze_I"
      },
      "id": "XycQD2Wvze_I"
    },
    {
      "cell_type": "code",
      "execution_count": null,
      "id": "2711ea35",
      "metadata": {
        "id": "2711ea35"
      },
      "outputs": [],
      "source": [
        "if LOAD_INS_COUNTRY or CREATE_DATABASE:\n",
        "    valid_image_country_instrument_df = df[ (df['country_made'].isin(popular_countries)) & (df['instrument_type'].isin(desired_instrument_types))& (~ df['image_top'].isnull()) ]\n",
        "    valid_image_country_instrument_df.head()"
      ]
    },
    {
      "cell_type": "markdown",
      "source": [
        "Create a database of all instruments with valid front and back photos"
      ],
      "metadata": {
        "id": "xH-18_TxzfgG"
      },
      "id": "xH-18_TxzfgG"
    },
    {
      "cell_type": "code",
      "execution_count": null,
      "id": "02f12c7e",
      "metadata": {
        "id": "02f12c7e"
      },
      "outputs": [],
      "source": [
        "if LOAD_INS_VIEW or CREATE_DATABASE:\n",
        "    valid_image_back_front_df = df.loc[:, ['image_back', 'image_top']][(~ df['image_top'].isnull())].dropna(subset=['image_back'])\n",
        "    valid_image_back_front_df.head()"
      ]
    },
    {
      "cell_type": "markdown",
      "source": [
        "Create a database of instruments with a valid front image that is from one the seven most popular countries\n"
      ],
      "metadata": {
        "id": "-AoZcqOQzf7v"
      },
      "id": "-AoZcqOQzf7v"
    },
    {
      "cell_type": "code",
      "source": [
        "if LOAD_INS_COUNTRY or CREATE_DATABASE:\n",
        "    valid_image_country_df = df[ (df['country_made'].isin(popular_countries)) &(~ df['image_top'].isnull()) ]"
      ],
      "metadata": {
        "id": "4tRnPzlgL_iU"
      },
      "id": "4tRnPzlgL_iU",
      "execution_count": null,
      "outputs": []
    },
    {
      "cell_type": "markdown",
      "source": [
        "Create a database of instruments with a valid front image that has a valid front image"
      ],
      "metadata": {
        "id": "Vm_IOE7M0TxI"
      },
      "id": "Vm_IOE7M0TxI"
    },
    {
      "cell_type": "code",
      "execution_count": null,
      "id": "3765638a",
      "metadata": {
        "id": "3765638a"
      },
      "outputs": [],
      "source": [
        "if LOAD_INS_TYPE or LOAD_INS_BALANCED or CREATE_DATABASE:\n",
        "    valid_image_instrument_df = df[ (df['instrument_type'].isin(desired_instrument_types)) &(~ df['image_top'].isnull()) ]"
      ]
    },
    {
      "cell_type": "code",
      "execution_count": null,
      "id": "8b72e4d7",
      "metadata": {
        "id": "8b72e4d7"
      },
      "outputs": [],
      "source": [
        "if REDUCE_MEM:\n",
        "    del df"
      ]
    },
    {
      "cell_type": "markdown",
      "id": "03cdc496",
      "metadata": {
        "id": "03cdc496"
      },
      "source": [
        "## Data Categorization\n",
        "Convert instrument type and country made location to categorical variables as an extra column each."
      ]
    },
    {
      "cell_type": "code",
      "execution_count": null,
      "id": "a81e4897",
      "metadata": {
        "id": "a81e4897",
        "colab": {
          "base_uri": "https://localhost:8080/"
        },
        "outputId": "ed69b376-c39c-424e-9275-a1942638b126"
      },
      "outputs": [
        {
          "output_type": "stream",
          "name": "stdout",
          "text": [
            "{0: 'Italia', 1: 'France', 2: 'United Kingdom', 3: 'United States', 4: 'Deutschland', 5: 'Österreich', 6: 'Nederland'}\n",
            "{0: 'Violin', 1: 'Cello', 2: 'Viola', 3: 'Bass'}\n"
          ]
        }
      ],
      "source": [
        "if LOAD_INS_COUNTRY or LOAD_INS_TYPE or LOAD_INS_BALANCED:\n",
        "  country_to_idx = {ch:i for i,ch in enumerate(popular_countries)}\n",
        "  idx_to_country = {i:ch for i,ch in enumerate(popular_countries)}\n",
        "  print(idx_to_country)\n",
        "  instrument_type_to_idx = {ch:i for i,ch in enumerate(desired_instrument_types)}\n",
        "  idx_to_instrument_type = {i:ch for i,ch in enumerate(desired_instrument_types)}\n",
        "  print(idx_to_instrument_type)"
      ]
    },
    {
      "cell_type": "code",
      "execution_count": null,
      "id": "f73bff91",
      "metadata": {
        "id": "f73bff91"
      },
      "outputs": [],
      "source": [
        "# Creates Categorization Column for instrument type for valid_image_instrument_df\n",
        "if CREATE_DATABASE or LOAD_INS_TYPE:\n",
        "  fn_instrument = lambda row: instrument_type_to_idx[row.instrument_type] # define a function for the new column\n",
        "  col_instrument = valid_image_instrument_df.apply(fn_instrument, axis=1) # get column data with an index\n",
        "  valid_image_instrument_df = valid_image_instrument_df.assign(categorical_instrument=col_instrument.values) # assign values to column 'c'\n",
        "  print(\"valid_instrument_df.shape: {}\".format(valid_image_instrument_df.shape))"
      ]
    },
    {
      "cell_type": "code",
      "execution_count": null,
      "id": "9fe93a69",
      "metadata": {
        "id": "9fe93a69",
        "colab": {
          "base_uri": "https://localhost:8080/"
        },
        "outputId": "18d9682b-842d-41a2-b976-d3982ff3439a"
      },
      "outputs": [
        {
          "output_type": "stream",
          "name": "stdout",
          "text": [
            "Instruments in valid_image_country_df: 7904\n"
          ]
        }
      ],
      "source": [
        "# Creates Categorization Column for country made\n",
        "if CREATE_DATABASE or LOAD_INS_COUNTRY:\n",
        "  fn_country = lambda row: country_to_idx[row.country_made] # define a function for the new column\n",
        "  col_country = valid_image_country_df.apply(fn_country, axis=1) # get column data with an index\n",
        "  valid_image_country_df = valid_image_country_df.assign(categorical_country=col_country.values) # assign values to column 'c'\n",
        "  print(\"Instruments in valid_image_country_df: {}\".format(valid_image_country_df.shape[0]))"
      ]
    },
    {
      "cell_type": "code",
      "source": [
        "'''\n",
        "  For future optimization: For benchmark testing, get multiple samples so that each test_loader is unique to improve reliability of accuracy scoring. \n",
        "'''\n",
        "def get_samples(df, balance_type = None, num_samples = 1):\n",
        "  df=df.reset_index(drop=True)\n",
        "  n_total = df.shape[0]\n",
        "  samples_list = []\n",
        "  for sample_num in range(num_samples):\n",
        "    # Future Optimizations: This code could be modified to increase generalizability \n",
        "    if balance_type==\"instrument_type\":\n",
        "      index_violins = df.index[df['categorical_instrument'] == 0].tolist()\n",
        "      index_violas = df.index[df['categorical_instrument'] == 1].tolist()\n",
        "      index_cellos = df.index[df['categorical_instrument'] == 2].tolist()\n",
        "      index_violins_test = random.sample(index_violins,34)\n",
        "      index_violas_test = random.sample(index_violas,33)\n",
        "      index_cellos_test = random.sample(index_cellos,33)\n",
        "      test_indices = index_violins_test + index_violas_test + index_cellos_test\n",
        "    elif balance_type==\"country_made\":\n",
        "      index_italy = df.index[df['categorical_country'] == 0].tolist()\n",
        "      index_france = df.index[df['categorical_country'] == 1].tolist()\n",
        "      index_uk = df.index[df['categorical_country'] == 2].tolist()\n",
        "      index_usa = df.index[df['categorical_country'] == 3].tolist()\n",
        "      index_germany = df.index[df['categorical_country'] == 4].tolist()\n",
        "      index_austria = df.index[df['categorical_country'] == 5].tolist()\n",
        "      index_holland = df.index[df['categorical_country'] == 6].tolist()\n",
        "\n",
        "      index_italy_test = random.sample(index_italy,15)\n",
        "      index_france_test = random.sample(index_france,15)\n",
        "      index_uk_test = random.sample(index_uk,14)\n",
        "      index_usa_test = random.sample(index_usa,14)\n",
        "      index_germany_test = random.sample(index_germany,14)\n",
        "      index_austria_test = random.sample(index_austria,14)\n",
        "      index_holland_test = random.sample(index_holland,14)\n",
        "      test_indices = index_italy_test + index_france_test + index_uk_test + index_usa_test + index_germany_test + index_austria_test + index_holland_test\n",
        "    else:\n",
        "      test_indices = random.sample(range(n_total), int(.1*n_total))\n",
        "    not_test_indices = list(set(range(n_total)) - set(test_indices))\n",
        "    num_train = int(len(not_test_indices)*.8)\n",
        "    train_indices = random.sample(not_test_indices, num_train)\n",
        "    val_indices = list(set(range(n_total)) - set(train_indices) - set(test_indices))\n",
        "\n",
        "    # Ensure that all index values are unique. Not efficient code, but doesn't matter due to only O(N^2) time\n",
        "    for i in val_indices:\n",
        "      assert i not in train_indices\n",
        "      assert i not in test_indices\n",
        "    for i in train_indices:\n",
        "      assert i not in val_indices\n",
        "      assert i not in test_indices\n",
        "    for i in test_indices:\n",
        "      assert i not in val_indices\n",
        "      assert i not in train_indices\n",
        "    # Sanity length check\n",
        "    assert len(test_indices) + len(train_indices) + len(val_indices) == n_total\n",
        "    train_sampler = SubsetRandomSampler(train_indices)\n",
        "    test_sampler = SubsetRandomSampler(test_indices)\n",
        "    val_sampler = SubsetRandomSampler(val_indices)\n",
        "    samples_list.append( (train_sampler, test_sampler, val_sampler))\n",
        "  return samples_list\n"
      ],
      "metadata": {
        "id": "yhUgKD34pUAd"
      },
      "id": "yhUgKD34pUAd",
      "execution_count": null,
      "outputs": []
    },
    {
      "cell_type": "code",
      "execution_count": null,
      "id": "f9f65335",
      "metadata": {
        "id": "f9f65335"
      },
      "outputs": [],
      "source": [
        "if LOAD_INS_BALANCED or CREATE_DATABASE:\n",
        "    violins_sampled = valid_image_instrument_df[valid_image_instrument_df[\"categorical_instrument\"]==0].sample(n=654)\n",
        "    violas_sampled = valid_image_instrument_df[valid_image_instrument_df[\"categorical_instrument\"]==1].sample(n=654)\n",
        "    cellos_sampled = valid_image_instrument_df[valid_image_instrument_df[\"categorical_instrument\"]==2].sample(n=654)\n",
        "    frames = [violins_sampled, violas_sampled, cellos_sampled]\n",
        "    balanced_instrument_df = pd.concat(frames)\n",
        "    balanced_instrument_df[\"instrument_type\"].value_counts()\n",
        "    balanced_image_instrument_type_only = balanced_instrument_df[[\"image_top\",\"categorical_instrument\"]]\n",
        "    del balanced_instrument_df\n",
        "    samples_balanced = get_samples(balanced_image_instrument_type_only, balance_type=\"instrument_type\", num_samples=1)\n",
        "    balanced_image_instrument_type_only = balanced_image_instrument_type_only.to_numpy()"
      ]
    },
    {
      "cell_type": "code",
      "execution_count": null,
      "id": "e1282819",
      "metadata": {
        "id": "e1282819"
      },
      "outputs": [],
      "source": [
        "if LOAD_INS_COUNTRY or CREATE_DATABASE:\n",
        "    valid_image_country_df = valid_image_country_df.reindex(columns=['image_top', 'maker_name', 'country_made', 'city_made', 'year_made',\n",
        "           'instrument_type', 'year_sold', 'sale_price_USD',\n",
        "           'categorical_country'])"
      ]
    },
    {
      "cell_type": "code",
      "execution_count": null,
      "id": "9f6de375",
      "metadata": {
        "id": "9f6de375"
      },
      "outputs": [],
      "source": [
        "if LOAD_INS_TYPE or CREATE_DATABASE:\n",
        "  image_instrument_type_only = valid_image_instrument_df[[\"image_top\",\"categorical_instrument\"]]"
      ]
    },
    {
      "cell_type": "code",
      "source": [
        "if LOAD_INS_COUNTRY or CREATE_DATABASE:\n",
        "  image_country_only = valid_image_country_df[[\"image_top\",\"categorical_country\"]]"
      ],
      "metadata": {
        "id": "8GN4Ou-FSo9S"
      },
      "id": "8GN4Ou-FSo9S",
      "execution_count": null,
      "outputs": []
    },
    {
      "cell_type": "code",
      "source": [
        "valid_image_country_PIK = \"drive/MyDrive/CS342/valid_image_country_df.dat\"\n",
        "valid_image_instrument_PIK = \"drive/MyDrive/CS342/valid_image_instrument_df.dat\"\n",
        "valid_image_country_instrument_PIK = \"drive/MyDrive/CS342/valid_image_country_instrument_df.dat\"\n",
        "valid_image_back_front_PIK = \"drive/MyDrive/CS342/valid_image_back_front.dat\"\n",
        "image_instrument_type_only_PIK = \"drive/MyDrive/CS342/image_instrument_type_only.dat\"\n",
        "image_country_only_PIK = \"drive/MyDrive/CS342/image_country_only.dat\""
      ],
      "metadata": {
        "id": "77x5SKPaKnPW"
      },
      "id": "77x5SKPaKnPW",
      "execution_count": null,
      "outputs": []
    },
    {
      "cell_type": "markdown",
      "source": [
        "Dump or load necessary dataframes"
      ],
      "metadata": {
        "id": "cimOq5FV4eEE"
      },
      "id": "cimOq5FV4eEE"
    },
    {
      "cell_type": "code",
      "source": [
        "if CREATE_DATABASE:\n",
        "    with open(valid_image_country_PIK, \"wb\") as f:\n",
        "        pickle.dump(valid_image_country_df, f)\n",
        "    with open(valid_image_instrument_PIK, \"wb\") as f:\n",
        "        pickle.dump(valid_image_instrument_df, f)\n",
        "    with open(valid_image_country_PIK, \"wb\") as f:\n",
        "        pickle.dump(valid_image_country_instrument_df, f)\n",
        "    with open(valid_image_back_front_PIK, \"wb\") as f:\n",
        "        # numpy array of image data with front and back images labeled 0 and 1\n",
        "        pickle.dump(valid_image_back_front, f)\n",
        "    with open(image_instrument_type_only_PIK, \"wb\") as f:\n",
        "        pickle.dump(image_instrument_type_only, f)\n",
        "    with open(image_country_only_PIK, \"wb\") as f:\n",
        "        pickle.dump(image_country_only, f)"
      ],
      "metadata": {
        "id": "PcXYaP1EKno4"
      },
      "id": "PcXYaP1EKno4",
      "execution_count": null,
      "outputs": []
    },
    {
      "cell_type": "markdown",
      "id": "404e015b",
      "metadata": {
        "id": "404e015b"
      },
      "source": [
        "## A Few Data Stat Visualization"
      ]
    },
    {
      "cell_type": "code",
      "execution_count": null,
      "id": "5cc7170d",
      "metadata": {
        "id": "5cc7170d",
        "colab": {
          "base_uri": "https://localhost:8080/"
        },
        "outputId": "eb29ad7c-e4cd-4585-aa3d-60c271a0f8dc"
      },
      "outputs": [
        {
          "output_type": "stream",
          "name": "stdout",
          "text": [
            "Instruments in valid_image_country_df: 7904\n",
            "Instruments in valid_image_country_instrument_df: 7848\n"
          ]
        }
      ],
      "source": [
        "try:\n",
        "  print(\"Instruments in df: {}\".format(df.shape[0]))\n",
        "except Exception:\n",
        "  pass\n",
        "try:\n",
        "  print(\"Instruments in valid_image_country_df: {}\".format(valid_image_country_df.shape[0]))\n",
        "except Exception:\n",
        "  pass\n",
        "try:\n",
        "  print(\"Instruments in valid_image_country_instrument_df: {}\".format(valid_image_country_instrument_df.shape[0]))\n",
        "except Exception:\n",
        "  pass\n",
        "try:\n",
        "  print(\"Instruments in valid_image_back_front: {}\".format(valid_image_back_front.shape[0]))\n",
        "except Exception:\n",
        "  pass"
      ]
    },
    {
      "cell_type": "code",
      "execution_count": null,
      "id": "36c61b33",
      "metadata": {
        "id": "36c61b33"
      },
      "outputs": [],
      "source": [
        "if REDUCE_MEM:\n",
        "  try:\n",
        "      del valid_image_country_instrument_df\n",
        "  except:\n",
        "      pass"
      ]
    },
    {
      "cell_type": "code",
      "execution_count": null,
      "id": "2e7c3c12",
      "metadata": {
        "id": "2e7c3c12",
        "colab": {
          "base_uri": "https://localhost:8080/"
        },
        "outputId": "fda15780-5129-4e37-d158-6a7cbb39fc17"
      },
      "outputs": [
        {
          "output_type": "stream",
          "name": "stdout",
          "text": [
            "Violin    6959\n",
            "Viola      795\n",
            "Cello      654\n",
            "Bass        10\n",
            "Name: instrument_type, dtype: int64\n",
            "Violins account for 82 percent of all instruments\n"
          ]
        }
      ],
      "source": [
        "if LOAD_INS_TYPE:\n",
        "  percent_violin = int(100*max(valid_image_instrument_df['instrument_type'].value_counts())/sum(valid_image_instrument_df['instrument_type'].value_counts()))\n",
        "  print(valid_image_instrument_df['instrument_type'].value_counts())\n",
        "  print(\"Violins account for {} percent of all instruments\".format(percent_violin))"
      ]
    },
    {
      "cell_type": "code",
      "execution_count": null,
      "id": "8fba99a5",
      "metadata": {
        "id": "8fba99a5",
        "colab": {
          "base_uri": "https://localhost:8080/"
        },
        "outputId": "5c0debcc-c187-4b5c-8671-b283f4a6edb9"
      },
      "outputs": [
        {
          "output_type": "stream",
          "name": "stdout",
          "text": [
            "Italian instruments account for 62.3% percent of all instruments\n"
          ]
        }
      ],
      "source": [
        "if LOAD_INS_COUNTRY:\n",
        "  valid_image_country_df[\"country_made\"].value_counts()\n",
        "  percent_italian_instruments =  max(valid_image_country_df[\"country_made\"].value_counts())/sum(valid_image_country_df[\"country_made\"].value_counts())\n",
        "  print(\"Italian instruments account for {:.1%} percent of all instruments\".format(percent_italian_instruments))"
      ]
    },
    {
      "cell_type": "markdown",
      "source": [
        "###Computational Experiment: Balanced Dataset versus Weighted Loss\n",
        "Question: How should I handle imbalanced class data?\n",
        "The Instrument Dataset I have collected is extremely unbalanced. 86% of all instruments are violins, with the remaining 14% consisting mainly of violas and cellos. With a normal loss function and unbalanced dataset, our model will struggle to learn and identify rare classes. The model will almost always predict Violin, and learning may plateau. I am testing two different techniques used to handle an unbalanced dataset.<br>\n",
        "Option 1: \n",
        "Balance the Dataset by sampling an equal number of Violin, Violas and Cellos.<br>\n",
        "Option 2: \n",
        "Have a different weight for each class (with larger weights for rare classes) and then normalize by the sum of the weights.\n"
      ],
      "metadata": {
        "id": "fHf-6fzr-324"
      },
      "id": "fHf-6fzr-324"
    },
    {
      "cell_type": "code",
      "execution_count": null,
      "id": "ec97d128",
      "metadata": {
        "id": "ec97d128"
      },
      "outputs": [],
      "source": [
        "# Option 2 of different weights for each label\n",
        "if LOAD_INS_TYPE or LOAD_INS_BALANCED:\n",
        "  class_weights_ins = torch.Tensor([1/i for i in valid_image_instrument_df.categorical_instrument.value_counts() / len(valid_image_instrument_df)]).to(device)\n",
        "  class_weights_ins"
      ]
    },
    {
      "cell_type": "code",
      "execution_count": null,
      "id": "ef84ae51",
      "metadata": {
        "id": "ef84ae51",
        "colab": {
          "base_uri": "https://localhost:8080/"
        },
        "outputId": "c62ef94a-fa82-421e-ee6b-eb8f646e2012"
      },
      "outputs": [
        {
          "output_type": "stream",
          "name": "stdout",
          "text": [
            "tensor([  1.6062,   6.2236,  11.7794,  17.2576,  20.0101,  68.1379, 108.2740],\n",
            "       device='cuda:0')\n"
          ]
        }
      ],
      "source": [
        "# Option 2 of different weights for each label\n",
        "if LOAD_INS_COUNTRY:\n",
        "  class_weights_country_made = torch.Tensor([1/i for i in valid_image_country_df.categorical_country.value_counts() / len(valid_image_country_df)]).to(device)\n",
        "  print(class_weights_country_made)"
      ]
    },
    {
      "cell_type": "code",
      "source": [
        "if LOAD_INS_TYPE:\n",
        "  ins_type_samples = get_samples(image_instrument_type_only, balance_type=\"instrument_type\",num_samples = 1) \n",
        "  image_ins_type_only = image_instrument_type_only.to_numpy()  "
      ],
      "metadata": {
        "id": "oxBsNUNq0ZdE"
      },
      "id": "oxBsNUNq0ZdE",
      "execution_count": null,
      "outputs": []
    },
    {
      "cell_type": "code",
      "source": [
        "if LOAD_INS_COUNTRY:\n",
        "  ins_country_samples = get_samples(image_country_only, balance_type=\"country_made\", num_samples = 1)  \n",
        "  image_country_only = image_country_only.to_numpy() "
      ],
      "metadata": {
        "id": "IVrsAn5Y0Zsy"
      },
      "id": "IVrsAn5Y0Zsy",
      "execution_count": null,
      "outputs": []
    },
    {
      "cell_type": "code",
      "source": [
        "if LOAD_INS_VIEW:\n",
        "  # no need balance because database is already 50% front and back instruments\n",
        "  ins_view_samples = get_samples(valid_image_back_front_df, balance_type=None, num_samples=1)\n",
        "  valid_image_back_front = valid_image_back_front_df.to_numpy()  \n",
        "  del valid_image_back_front_df\n",
        "  type(valid_image_back_front)"
      ],
      "metadata": {
        "id": "OlPACR0O0Z9f"
      },
      "id": "OlPACR0O0Z9f",
      "execution_count": null,
      "outputs": []
    },
    {
      "cell_type": "markdown",
      "id": "c9d56133",
      "metadata": {
        "id": "c9d56133"
      },
      "source": [
        "## Image Processing:\n",
        "Normalize pixel values to help each model learn.\n",
        "    "
      ]
    },
    {
      "cell_type": "markdown",
      "id": "40a3faee",
      "metadata": {
        "id": "40a3faee"
      },
      "source": [
        "### Computation Experiment: Image Normalization\n",
        "\n",
        "What types of Image Normalization and Standardization lead to the best performance?\n",
        "\n",
        "Option 1: Gloabal Standardization\n",
        "Calculate the standard deviation and mean across all images per RGB channel, then use these values to standardize the pixel values for each image.\n",
        "\n",
        "Option 2: Local Standardization\n",
        "Calculate the standard deviation and mean of one particular image per RGB channel, then use these statistics to standardize the pixels of the same particular image for each channel.\n"
      ]
    },
    {
      "cell_type": "code",
      "source": [
        "'''Global versus Local Standardization\n",
        "Imagine that each image is a (2, 3) array, where the dimension represents each color, and that there are three total images\n",
        "\n",
        "Image 1:  [1, 1, 1]\n",
        "          [1, 1, 1]\n",
        "\n",
        "Image 2:  [.5, .5, .5]\n",
        "          [.5, .5, .5]\n",
        "\n",
        "Image\n",
        "# [1,1,1,1] \n",
        "# [.5,.5,.5]\n",
        "\n",
        "# Local Standardization: Normalize with mean RGB values  of (.5,.5,.5)\n",
        "Image 1:  [.5,.5,.5]\n",
        "          [.5,.5,.5]\n",
        "Image 2:  [.5,.5,.5]\n",
        "          [.5,.5,.5]\n",
        "\n",
        "# Global Standardization: (Subtract the global mean of each color channel)\n",
        "Image 1:  [.25,.25,.25]\n",
        "          [.25,.25,.25]\n",
        "\n",
        "Image 2:  [-.25,-.25,-.25]\n",
        "          [-.25,-.25,-.25]\n",
        "'''\n"
      ],
      "metadata": {
        "id": "rLb8LCyc4gLs",
        "colab": {
          "base_uri": "https://localhost:8080/",
          "height": 105
        },
        "outputId": "ef41305f-f07e-4b34-cb29-8c4f29f5eb40"
      },
      "id": "rLb8LCyc4gLs",
      "execution_count": null,
      "outputs": [
        {
          "output_type": "execute_result",
          "data": {
            "text/plain": [
              "'Global versus Local Standardization\\nImagine that each image is a (2, 3) array, where the dimension represents each color, and that there are three total images\\n\\nImage 1:  [1, 1, 1]\\n          [1, 1, 1]\\n\\nImage 2:  [.5, .5, .5]\\n          [.5, .5, .5]\\n\\nImage\\n# [1,1,1,1] \\n# [.5,.5,.5]\\n\\n# Local Standardization: Normalize with mean RGB values  of (.5,.5,.5)\\nImage 1:  [.5,.5,.5]\\n          [.5,.5,.5]\\nImage 2:  [.5,.5,.5]\\n          [.5,.5,.5]\\n\\n# Global Standardization: (Subtract the global mean of each color channel)\\nImage 1:  [.25,.25,.25]\\n          [.25,.25,.25]\\n\\nImage 2:  [-.25,-.25,-.25]\\n          [-.25,-.25,-.25]\\n'"
            ],
            "application/vnd.google.colaboratory.intrinsic+json": {
              "type": "string"
            }
          },
          "metadata": {},
          "execution_count": 72
        }
      ]
    },
    {
      "cell_type": "code",
      "execution_count": null,
      "id": "eadc0753",
      "metadata": {
        "id": "eadc0753"
      },
      "outputs": [],
      "source": [
        "# Inspired From https://learnopencv.com/pytorch-for-beginners-image-classification-using-pre-trained-models/\n",
        "\n",
        "# Local Standardization\n",
        "transform_1 = transforms.Compose([\n",
        "#     transforms.ToPILImage(),\n",
        "    #[1]\n",
        " transforms.Resize([256, 256]),                  #[2]\n",
        "#  transforms.CenterCrop(224),                #[3]\n",
        " transforms.ToTensor(),                     #[4]\n",
        " transforms.Normalize(                      #[5]\n",
        " mean=[0.485, 0.456, 0.406],                #[6]\n",
        " std=[0.229, 0.224, 0.225]                  #[7]\n",
        "         )])\n",
        "# transform_2 = transforms.Compose([\n",
        "#         #     transforms.ToPILImage(),\n",
        "#             #[1]\n",
        "#          transforms.Resize([224, 224]),                 \n",
        "#         #  transforms.CenterCrop(224),               \n",
        "#          transforms.ToTensor(),\n",
        "#         transforms.FiveCrop(size=(100, 100)),\n",
        "# #          transforms.Normalize(                      \n",
        "# #          mean=[0.485, 0.456, 0.406],               \n",
        "# #          std=[0.2, 0.224, 0.225])               \n",
        "#          ])\n",
        "\n",
        "# Wait on performing global standardization inside preprocess_images function\n",
        "transform_3 = transforms.Compose([\n",
        "        #     transforms.ToPILImage(),\n",
        "            #[1]\n",
        "         transforms.Resize([224, 224]),                 \n",
        "#          transforms.CenterCrop(224),               \n",
        "         transforms.ToTensor(),             \n",
        "         ])"
      ]
    },
    {
      "cell_type": "code",
      "source": [
        "def convert_np_to_tensor(img_orig_np):\n",
        "    img = Image.fromarray(img_orig_np.astype('uint8'), 'RGB')\n",
        "    return img\n",
        "    \n",
        "def normalize_data(data):\n",
        "    return (data - np.min(data)) / (np.max(data) - np.min(data))\n",
        "\n",
        "def preprocess_images(image_arr, transform_funct, mode=\"positive_global_standardization\", image_in_index_1 = False):\n",
        "    if mode==\"positive_global_standardization\":     \n",
        "        mean_pixel_color_values = image_arr[0][0].reshape(-1, image_arr[0][0].shape[-1]).mean(axis=0)\n",
        "        print(\"mean_pixel_color_values: {}\" .format(mean_pixel_color_values))\n",
        "        for index, i in enumerate(image_arr):\n",
        "            i[0] = i[0].astype(np.float32) \n",
        "        for color_index, mean_val in enumerate(mean_pixel_color_values):\n",
        "            image_arr[0][0][:,:,color_index]-=mean_val\n",
        "            image_arr[0][0][:,:,color_index] /=255\n",
        "            image_arr[0][0][:,:,color_index] = normalize_data(image_arr[0][0][:,:,color_index])\n",
        "    elif mode==\"local_standardization\":\n",
        "        raise NotImplemented() # transformation currently occurs outside of function\n",
        "    for i in range(len(image_arr)):\n",
        "        image_arr[i][0] = convert_np_to_tensor(image_arr[i][0])\n",
        "        image_arr[i][0] = transform_funct(image_arr[i][0]) \n",
        "        if image_in_index_1:\n",
        "            image_arr[i][1] = convert_np_to_tensor(image_arr[i][1])\n",
        "            image_arr[i][1] = transform_funct(image_arr[i][1])\n",
        "    return image_arr"
      ],
      "metadata": {
        "id": "wXpeFh6KhG4n"
      },
      "id": "wXpeFh6KhG4n",
      "execution_count": null,
      "outputs": []
    },
    {
      "cell_type": "code",
      "execution_count": null,
      "id": "4d0ec9aa",
      "metadata": {
        "id": "4d0ec9aa"
      },
      "outputs": [],
      "source": [
        "def convert_np_to_tensor(img_orig_np):\n",
        "    img = Image.fromarray(img_orig_np.astype('uint8'), 'RGB')\n",
        "    return img\n",
        "    \n",
        "def normalize_data(data):\n",
        "    return (data - np.min(data)) / (np.max(data) - np.min(data))\n",
        "\n",
        "def preprocess_images(image_arr, transform_funct, mode=\"positive_global_standardization\", image_in_index_1 = False):\n",
        "    if mode==\"positive_global_standardization\":     \n",
        "        mean_pixel_color_values = image_arr[0][0].reshape(-1, image_arr[0][0].shape[-1]).mean(axis=0)\n",
        "        print(\"mean_pixel_color_values: {}\" .format(mean_pixel_color_values))\n",
        "        for i in image_arr:\n",
        "            i[0] = i[0].astype(np.float32)\n",
        "        for color_index, mean_val in enumerate(mean_pixel_color_values):\n",
        "            image_arr[0][0][:,:,color_index]-=mean_val\n",
        "            image_arr[0][0][:,:,color_index] /=255\n",
        "            image_arr[0][0][:,:,color_index] = normalize_data(image_arr[0][0][:,:,color_index])\n",
        "    elif mode==\"local_standardization\":\n",
        "        raise NotImplemented()\n",
        "    for i in range(len(image_arr)):\n",
        "        image_arr[i][0] = convert_np_to_tensor(image_arr[i][0])\n",
        "        image_arr[i][0] = transform_funct(image_arr[i][0]) \n",
        "        if image_in_index_1:\n",
        "            image_arr[i][1] = convert_np_to_tensor(image_arr[i][1])\n",
        "            image_arr[i][1] = transform_funct(image_arr[i][1])\n",
        "    return image_arr"
      ]
    },
    {
      "cell_type": "code",
      "execution_count": null,
      "id": "c8b34cb1",
      "metadata": {
        "id": "c8b34cb1"
      },
      "outputs": [],
      "source": [
        "if LOAD_INS_BALANCED or CREATE_DATABASE:\n",
        "    balanced_image_ins_type_only = preprocess_images(balanced_image_instrument_type_only, transform_3, mode=\"positive_global_standardization\")"
      ]
    },
    {
      "cell_type": "code",
      "source": [
        "if LOAD_INS_COUNTRY or CREATE_DATABASE:\n",
        "  image_country_only = preprocess_images(image_country_only, transform_3, mode=\"positive_global_standardization\") "
      ],
      "metadata": {
        "id": "UyHR3umUww14",
        "colab": {
          "base_uri": "https://localhost:8080/"
        },
        "outputId": "43ddca83-9d60-4477-ddbe-240d410786f4"
      },
      "id": "UyHR3umUww14",
      "execution_count": null,
      "outputs": [
        {
          "output_type": "stream",
          "name": "stdout",
          "text": [
            "mean_pixel_color_values: [177.3052063  186.73027039 204.57907104]\n"
          ]
        }
      ]
    },
    {
      "cell_type": "code",
      "source": [
        "if LOAD_INS_TYPE or CREATE_DATABASE:\n",
        "  image_ins_type_only = preprocess_images(image_ins_type_only, transform_3, mode=\"positive_global_standardization\")"
      ],
      "metadata": {
        "id": "JCSpP6XBYmXe"
      },
      "id": "JCSpP6XBYmXe",
      "execution_count": null,
      "outputs": []
    },
    {
      "cell_type": "code",
      "execution_count": null,
      "id": "2dc08632",
      "metadata": {
        "id": "2dc08632"
      },
      "outputs": [],
      "source": [
        "if LOAD_INS_VIEW or CREATE_DATABASE:\n",
        "  valid_image_back_front = preprocess_images(valid_image_back_front, transform_3, mode=\"positive_global_standardization\", image_in_index_1 = True)"
      ]
    },
    {
      "cell_type": "code",
      "source": [
        "if CREATE_DATABASE:\n",
        "    with open(\"drive/MyDrive/CS342/class_weights_country_made.dat\", \"wb\") as f:\n",
        "        pickle.dump(class_weights_country_made, f)\n",
        "if LOAD_INS_COUNTRY:\n",
        "    if \"class_weights_country_made\" not in locals():\n",
        "      with open(\"drive/MyDrive/CS342/class_weights_country_made.dat\", \"rb\") as f:\n",
        "          class_weights_country_made = pickle.load(f)"
      ],
      "metadata": {
        "id": "zz4ZLeLXNUNs"
      },
      "id": "zz4ZLeLXNUNs",
      "execution_count": null,
      "outputs": []
    },
    {
      "cell_type": "code",
      "source": [
        "if CREATE_DATABASE:\n",
        "    with open(\"drive/MyDrive/CS342/image_ins_type_only.dat\", \"wb\") as f:\n",
        "        pickle.dump(image_ins_type_only, f)\n",
        "if LOAD_INS_TYPE:\n",
        "    if \"image_ins_type_only\" not in locals():\n",
        "      with open(\"drive/MyDrive/CS342/image_ins_type_only.dat\", \"rb\") as f:\n",
        "        image_ins_type_only = pickle.load(f)"
      ],
      "metadata": {
        "id": "uYcVvPi0Mqnk"
      },
      "id": "uYcVvPi0Mqnk",
      "execution_count": null,
      "outputs": []
    },
    {
      "cell_type": "code",
      "source": [
        "if CREATE_DATABASE:\n",
        "    with open(\"drive/MyDrive/CS342/image_country_only.dat\", \"wb\") as f:\n",
        "        pickle.dump(image_country_only, f)\n",
        "if LOAD_INS_COUNTRY:\n",
        "    if \"image_country_only\" not in locals():\n",
        "      with open(\"drive/MyDrive/CS342/image_country_only.dat\", \"rb\") as f:\n",
        "        image_country_only = pickle.load(f)"
      ],
      "metadata": {
        "id": "jCD-2zyvoblj"
      },
      "id": "jCD-2zyvoblj",
      "execution_count": null,
      "outputs": []
    },
    {
      "cell_type": "code",
      "source": [
        "if CREATE_DATABASE:\n",
        "    with open(\"drive/MyDrive/CS342/valid_image_back_front.dat\", \"wb\") as f:\n",
        "        pickle.dump(valid_image_back_front, f)\n",
        "if LOAD_INS_VIEW:\n",
        "    if \"valid_image_back_front\" not in locals():\n",
        "      with open(\"drive/MyDrive/CS342/valid_image_back_front.dat\", \"rb\") as f:\n",
        "          valid_image_back_front = pickle.load(f)"
      ],
      "metadata": {
        "id": "O82wedUjMto8"
      },
      "id": "O82wedUjMto8",
      "execution_count": null,
      "outputs": []
    },
    {
      "cell_type": "code",
      "execution_count": null,
      "id": "41b72511",
      "metadata": {
        "id": "41b72511"
      },
      "outputs": [],
      "source": [
        "'''\n",
        "Coverts an array of rows wherethere are two columns (one image of front and one image of back) \n",
        "into an array with twice as many rows where the first column is either a photo of the front or back \n",
        "and the second column is the label.\n",
        "'''\n",
        "def create_image_to_back_or_front_category_np(image_arr_all):\n",
        "    image_category_list = []\n",
        "    for index, image_arr in enumerate(image_arr_all):\n",
        "        image_category_pair_1 = np.array([image_arr[0], 0], dtype=object)\n",
        "        image_category_list.append(image_category_pair_1)\n",
        "        image_category_pair_2 = np.array([image_arr[1], 1], dtype=object)\n",
        "        image_category_list.append(image_category_pair_2)\n",
        "\n",
        "    image_category_np = np.array(image_category_list)\n",
        "    del image_category_list\n",
        "    print(\"image_category_np.shape: {}\".format(image_category_np.shape))\n",
        "    return image_category_np"
      ]
    },
    {
      "cell_type": "code",
      "source": [
        "if LOAD_INS_VIEW:\n",
        "  image_to_back_or_front_category_np = create_image_to_back_or_front_category_np(valid_image_back_front)\n",
        "  print(\"image_to_back_or_front_category_np[7000][0].shape: {} \".format(image_to_back_or_front_category_np[7000][0].shape))"
      ],
      "metadata": {
        "id": "NYT6lLmgVhPt"
      },
      "id": "NYT6lLmgVhPt",
      "execution_count": null,
      "outputs": []
    },
    {
      "cell_type": "markdown",
      "source": [
        "## Data Loading:\n",
        "  Since the image files take up a lot of RAM, below is code to import only the files that you need"
      ],
      "metadata": {
        "id": "JNIpAhLAZbum"
      },
      "id": "JNIpAhLAZbum"
    },
    {
      "cell_type": "code",
      "source": [
        "if CREATE_DATABASE:\n",
        "    with open(\"drive/MyDrive/CS342/class_weights_ins.dat\", \"wb\") as f:\n",
        "        pickle.dump(class_weights_ins, f)\n",
        "if LOAD_INS_VIEW or LOAD_INS_TYPE:\n",
        "    if \"class_weights_ins\" not in locals():\n",
        "      with open(\"drive/MyDrive/CS342/class_weights_ins.dat\", \"rb\") as f:\n",
        "          class_weights_ins = pickle.load(f)"
      ],
      "metadata": {
        "id": "WXGETYmgZVXn"
      },
      "id": "WXGETYmgZVXn",
      "execution_count": null,
      "outputs": []
    },
    {
      "cell_type": "code",
      "source": [
        "# Note: On Google Colab, this database takes over half of allocated RAM\n",
        "if CREATE_DATABASE:\n",
        "  with open(\"drive/MyDrive/CS342/image_to_back_or_front_category_np.dat\", \"wb\") as f:\n",
        "      pickle.dump(image_to_back_or_front_category_np, f)\n",
        "if LOAD_INS_VIEW:\n",
        "  if \"image_to_back_or_front_category_np\" not in locals():\n",
        "    with open(\"drive/MyDrive/CS342/image_to_back_or_front_category_np.dat\", \"rb\") as f:\n",
        "        image_to_back_or_front_category_np = pickle.load(f)"
      ],
      "metadata": {
        "id": "X4QfEYtrWHCn"
      },
      "id": "X4QfEYtrWHCn",
      "execution_count": null,
      "outputs": []
    },
    {
      "cell_type": "code",
      "execution_count": null,
      "id": "ebcd8a30",
      "metadata": {
        "scrolled": false,
        "id": "ebcd8a30",
        "colab": {
          "base_uri": "https://localhost:8080/",
          "height": 271
        },
        "outputId": "ee3048aa-3cbc-4dbf-8ad9-3a2729d9a741"
      },
      "outputs": [
        {
          "output_type": "display_data",
          "data": {
            "text/plain": [
              "<Figure size 432x288 with 2 Axes>"
            ],
            "image/png": "[encoded data removed]"
          },
          "metadata": {
            "needs_background": "light"
          }
        }
      ],
      "source": [
        "if LOAD_INS_VIEW:\n",
        "  show_image_processed(image_to_back_or_front_category_np[7000][0])\n",
        "if LOAD_INS_COUNTRY:\n",
        "  show_image_processed(image_country_only[7000][0])\n",
        "if LOAD_INS_TYPE:\n",
        "  show_image_processed(image_ins_type_only[7000][0])"
      ]
    },
    {
      "cell_type": "markdown",
      "id": "484bad78",
      "metadata": {
        "id": "484bad78"
      },
      "source": [
        "## Create PyTorch Dataset & DataLoaders"
      ]
    },
    {
      "cell_type": "code",
      "execution_count": null,
      "id": "d297994f",
      "metadata": {
        "id": "d297994f"
      },
      "outputs": [],
      "source": [
        "class InstrumentDataset(Dataset):\n",
        "    def __init__(self, data_as_np):\n",
        "        # data loading\n",
        "        self.x = data_as_np[:, 0]\n",
        "        self.y = data_as_np[:, 1]\n",
        "        self.n_samples = data_as_np.shape[0]\n",
        "    def __getitem__(self, index):\n",
        "        return self.x[index], self.y[index]\n",
        "    \n",
        "    def __len__(self):\n",
        "        return self.n_samples"
      ]
    },
    {
      "cell_type": "markdown",
      "id": "af2b4e29",
      "metadata": {
        "id": "af2b4e29"
      },
      "source": [
        "### Get instrument and country Dataset and DataLoader"
      ]
    },
    {
      "cell_type": "code",
      "execution_count": null,
      "id": "d01fdf63",
      "metadata": {
        "id": "d01fdf63"
      },
      "outputs": [],
      "source": [
        "def get_data_loaders(numpy_arr, train_sampler, test_sampler, val_sampler, batch_size):\n",
        "    dataset = InstrumentDataset(numpy_arr)\n",
        "    train_loader = torch.utils.data.DataLoader(dataset, batch_size=batch_size,  sampler=train_sampler)\n",
        "    val_loader = torch.utils.data.DataLoader(dataset, batch_size=batch_size,  sampler=val_sampler)\n",
        "    test_loader = torch.utils.data.DataLoader(dataset, batch_size=batch_size, sampler=test_sampler)\n",
        "    return train_loader, val_loader, test_loader\n",
        "\n",
        "def convert_np_array_to_dataloaders(numpy_arr, samples, batch_size=8):\n",
        "    train_sampler, test_sampler, val_sampler = samples\n",
        "    train_loader, val_loader, test_loader = get_data_loaders(numpy_arr, train_sampler, test_sampler, val_sampler, batch_size)\n",
        "    return train_loader, val_loader, test_loader\n",
        "                               "
      ]
    },
    {
      "cell_type": "markdown",
      "source": [
        "Future optimizations: create multiple dataloader objects for each categorization problem"
      ],
      "metadata": {
        "id": "69Do_B3FHMG_"
      },
      "id": "69Do_B3FHMG_"
    },
    {
      "cell_type": "code",
      "source": [
        "if LOAD_INS_TYPE:\n",
        "  train_loader_ins, val_loader_ins, test_loader_ins = convert_np_array_to_dataloaders(image_ins_type_only,ins_type_samples[0])"
      ],
      "metadata": {
        "id": "7a_kBO5UPFYM"
      },
      "id": "7a_kBO5UPFYM",
      "execution_count": null,
      "outputs": []
    },
    {
      "cell_type": "code",
      "source": [
        "if LOAD_INS_COUNTRY:\n",
        "  train_loader_country, val_loader_country, test_loader_country= convert_np_array_to_dataloaders(image_country_only, ins_country_samples[0])"
      ],
      "metadata": {
        "id": "bzgfTY8POylW"
      },
      "id": "bzgfTY8POylW",
      "execution_count": null,
      "outputs": []
    },
    {
      "cell_type": "code",
      "source": [
        "if LOAD_INS_VIEW:\n",
        "  ins_view_loaders = convert_np_array_to_dataloaders(image_to_back_or_front_category_np, ins_view_samples[0]) # View corresponds to front of instrument or back of instrument\n",
        "  train_loader_ins_view, val_loader_ins_view, test_loader_ins_view = ins_view_loaders"
      ],
      "metadata": {
        "id": "7zKyHlbNJNyS"
      },
      "id": "7zKyHlbNJNyS",
      "execution_count": null,
      "outputs": []
    },
    {
      "cell_type": "code",
      "source": [
        "if LOAD_INS_BALANCED:\n",
        "  train_loader_ins_balanced, val_loader_ins_balanced, test_loader_ins_balanced = convert_np_array_to_dataloaders(balanced_image_ins_type_only, samples_balanced[0])"
      ],
      "metadata": {
        "id": "fH9cYyCx6Yrf"
      },
      "id": "fH9cYyCx6Yrf",
      "execution_count": null,
      "outputs": []
    },
    {
      "cell_type": "code",
      "source": [
        "if CREATE_DATABASE:\n",
        "  with open(\"drive/MyDrive/CS342/train_loader_country.dat\", \"wb\") as f:\n",
        "    pickle.dump(train_loader_country, f)\n",
        "  with open(\"drive/MyDrive/CS342/val_loader_country.dat\", \"wb\") as f:\n",
        "    pickle.dump(val_loader_country, f)\n",
        "  with open(\"drive/MyDrive/CS342/test_loader_country.dat\", \"wb\") as f:\n",
        "    pickle.dump(test_loader_country, f)\n",
        "\n",
        "  with open(\"drive/MyDrive/CS342/train_loader_ins_view.dat\", \"wb\") as f:\n",
        "    pickle.dump(train_loader_ins_view, f)\n",
        "  with open(\"drive/MyDrive/CS342/val_loader_ins_view.dat\", \"wb\") as f:\n",
        "    pickle.dump(val_loader_ins_view, f)\n",
        "  with open(\"drive/MyDrive/CS342/test_loader_ins_view.dat\", \"wb\") as f:\n",
        "    pickle.dump(test_loader_ins_view, f)\n",
        "\n",
        "  with open(\"drive/MyDrive/CS342/train_loader_ins.dat\", \"wb\") as f:\n",
        "    pickle.dump(train_loader_ins, f)\n",
        "  with open(\"drive/MyDrive/CS342/val_loader_ins.dat\", \"wb\") as f:\n",
        "    pickle.dump(val_loader_ins, f)\n",
        "  with open(\"drive/MyDrive/CS342/test_loader_ins.dat\", \"wb\") as f:\n",
        "    pickle.dump(test_loader_ins, f)\n",
        "\n",
        "  with open(\"drive/MyDrive/CS342/train_loader_ins_balanced.dat\", \"wb\") as f:\n",
        "    pickle.dump(train_loader_ins_balanced, f)\n",
        "  with open(\"drive/MyDrive/CS342/val_loader_ins_balanced.dat\", \"wb\") as f:\n",
        "    pickle.dump(val_loader_ins_balanced, f)\n",
        "  with open(\"drive/MyDrive/CS342/test_loader_ins_balanced.dat\", \"wb\") as f:\n",
        "    pickle.dump(test_loader_ins_balanced, f)"
      ],
      "metadata": {
        "id": "6Zh8gXrd-NUB"
      },
      "id": "6Zh8gXrd-NUB",
      "execution_count": null,
      "outputs": []
    },
    {
      "cell_type": "markdown",
      "id": "f01b9574",
      "metadata": {
        "id": "f01b9574"
      },
      "source": [
        "## Create Models"
      ]
    },
    {
      "cell_type": "code",
      "execution_count": null,
      "id": "51166cfd",
      "metadata": {
        "id": "51166cfd"
      },
      "outputs": [],
      "source": [
        "def set_parameter_requires_grad(model, modify_pretrained_layers):\n",
        "    if not modify_pretrained_layers:\n",
        "        for param in model.parameters():\n",
        "            param.requires_grad = False\n",
        "\n",
        "#loads and modifies alexNet       \n",
        "def setup_alexnet(num_classes, modify_pretrained_layers = True):\n",
        "    alexnet = torch.hub.load('pytorch/vision:v0.10.0', 'alexnet', pretrained=True) # always use pretrained due to limited dataset\n",
        "    set_parameter_requires_grad(alexnet, modify_pretrained_layers)\n",
        "    alexnet.classifier[6] = nn.Linear(4096,num_classes)\n",
        "    return alexnet.to(device)\n"
      ]
    },
    {
      "cell_type": "code",
      "source": [
        "def show_parameters_and_grad(model):\n",
        "  for i in list(model.parameters()):\n",
        "    print(i.shape)\n",
        "    print(i.requires_grad)"
      ],
      "metadata": {
        "id": "ktDKemmmpzsV"
      },
      "id": "ktDKemmmpzsV",
      "execution_count": null,
      "outputs": []
    },
    {
      "cell_type": "code",
      "source": [
        "# torch.cuda.empty_cache() # helpful function to rid memory off GPU"
      ],
      "metadata": {
        "id": "tBO1pKy60Mkf"
      },
      "id": "tBO1pKy60Mkf",
      "execution_count": null,
      "outputs": []
    },
    {
      "cell_type": "code",
      "execution_count": null,
      "id": "5081222c",
      "metadata": {
        "id": "5081222c",
        "colab": {
          "base_uri": "https://localhost:8080/"
        },
        "outputId": "ae2d7787-081f-4e82-e01e-9c79b55ccf0b"
      },
      "outputs": [
        {
          "output_type": "stream",
          "name": "stderr",
          "text": [
            "Using cache found in /root/.cache/torch/hub/pytorch_vision_v0.10.0\n"
          ]
        },
        {
          "output_type": "stream",
          "name": "stdout",
          "text": [
            "torch.Size([64, 3, 11, 11])\n",
            "True\n",
            "torch.Size([64])\n",
            "True\n",
            "torch.Size([192, 64, 5, 5])\n",
            "True\n",
            "torch.Size([192])\n",
            "True\n",
            "torch.Size([384, 192, 3, 3])\n",
            "True\n",
            "torch.Size([384])\n",
            "True\n",
            "torch.Size([256, 384, 3, 3])\n",
            "True\n",
            "torch.Size([256])\n",
            "True\n",
            "torch.Size([256, 256, 3, 3])\n",
            "True\n",
            "torch.Size([256])\n",
            "True\n",
            "torch.Size([4096, 9216])\n",
            "True\n",
            "torch.Size([4096])\n",
            "True\n",
            "torch.Size([4096, 4096])\n",
            "True\n",
            "torch.Size([4096])\n",
            "True\n",
            "torch.Size([4, 4096])\n",
            "True\n",
            "torch.Size([4])\n",
            "True\n"
          ]
        }
      ],
      "source": [
        "if LOAD_INS_TYPE:\n",
        "  alexnet_ins = setup_alexnet(len(desired_instrument_types), modify_pretrained_layers = True)\n",
        "  criterion_ins = nn.CrossEntropyLoss(weight=class_weights_ins,reduction='mean')\n",
        "  # optimizer_ins = torch.optim.Adam(alexnet_ins.parameters(), lr=1e-3)\n",
        "  optimizer_ins = torch.optim.SGD(alexnet_ins.parameters(), lr=0.0002, momentum=0.9, weight_decay=1e-4)\n",
        "  num_epochs_ins = 10\n",
        "  show_parameters_and_grad(alexnet_ins)"
      ]
    },
    {
      "cell_type": "code",
      "source": [
        "if LOAD_INS_TYPE:\n",
        "  alexnet_ins_off_shelf = setup_alexnet(len(desired_instrument_types), modify_pretrained_layers = False)\n",
        "  criterion_ins_off_shelf = nn.CrossEntropyLoss(weight=class_weights_ins,reduction='mean')\n",
        "  # optimizer_ins = torch.optim.Adam(alexnet_ins.parameters(), lr=1e-3)\n",
        "  optimizer_ins_off_shelf = torch.optim.SGD(alexnet_ins_off_shelf.parameters(), lr=0.0002, momentum=0.9)\n",
        "  num_epochs_ins_off_shelf = 10\n",
        "  show_parameters_and_grad(alexnet_ins_off_shelf)"
      ],
      "metadata": {
        "id": "uPxcTc_4PmI7",
        "colab": {
          "base_uri": "https://localhost:8080/"
        },
        "outputId": "da6b59b5-4ae7-4447-f6bb-4a688d39fe67"
      },
      "id": "uPxcTc_4PmI7",
      "execution_count": null,
      "outputs": [
        {
          "output_type": "stream",
          "name": "stderr",
          "text": [
            "Using cache found in /root/.cache/torch/hub/pytorch_vision_v0.10.0\n"
          ]
        },
        {
          "output_type": "stream",
          "name": "stdout",
          "text": [
            "torch.Size([64, 3, 11, 11])\n",
            "False\n",
            "torch.Size([64])\n",
            "False\n",
            "torch.Size([192, 64, 5, 5])\n",
            "False\n",
            "torch.Size([192])\n",
            "False\n",
            "torch.Size([384, 192, 3, 3])\n",
            "False\n",
            "torch.Size([384])\n",
            "False\n",
            "torch.Size([256, 384, 3, 3])\n",
            "False\n",
            "torch.Size([256])\n",
            "False\n",
            "torch.Size([256, 256, 3, 3])\n",
            "False\n",
            "torch.Size([256])\n",
            "False\n",
            "torch.Size([4096, 9216])\n",
            "False\n",
            "torch.Size([4096])\n",
            "False\n",
            "torch.Size([4096, 4096])\n",
            "False\n",
            "torch.Size([4096])\n",
            "False\n",
            "torch.Size([4, 4096])\n",
            "True\n",
            "torch.Size([4])\n",
            "True\n"
          ]
        }
      ]
    },
    {
      "cell_type": "code",
      "source": [
        "if LOAD_INS_COUNTRY:\n",
        "  alexnet_country = setup_alexnet(len(popular_countries), modify_pretrained_layers = True)\n",
        "  criterion_country = nn.CrossEntropyLoss(weight=class_weights_country_made, reduction='mean')\n",
        "  # optimizer_country = torch.optim.Adam(alexnet_country.parameters(), lr=1e-3)\n",
        "  optimizer_country = torch.optim.SGD(alexnet_country.parameters(), lr=0.001)\n",
        "  num_epochs_country = 10\n",
        "  show_parameters_and_grad(alexnet_country)"
      ],
      "metadata": {
        "id": "TkUtbCdEPKPX",
        "colab": {
          "base_uri": "https://localhost:8080/"
        },
        "outputId": "2c01c22f-b675-4147-d3f6-3871b2010aac"
      },
      "id": "TkUtbCdEPKPX",
      "execution_count": null,
      "outputs": [
        {
          "output_type": "stream",
          "name": "stderr",
          "text": [
            "Using cache found in /root/.cache/torch/hub/pytorch_vision_v0.10.0\n"
          ]
        },
        {
          "output_type": "stream",
          "name": "stdout",
          "text": [
            "torch.Size([64, 3, 11, 11])\n",
            "True\n",
            "torch.Size([64])\n",
            "True\n",
            "torch.Size([192, 64, 5, 5])\n",
            "True\n",
            "torch.Size([192])\n",
            "True\n",
            "torch.Size([384, 192, 3, 3])\n",
            "True\n",
            "torch.Size([384])\n",
            "True\n",
            "torch.Size([256, 384, 3, 3])\n",
            "True\n",
            "torch.Size([256])\n",
            "True\n",
            "torch.Size([256, 256, 3, 3])\n",
            "True\n",
            "torch.Size([256])\n",
            "True\n",
            "torch.Size([4096, 9216])\n",
            "True\n",
            "torch.Size([4096])\n",
            "True\n",
            "torch.Size([4096, 4096])\n",
            "True\n",
            "torch.Size([4096])\n",
            "True\n",
            "torch.Size([7, 4096])\n",
            "True\n",
            "torch.Size([7])\n",
            "True\n"
          ]
        }
      ]
    },
    {
      "cell_type": "code",
      "source": [
        "if LOAD_INS_COUNTRY:\n",
        "  alexnet_country_off_shelf = setup_alexnet(len(popular_countries), modify_pretrained_layers = False)\n",
        "  criterion_country_off_shelf = nn.CrossEntropyLoss(weight=class_weights_country_made, reduction='mean')\n",
        "  # optimizer_country = torch.optim.Adam(alexnet_country.parameters(), lr=1e-3)\n",
        "  optimizer_country_off_shelf = torch.optim.SGD(alexnet_country.parameters(), lr=0.001)\n",
        "  num_epochs_country_off_shelf = 10\n",
        "  show_parameters_and_grad(alexnet_country)"
      ],
      "metadata": {
        "id": "7ZhI4OXrOk3O"
      },
      "id": "7ZhI4OXrOk3O",
      "execution_count": null,
      "outputs": []
    },
    {
      "cell_type": "code",
      "source": [
        "if LOAD_INS_COUNTRY:\n",
        "  alexnet_country_OPT2 = setup_alexnet(len(popular_countries), modify_pretrained_layers = True)\n",
        "  criterion_country_OPT2 = nn.CrossEntropyLoss(weight=class_weights_country_made, reduction='mean')\n",
        "  # optimizer_country = torch.optim.Adam(alexnet_country.parameters(), lr=1e-3)\n",
        "  optimizer_country_OPT2 = torch.optim.SGD(alexnet_country.parameters(), lr=0.001)\n",
        "  num_epochs_country_OPT2 = 10\n",
        "  show_parameters_and_grad(alexnet_country_OPT2)"
      ],
      "metadata": {
        "id": "DdeiY_YiyGtl"
      },
      "id": "DdeiY_YiyGtl",
      "execution_count": null,
      "outputs": []
    },
    {
      "cell_type": "code",
      "execution_count": null,
      "id": "6523e269",
      "metadata": {
        "id": "6523e269"
      },
      "outputs": [],
      "source": [
        "if LOAD_INS_VIEW:\n",
        "  alexnet_ins_view = setup_alexnet(2, modify_pretrained_layers = False)\n",
        "  criterion_ins_view = nn.CrossEntropyLoss()\n",
        "  optimizer_ins_view = torch.optim.SGD(alexnet_ins_view.parameters(), lr=0.001) # Future Optimizations: change momentum and weight decay\n",
        "  num_epochs_ins_view = 10\n",
        "  show_parameters_and_grad(alexnet_ins_view)"
      ]
    },
    {
      "cell_type": "markdown",
      "id": "66db2339",
      "metadata": {
        "id": "66db2339"
      },
      "source": [
        "### Computation Experiment: Testing Different Models\n",
        "Question:\n",
        "What other models work better than AlexNet? Would adding an extra layer to AlexNet help?<br>\n",
        "Option 1: \n",
        "Use a pre-trained version of ResNet18 with a modified final linear layer.<br>\n",
        "Option 2: \n",
        "Use the pre-trained version of AlexNet, but keep the pre-existent last fine-tuned linear layer, and instead add a linear layer to the previous final linear layer.<br>\n",
        "Option 3:\n",
        "Use a pre-trained version of VGG-16 with a modified final linear layer.<br>"
      ]
    },
    {
      "cell_type": "code",
      "source": [
        "import torchvision.models as models\n",
        "def setup_resnet(num_classes, modify_pretrained_layers = True):\n",
        "    resnet =models.resnet18(pretrained=True)\n",
        "    set_parameter_requires_grad(resnet, modify_pretrained_layers)\n",
        "    resnet.fc = nn.Linear(resnet.fc.in_features,num_classes)\n",
        "    return resnet.to(device)"
      ],
      "metadata": {
        "id": "xa6oJqBP5yBe"
      },
      "id": "xa6oJqBP5yBe",
      "execution_count": null,
      "outputs": []
    },
    {
      "cell_type": "code",
      "source": [
        "def setup_vgg16(num_classes, modify_pretrained_layers = True):\n",
        "    vg16 =models.vgg16(pretrained=True)\n",
        "    set_parameter_requires_grad(vg16, modify_pretrained_layers)\n",
        "    vg16.classifier[-1] = nn.Linear(vg16.classifier[-1].in_features,num_classes)\n",
        "    # print(vg16)\n",
        "    return vg16.to(device)"
      ],
      "metadata": {
        "id": "mkAAEFuOH13_"
      },
      "id": "mkAAEFuOH13_",
      "execution_count": null,
      "outputs": []
    },
    {
      "cell_type": "code",
      "source": [
        "def setup_vgg16(num_classes, modify_pretrained_layers = True):\n",
        "    vg16 =models.vgg16(pretrained=True)\n",
        "    set_parameter_requires_grad(vg16, modify_pretrained_layers)\n",
        "    vg16.classifier[-1] = nn.Linear(vg16.classifier[-1].in_features,num_classes)\n",
        "    # print(vg16)\n",
        "    return vg16.to(device)"
      ],
      "metadata": {
        "id": "GlPW5IRmzUwJ"
      },
      "id": "GlPW5IRmzUwJ",
      "execution_count": null,
      "outputs": []
    },
    {
      "cell_type": "code",
      "source": [
        "# Note: Not used for this project and Requires larger images\n",
        "def setup_inception_v3(num_classes, modify_pretrained_layers = True):\n",
        "    inception = models.inception_v3(pretrained=True)\n",
        "    set_parameter_requires_grad(inception, modify_pretrained_layers)\n",
        "    inception.fc = nn.Linear(inception.fc.in_features,num_classes)\n",
        "    return inception.to(device)"
      ],
      "metadata": {
        "id": "PQ0DcTRHKba_"
      },
      "id": "PQ0DcTRHKba_",
      "execution_count": null,
      "outputs": []
    },
    {
      "cell_type": "code",
      "execution_count": null,
      "id": "7c1332dc",
      "metadata": {
        "id": "7c1332dc"
      },
      "outputs": [],
      "source": [
        "class alexNetExtraLayer(nn.Module):\n",
        "    def __init__(self, num_outputs):\n",
        "        super(alexNetExtraLayer, self).__init__()\n",
        "        self.pretrained_model = torch.hub.load('pytorch/vision:v0.10.0', 'alexnet', pretrained=True).to(device)\n",
        "        self.fc = torch.nn.Linear(1000, num_outputs).to(device)\n",
        "\n",
        "    def forward(self, x):\n",
        "        x = self.pretrained_model(x)\n",
        "        x = self.fc(x)\n",
        "        return x"
      ]
    },
    {
      "cell_type": "code",
      "source": [
        "class VGG16_Extra_Layer(nn.Module):\n",
        "    def __init__(self, num_outputs):\n",
        "        super(VGG16_Extra_Layer, self).__init__()\n",
        "        self.vgg16 =models.vgg16(pretrained=True).to(device)\n",
        "        self.fc = torch.nn.Linear(1000, num_outputs).to(device)\n",
        "\n",
        "    def forward(self, x):\n",
        "        x = self.pretrained_model(x)\n",
        "        x = self.fc(x)\n",
        "        return x"
      ],
      "metadata": {
        "id": "hqyFiU7bzXvz"
      },
      "id": "hqyFiU7bzXvz",
      "execution_count": null,
      "outputs": []
    },
    {
      "cell_type": "code",
      "execution_count": null,
      "metadata": {
        "id": "KS03Fd-95IJP"
      },
      "outputs": [],
      "source": [
        "if LOAD_INS_TYPE:\n",
        "  resnet_ins = setup_resnet(len(desired_instrument_types))\n",
        "  criterion_ins_resnet = nn.CrossEntropyLoss(weight=class_weights_ins,reduction='mean')\n",
        "  optimizer_ins_resnet = torch.optim.SGD(resnet_ins.parameters(), lr=0.0002, momentum=0.9)\n",
        "  num_epochs_ins_resnet = 10"
      ],
      "id": "KS03Fd-95IJP"
    },
    {
      "cell_type": "code",
      "source": [
        "if LOAD_INS_TYPE:\n",
        "  alexnet_ins_extra_layer = alexNetExtraLayer(len(desired_instrument_types))\n",
        "  criterion_ins_extra_layer = nn.CrossEntropyLoss(weight=class_weights_ins,reduction='mean')\n",
        "  optimizer_ins_extra_layer = torch.optim.SGD(alexnet_ins_extra_layer.parameters(), lr=0.0002)\n",
        "  num_epochs_ins_extra_layer = 10"
      ],
      "metadata": {
        "id": "-tJ9bPgicla4",
        "colab": {
          "base_uri": "https://localhost:8080/"
        },
        "outputId": "496130ed-a263-4c2d-fa56-e7edc92ef983"
      },
      "id": "-tJ9bPgicla4",
      "execution_count": null,
      "outputs": [
        {
          "output_type": "stream",
          "name": "stderr",
          "text": [
            "Using cache found in /root/.cache/torch/hub/pytorch_vision_v0.10.0\n"
          ]
        }
      ]
    },
    {
      "cell_type": "code",
      "source": [
        "if LOAD_INS_TYPE:\n",
        "  ins_vg16 = setup_vgg16(len(desired_instrument_types))\n",
        "  criterion_ins_vg16 = nn.CrossEntropyLoss(weight=class_weights_ins,reduction='mean')\n",
        "  optimizer_ins_vg16 = torch.optim.SGD(ins_vg16.parameters(), lr=0.0002, momentum=0.9)\n",
        "  num_epochs_ins_vg16= 10"
      ],
      "metadata": {
        "id": "YZhE9snvIxIg"
      },
      "id": "YZhE9snvIxIg",
      "execution_count": null,
      "outputs": []
    },
    {
      "cell_type": "code",
      "source": [
        "if LOAD_INS_COUNTRY:\n",
        "  resnet_country_made = setup_resnet(len(desired_instrument_types))\n",
        "  criterion_country_made_resnet= nn.CrossEntropyLoss(weight=class_weights_country_made, reduction='mean')\n",
        "  optimizer_country_made_resnet = torch.optim.SGD(resnet_country_made.parameters(), lr=0.0002, momentum=0.9)\n",
        "  num_epochs_country_made_resnet = 10\n"
      ],
      "metadata": {
        "id": "WFBQW-Ur5IJQ"
      },
      "execution_count": null,
      "outputs": [],
      "id": "WFBQW-Ur5IJQ"
    },
    {
      "cell_type": "code",
      "source": [
        "if LOAD_INS_COUNTRY:\n",
        "  alexnet_country_made_extra_layer = alexNetExtraLayer(len(popular_countries))\n",
        "  criterion_country_made_extra_layer = nn.CrossEntropyLoss(weight=class_weights_country_made, reduction='mean')\n",
        "  optimizer_country_made_extra_layer = torch.optim.SGD(alexnet_country_made_extra_layer.parameters(), lr=0.0002) #torch.optim.Adam(alexnet_country_made_extra_layer.parameters(), lr=1e-3) \n",
        "  num_epochs_country_made_extra_layer = 10"
      ],
      "metadata": {
        "id": "L7PcqY4GclIR"
      },
      "id": "L7PcqY4GclIR",
      "execution_count": null,
      "outputs": []
    },
    {
      "cell_type": "code",
      "source": [
        "if LOAD_INS_COUNTRY:\n",
        "  ins_vg16_country_made = setup_vgg16(len(popular_countries))\n",
        "  criterion_vg16_country_made = nn.CrossEntropyLoss(weight=class_weights_country_made, reduction='mean')\n",
        "  optimizer_vg16_country_made = torch.optim.SGD(ins_vg16_country_made.parameters(), lr=0.001) #torch.optim.Adam(alexnet_country_made_extra_layer.parameters(), lr=1e-3) \n",
        "  num_epochs_ins_vg16_country_made = 10"
      ],
      "metadata": {
        "id": "EyEKAJv4RDuB"
      },
      "id": "EyEKAJv4RDuB",
      "execution_count": null,
      "outputs": []
    },
    {
      "cell_type": "code",
      "source": [
        "if LOAD_INS_COUNTRY:\n",
        "  vgg16_country_extra_layer = VGG16_Extra_Layer(len(popular_countries))\n",
        "  criterion_vgg16_country_extra_layer = nn.CrossEntropyLoss(weight=class_weights_country_made, reduction='mean')\n",
        "  optimizer_vgg16_country_extra_layer = torch.optim.SGD(vgg16_country_extra_layer.parameters(), lr=0.001)"
      ],
      "metadata": {
        "id": "QuBuAA610ko7"
      },
      "id": "QuBuAA610ko7",
      "execution_count": null,
      "outputs": []
    },
    {
      "cell_type": "code",
      "execution_count": null,
      "id": "bbd66a6c",
      "metadata": {
        "id": "bbd66a6c"
      },
      "outputs": [],
      "source": [
        "if LOAD_INS_BALANCED:\n",
        "  alexnet_ins_balanced = setup_alexnet(len(desired_instrument_types), modify_pretrained_layers = True)\n",
        "  criterion_ins_balanced = nn.CrossEntropyLoss()\n",
        "  optimizer_ins_balanced = torch.optim.SGD(alexnet_ins_balanced.parameters(), lr=0.0002, momentum=0.9, weight_decay=1e-4) # weight_decay\n",
        "  num_epochs_ins_balanced = 10"
      ]
    },
    {
      "cell_type": "markdown",
      "id": "fb54a6c5",
      "metadata": {
        "id": "fb54a6c5"
      },
      "source": [
        "## Training and Testing"
      ]
    },
    {
      "cell_type": "code",
      "source": [
        "from tqdm.notebook import tqdm\n",
        "import torch.nn.functional as F\n",
        "from collections import deque\n",
        "\n",
        "def test_network(model, test_loader, description,epoch_cnt, debug= False):\n",
        "    correct = 0\n",
        "    total = 0\n",
        "    true, pred = [], []\n",
        "    model.eval()\n",
        "    with torch.no_grad():\n",
        "        for inputs, labels  in test_loader:\n",
        "          inputs = inputs.to(device)\n",
        "          # print(labels.is_cuda)\n",
        "          labels = labels.to(device)\n",
        "          outputs = model.forward(inputs)\n",
        "          # print(outputs.is_cuda)\n",
        "          predicted = torch.argmax(outputs.cpu(), dim=1)\n",
        "          # print(predicted.is_cuda)\n",
        "          total += labels.size(0)\n",
        "          correct += (predicted == labels.cpu()).sum().item()\n",
        "          true.append(labels)\n",
        "          pred.append(predicted)\n",
        "          if debug and total>200:\n",
        "              break       \n",
        "    acc = (100 * correct / total)\n",
        "    print('%s on epoch %s has accuracy: %0.3f' % (description, epoch_cnt, acc))\n",
        "    # true = np.concatenate(true)\n",
        "    # pred = np.concatenate(pred)\n",
        "    # return acc, true, pred\n",
        "    return acc\n",
        "\n",
        "\n",
        "# adapted from homework two\n",
        "def train_test_network(model, train_loader, val_loader, test_loader, criterion, optimizer, description, nepoch=10):\n",
        "    queue_capacity=1000\n",
        "    loss_queue = deque(maxlen=queue_capacity)\n",
        "    queue_loss_list = []\n",
        "    train_loss_list = []\n",
        "    val_loss_list = []\n",
        "    test_acc_list = []\n",
        "    try:\n",
        "        for epoch in tqdm(range(nepoch)):\n",
        "            problem_cnt = 0\n",
        "            model.train()\n",
        "            print('EPOCH %d'%epoch)\n",
        "            total_loss = 0\n",
        "            count = 0\n",
        "            for inputs, labels in train_loader:\n",
        "                inputs = inputs.to(device)\n",
        "                # print(inputs.shape)\n",
        "                labels = labels.to(device)\n",
        "                optimizer.zero_grad()\n",
        "                # print(inputs.shape)\n",
        "                outputs = model.forward(inputs)\n",
        "                # .is_cuda can be used to confirm tensor on GPU\n",
        "                loss = criterion(outputs, labels) \n",
        "                # print(\"loss {}\".format(loss))\n",
        "                loss_queue.append(loss.item())\n",
        "                loss.backward()\n",
        "                optimizer.step()\n",
        "                total_loss += loss.item()\n",
        "                count += 1\n",
        "            # print(\"problem_cnt: {}\".format(problem_cnt))\n",
        "            train_loss = total_loss/count\n",
        "            train_loss_list.append(train_loss)\n",
        "            print('{:>12s} {:>7.5f}'.format('Train loss:', train_loss))\n",
        "            with torch.no_grad():\n",
        "                total_loss = 0\n",
        "                count = 0\n",
        "                for inputs, labels in val_loader:\n",
        "                  inputs = inputs.to(device)\n",
        "                  labels = labels.to(device)\n",
        "                  outputs = model.forward(inputs)\n",
        "                  loss = criterion(outputs, labels)\n",
        "                  total_loss += loss.item()\n",
        "                  count += 1\n",
        "                val_loss = total_loss/count\n",
        "                print('{:>12s} {:>7.5f}'.format('Val loss:', val_loss))\n",
        "                val_loss_list.append(val_loss)\n",
        "            acc = test_network(model, test_loader, description, epoch_cnt=epoch)\n",
        "            test_acc_list.append(acc)\n",
        "            print()\n",
        "    except KeyboardInterrupt:\n",
        "        print('Exiting from training early')\n",
        "    return queue_loss_list, train_loss_list, val_loss_list, test_acc_list\n"
      ],
      "metadata": {
        "id": "keAua4CTbJNo"
      },
      "id": "keAua4CTbJNo",
      "execution_count": null,
      "outputs": []
    },
    {
      "cell_type": "code",
      "execution_count": null,
      "id": "bcde4035",
      "metadata": {
        "id": "bcde4035"
      },
      "outputs": [],
      "source": [
        "if LOAD_INS_VIEW:\n",
        "  # This should be very accurate. Since the front and back of an instrument look quite different, AlexNet should have 80+ percent accuracy in identifying if we are looking at the back or front of an instrument\n",
        "  alex_ins_view_results = train_test_network(alexnet_ins_view, train_loader_ins_view, val_loader_ins_view, test_loader_ins_view, criterion_ins_view, optimizer_ins_view, description = \"Instrument View (Front or Back)\", nepoch=num_epochs_ins_view)\n",
        "  queue_loss_list_ins_view, train_loss_list_ins_view, val_loss_list_ins_view, test_acc_list_ins_view = alex_ins_view_results\n",
        "  test_network(alexnet_ins_view, test_loader_ins_view, description = \"Instrument View (Front or Back)\", epoch_cnt=\"after training\")\n",
        "  with open(\"drive/MyDrive/CS342/alexnet_ins_view.dat\", \"wb\") as f:\n",
        "    pickle.dump(alexnet_ins_view, f)\n",
        "  with open(\"drive/MyDrive/CS342/alex_ins_view_results.dat\", \"wb\") as f:\n",
        "    pickle.dump(alex_ins_view_results, f)"
      ]
    },
    {
      "cell_type": "markdown",
      "source": [
        "Computational Experiment 3: Off-the-Shelf versus Fine-Tuning <br>\n",
        "Compare the effectiveness of “off-the-shelf” to “fine-tuning” learning strategy. <br>\n",
        "Question: \n",
        "Will fine-tuning all layers of AlexNet lead to increased performance compared to freezing the weights in earlier layers? Which method will lead to a better model for predicting instrument type and country made?<br>\n",
        "Option 1: \n",
        "Only Modify the final Layer of AlexNet <br>\n",
        "Option 2: \n",
        "Allow backpropagation and weight updating throughout all of AlexNet.\n"
      ],
      "metadata": {
        "id": "DSrkHblhIm85"
      },
      "id": "DSrkHblhIm85"
    },
    {
      "cell_type": "code",
      "execution_count": null,
      "id": "8ea1cc43",
      "metadata": {
        "id": "8ea1cc43",
        "colab": {
          "base_uri": "https://localhost:8080/",
          "height": 934,
          "referenced_widgets": [
            "b2edc7a002a44ff992346e7cf6198762",
            "025a6cf1f62d4ae3b3e25c4ac1b2dc7d",
            "e8ea27d7d70e4e97a323e2b84dadf267",
            "32961ded58f34d6f8f896b6260ef7fe7",
            "251b7565e49041ae83146e643e538841",
            "13555e89486e4dd68334dbf720372c4f",
            "a50ca6e825bf49ea9677b405c3ed275d",
            "0eb8d671a8f74459ad983bb1fef751ac",
            "cfd3815257464ca78d7a67eb190f8d62",
            "dbb4c1bcac084c99a6a3f1a57244c941",
            "30b57087b0964ad896db4a4cff62a09a"
          ]
        },
        "outputId": "c3fdd0d5-11bb-48dd-d2d7-1581e61ed775"
      },
      "outputs": [
        {
          "output_type": "display_data",
          "data": {
            "text/plain": [
              "  0%|          | 0/10 [00:00<?, ?it/s]"
            ],
            "application/vnd.jupyter.widget-view+json": {
              "version_major": 2,
              "version_minor": 0,
              "model_id": "b2edc7a002a44ff992346e7cf6198762"
            }
          },
          "metadata": {}
        },
        {
          "output_type": "stream",
          "name": "stdout",
          "text": [
            "EPOCH 0\n",
            " Train loss: 0.74372\n",
            "   Val loss: 0.50725\n",
            "Instrument Type Test on epoch 0 has accuracy: 82.000\n",
            "\n",
            "EPOCH 1\n",
            " Train loss: 0.47957\n",
            "   Val loss: 0.66017\n",
            "Instrument Type Test on epoch 1 has accuracy: 73.000\n",
            "\n",
            "EPOCH 2\n",
            " Train loss: 0.37978\n",
            "   Val loss: 0.43508\n",
            "Instrument Type Test on epoch 2 has accuracy: 89.000\n",
            "\n",
            "EPOCH 3\n",
            " Train loss: 0.33475\n",
            "   Val loss: 0.37108\n",
            "Instrument Type Test on epoch 3 has accuracy: 91.000\n",
            "\n",
            "EPOCH 4\n",
            " Train loss: 0.28336\n",
            "   Val loss: 0.33223\n",
            "Instrument Type Test on epoch 4 has accuracy: 88.000\n",
            "\n",
            "EPOCH 5\n",
            " Train loss: 0.25968\n",
            "   Val loss: 0.33596\n",
            "Instrument Type Test on epoch 5 has accuracy: 92.000\n",
            "\n",
            "EPOCH 6\n",
            " Train loss: 0.21351\n",
            "   Val loss: 0.38148\n",
            "Instrument Type Test on epoch 6 has accuracy: 89.000\n",
            "\n",
            "EPOCH 7\n",
            " Train loss: 0.20635\n",
            "   Val loss: 0.33291\n",
            "Instrument Type Test on epoch 7 has accuracy: 92.000\n",
            "\n",
            "EPOCH 8\n",
            " Train loss: 0.17983\n",
            "   Val loss: 0.43265\n",
            "Instrument Type Test on epoch 8 has accuracy: 90.000\n",
            "\n",
            "EPOCH 9\n",
            " Train loss: 0.14733\n",
            "   Val loss: 0.36302\n",
            "Instrument Type Test on epoch 9 has accuracy: 93.000\n",
            "\n",
            "Instrument Type Test on epoch after training has accuracy: 93.000\n"
          ]
        }
      ],
      "source": [
        "# Test with Fine-Tuning\n",
        "if LOAD_INS_TYPE:\n",
        "  # next(iter(train_loader_ins))[0].shape ==torch.Size([8, 3, 224, 224])\n",
        "  queue_loss_list_ins, train_loss_list_ins, val_loss_list_ins, test_acc_list_ins = train_test_network(alexnet_ins, train_loader_ins, val_loader_ins, test_loader_ins, criterion_ins, optimizer_ins, description = \"Instrument Type Test\", nepoch=num_epochs_ins)\n",
        "  test_network(alexnet_ins, test_loader_ins, description=\"Instrument Type Test\", epoch_cnt=\"after training\")\n",
        "  with open(\"drive/MyDrive/CS342/alexnet_ins.dat\", \"wb\") as f:\n",
        "      pickle.dump(alexnet_ins, f)\n",
        "  ins_result_data = queue_loss_list_ins, train_loss_list_ins, val_loss_list_ins, test_acc_list_ins \n",
        "  with open(\"drive/MyDrive/CS342/ins_result_data.dat\", \"wb\") as f:\n",
        "      pickle.dump(ins_result_data, f)"
      ]
    },
    {
      "cell_type": "code",
      "source": [
        "# Test with all Frozen-Layers Except for The Last Layer (Off-the-Shelf)\n",
        "if LOAD_INS_TYPE:\n",
        "  queue_loss_list_ins_off_shelf, train_loss_list_ins_off_shelf, val_loss_list_ins_off_shelf, test_acc_list_ins_off_shelf = train_test_network(alexnet_ins_off_shelf, train_loader_ins, val_loader_ins, test_loader_ins, criterion_ins_off_shelf, optimizer_ins_off_shelf, description = \"Instrument Type Test Off The Shelf\", nepoch=num_epochs_ins_off_shelf)\n",
        "  test_network(alexnet_ins_off_shelf, test_loader_ins, description=\"Instrument Type Test Off The Shelf\", epoch_cnt=\"after training\")\n",
        "  with open(\"drive/MyDrive/CS342/alexnet_ins_off_shelf.dat\", \"wb\") as f:\n",
        "      pickle.dump(alexnet_ins_off_shelf, f)\n",
        "  ins_result_data_off_shelf = queue_loss_list_ins_off_shelf, train_loss_list_ins_off_shelf, val_loss_list_ins_off_shelf, test_acc_list_ins_off_shelf \n",
        "  with open(\"drive/MyDrive/CS342/ins_result_data_off_shelf.dat\", \"wb\") as f:\n",
        "      pickle.dump(ins_result_data_off_shelf, f)"
      ],
      "metadata": {
        "id": "TfD_xYrnZXej",
        "colab": {
          "base_uri": "https://localhost:8080/",
          "height": 934,
          "referenced_widgets": [
            "3d15498d1ba24f12959aa681581b9792",
            "a3ed3e580ef14bad8efd735021234e18",
            "d0881b395805482b83700827b88c8db1",
            "d684a0c65f11499f88742d5af7d02e8b",
            "dceb62b73a214ec095dd4ea27f3574b9",
            "f2833e3f5a4640cdba3a59225125b2ec",
            "6394b503df344211b8b57a7adb6553ed",
            "653a34f22de64d5cb7ffa48ecee1baf3",
            "c8c6672cba444df6a6c169cdbb72415c",
            "8b1a9960a77c42768b6a3d85f224af47",
            "a6abc6e772db41489def8b23ce83df21"
          ]
        },
        "outputId": "50f89652-9996-4605-ab70-a20a4d50be96"
      },
      "id": "TfD_xYrnZXej",
      "execution_count": null,
      "outputs": [
        {
          "output_type": "display_data",
          "data": {
            "text/plain": [
              "  0%|          | 0/10 [00:00<?, ?it/s]"
            ],
            "application/vnd.jupyter.widget-view+json": {
              "version_major": 2,
              "version_minor": 0,
              "model_id": "3d15498d1ba24f12959aa681581b9792"
            }
          },
          "metadata": {}
        },
        {
          "output_type": "stream",
          "name": "stdout",
          "text": [
            "EPOCH 0\n",
            " Train loss: 1.67601\n",
            "   Val loss: 1.14687\n",
            "Instrument Type Test Off The Shelf on epoch 0 has accuracy: 67.000\n",
            "\n",
            "EPOCH 1\n",
            " Train loss: 1.52147\n",
            "   Val loss: 1.12810\n",
            "Instrument Type Test Off The Shelf on epoch 1 has accuracy: 66.000\n",
            "\n",
            "EPOCH 2\n",
            " Train loss: 1.57503\n",
            "   Val loss: 2.09441\n",
            "Instrument Type Test Off The Shelf on epoch 2 has accuracy: 58.000\n",
            "\n",
            "EPOCH 3\n",
            " Train loss: 1.48364\n",
            "   Val loss: 1.20509\n",
            "Instrument Type Test Off The Shelf on epoch 3 has accuracy: 74.000\n",
            "\n",
            "EPOCH 4\n",
            " Train loss: 1.55148\n",
            "   Val loss: 1.43181\n",
            "Instrument Type Test Off The Shelf on epoch 4 has accuracy: 61.000\n",
            "\n",
            "EPOCH 5\n",
            " Train loss: 1.51499\n",
            "   Val loss: 1.07831\n",
            "Instrument Type Test Off The Shelf on epoch 5 has accuracy: 70.000\n",
            "\n",
            "EPOCH 6\n",
            " Train loss: 1.45570\n",
            "   Val loss: 2.34312\n",
            "Instrument Type Test Off The Shelf on epoch 6 has accuracy: 35.000\n",
            "\n",
            "EPOCH 7\n",
            " Train loss: 1.63968\n",
            "   Val loss: 1.53090\n",
            "Instrument Type Test Off The Shelf on epoch 7 has accuracy: 63.000\n",
            "\n",
            "EPOCH 8\n",
            " Train loss: 1.52126\n",
            "   Val loss: 2.34494\n",
            "Instrument Type Test Off The Shelf on epoch 8 has accuracy: 52.000\n",
            "\n",
            "EPOCH 9\n",
            " Train loss: 1.56087\n",
            "   Val loss: 1.42033\n",
            "Instrument Type Test Off The Shelf on epoch 9 has accuracy: 69.000\n",
            "\n",
            "Instrument Type Test Off The Shelf on epoch after training has accuracy: 69.000\n"
          ]
        }
      ]
    },
    {
      "cell_type": "code",
      "source": [
        "# Test on ResNet\n",
        "if LOAD_INS_TYPE:\n",
        "  queue_loss_list_ins_resnet, train_loss_list_ins_resnet, val_loss_list_ins_resnet, test_acc_list_ins_resnet = train_test_network(resnet_ins, train_loader_ins, val_loader_ins, test_loader_ins, criterion_ins_resnet, optimizer_ins_resnet, description = \"Instrument Type Test With Resnet\", nepoch=num_epochs_ins_resnet)\n",
        "  ins_resnet_results = queue_loss_list_ins_resnet, train_loss_list_ins_resnet, val_loss_list_ins_resnet, test_acc_list_ins_resnet\n",
        "  test_network(resnet_ins, test_loader_ins, description=\"Instrument Type Test With Resnet\", epoch_cnt=\"after training\")\n",
        "  with open(\"drive/MyDrive/CS342/resnet_ins.dat\", \"wb\") as f:\n",
        "      pickle.dump(resnet_ins, f)\n",
        "  with open(\"drive/MyDrive/CS342/ins_resnet_results.dat\", \"wb\") as f:\n",
        "      pickle.dump(ins_resnet_results, f)"
      ],
      "metadata": {
        "id": "9LpZjkuL5IJQ",
        "colab": {
          "base_uri": "https://localhost:8080/",
          "height": 934,
          "referenced_widgets": [
            "c3c1a1087aec44fbb157449a27773606",
            "5b0ece5795014fc6b159cb8c15ff53b5",
            "8d26b29112804181bd669fc9fe21449b",
            "9670fbc7b3ce49499b09341da1aa6486",
            "ad24fd9a628643b7bfbcff7810fdfe46",
            "7ea68a4091c54dfaa5086dfaa9bd7ab8",
            "97383c481f234a3eb9dca5afa63a2a24",
            "6c6d97b161c648a595b506ae8da20800",
            "1997ae0a7a674c35853bde122600084e",
            "c892e13f6dfb4bbeb506c75ac67d63f9",
            "f6ab7709166c48788a353ec6aaef0823"
          ]
        },
        "outputId": "9456b6ae-58c2-4d09-86c2-0aeb54c01e09"
      },
      "execution_count": null,
      "outputs": [
        {
          "output_type": "display_data",
          "data": {
            "text/plain": [
              "  0%|          | 0/10 [00:00<?, ?it/s]"
            ],
            "application/vnd.jupyter.widget-view+json": {
              "version_major": 2,
              "version_minor": 0,
              "model_id": "c3c1a1087aec44fbb157449a27773606"
            }
          },
          "metadata": {}
        },
        {
          "output_type": "stream",
          "name": "stdout",
          "text": [
            "EPOCH 0\n",
            " Train loss: 0.65674\n",
            "   Val loss: 0.47150\n",
            "Instrument Type Test With Resnet on epoch 0 has accuracy: 84.000\n",
            "\n",
            "EPOCH 1\n",
            " Train loss: 0.33806\n",
            "   Val loss: 0.37526\n",
            "Instrument Type Test With Resnet on epoch 1 has accuracy: 92.000\n",
            "\n",
            "EPOCH 2\n",
            " Train loss: 0.22379\n",
            "   Val loss: 0.37726\n",
            "Instrument Type Test With Resnet on epoch 2 has accuracy: 93.000\n",
            "\n",
            "EPOCH 3\n",
            " Train loss: 0.13690\n",
            "   Val loss: 0.41226\n",
            "Instrument Type Test With Resnet on epoch 3 has accuracy: 88.000\n",
            "\n",
            "EPOCH 4\n",
            " Train loss: 0.10080\n",
            "   Val loss: 0.47692\n",
            "Instrument Type Test With Resnet on epoch 4 has accuracy: 90.000\n",
            "\n",
            "EPOCH 5\n",
            " Train loss: 0.08045\n",
            "   Val loss: 0.38110\n",
            "Instrument Type Test With Resnet on epoch 5 has accuracy: 90.000\n",
            "\n",
            "EPOCH 6\n",
            " Train loss: 0.06042\n",
            "   Val loss: 0.38271\n",
            "Instrument Type Test With Resnet on epoch 6 has accuracy: 92.000\n",
            "\n",
            "EPOCH 7\n",
            " Train loss: 0.05154\n",
            "   Val loss: 0.40413\n",
            "Instrument Type Test With Resnet on epoch 7 has accuracy: 92.000\n",
            "\n",
            "EPOCH 8\n",
            " Train loss: 0.03414\n",
            "   Val loss: 0.42351\n",
            "Instrument Type Test With Resnet on epoch 8 has accuracy: 92.000\n",
            "\n",
            "EPOCH 9\n",
            " Train loss: 0.02694\n",
            "   Val loss: 0.40574\n",
            "Instrument Type Test With Resnet on epoch 9 has accuracy: 94.000\n",
            "\n",
            "Instrument Type Test With Resnet on epoch after training has accuracy: 94.000\n"
          ]
        }
      ],
      "id": "9LpZjkuL5IJQ"
    },
    {
      "cell_type": "code",
      "source": [
        "# Test with extra layer of AlexNet (finetuning=True)\n",
        "if LOAD_INS_TYPE:\n",
        "  queue_loss_list_ins_extra_layer, train_loss_list_ins_extra_layer, val_loss_list_ins_extra_layer, test_acc_list_ins_extra_layer = train_test_network(alexnet_ins_extra_layer, train_loader_ins, val_loader_ins, test_loader_ins, criterion_ins_extra_layer, optimizer_ins_extra_layer, description = \"Instrument Type Test With Extra Linear Layer\", nepoch=num_epochs_ins_extra_layer)\n",
        "  test_network(alexnet_ins_extra_layer, test_loader_ins, description=\"Instrument Type Test With Extra Linear Layer\", epoch_cnt=\"after training\")\n",
        "  with open(\"drive/MyDrive/CS342/alexnet_ins_extra_layer.dat\", \"wb\") as f:\n",
        "      pickle.dump(alexnet_ins_extra_layer, f)\n",
        "  alexnet_ins_extra_layer_results = queue_loss_list_ins, train_loss_list_ins, val_loss_list_ins, test_acc_list_ins \n",
        "  with open(\"drive/MyDrive/CS342/alexnet_ins_extra_layer_results.dat\", \"wb\") as f:\n",
        "      pickle.dump(alexnet_ins_extra_layer_results, f)\n"
      ],
      "metadata": {
        "id": "xeIZQuCm7mNA"
      },
      "id": "xeIZQuCm7mNA",
      "execution_count": null,
      "outputs": []
    },
    {
      "cell_type": "code",
      "source": [
        "# Test with VGG16 (finetuning=True)\n",
        "if LOAD_INS_TYPE:\n",
        "  queue_loss_list_ins_vgg16, train_loss_list_ins_vgg16, val_loss_list_ins_vgg16, test_acc_list_ins_vgg16 = train_test_network(ins_vg16, train_loader_ins, val_loader_ins, test_loader_ins, criterion_ins_vg16, optimizer_ins_vg16, description = \"Instrument Type Test With VGG16\", nepoch=num_epochs_ins_vg16)\n",
        "  test_network(ins_vg16, test_loader_ins, description=\"Instrument Type Test With VGG16\", epoch_cnt=\"after training\")\n",
        "  with open(\"drive/MyDrive/CS342/ins_vg16.dat\", \"wb\") as f:\n",
        "      pickle.dump(ins_vg16, f)\n",
        "  ins_vg16_results = queue_loss_list_ins_vgg16, train_loss_list_ins_vgg16, val_loss_list_ins_vgg16, test_acc_list_ins_vgg16 \n",
        "  with open(\"drive/MyDrive/CS342/ins_vg16_results.dat\", \"wb\") as f:\n",
        "      pickle.dump(ins_vg16_results, f)"
      ],
      "metadata": {
        "id": "lmMYMrOZNuDI",
        "colab": {
          "base_uri": "https://localhost:8080/",
          "height": 500,
          "referenced_widgets": [
            "675e2a4be89a480385513b86332f6b9f",
            "9067c62e97404b03bff82d3dd6b39d02",
            "a6b744578f9948efa47ef765a7751756",
            "8db56394ef7947d0ad8e187ec9858725",
            "8065a557a50241da8a07144a7972ce76",
            "e7bac1daada64b15a880ace3b15270dc",
            "612f4fa491de4951892fe25f3ae60f2a",
            "9961fc413d664b29abedd2a37909a2b8",
            "d409ff6583f64b9aa5ec17971d9995c2",
            "775083b289b34eb08b0e63c9991bb661",
            "97c9817dee4c4cac864fff555e94c11c"
          ]
        },
        "outputId": "74b63a5b-6add-4353-e2c3-0f211d06a731"
      },
      "id": "lmMYMrOZNuDI",
      "execution_count": null,
      "outputs": [
        {
          "output_type": "display_data",
          "data": {
            "text/plain": [
              "  0%|          | 0/10 [00:00<?, ?it/s]"
            ],
            "application/vnd.jupyter.widget-view+json": {
              "version_major": 2,
              "version_minor": 0,
              "model_id": "675e2a4be89a480385513b86332f6b9f"
            }
          },
          "metadata": {}
        },
        {
          "output_type": "stream",
          "name": "stdout",
          "text": [
            "EPOCH 0\n",
            " Train loss: 0.63545\n",
            "   Val loss: 0.49439\n",
            "Instrument Type Test With VGG16 on epoch 0 has accuracy: 84.000\n",
            "\n",
            "EPOCH 1\n",
            " Train loss: 0.38147\n",
            "   Val loss: 0.37624\n",
            "Instrument Type Test With VGG16 on epoch 1 has accuracy: 91.000\n",
            "\n",
            "EPOCH 2\n",
            " Train loss: 0.28559\n",
            "   Val loss: 0.22318\n",
            "Instrument Type Test With VGG16 on epoch 2 has accuracy: 93.000\n",
            "\n",
            "EPOCH 3\n",
            " Train loss: 0.19066\n",
            "   Val loss: 0.20326\n",
            "Instrument Type Test With VGG16 on epoch 3 has accuracy: 92.000\n",
            "\n",
            "EPOCH 4\n",
            " Train loss: 0.14811\n",
            "   Val loss: 0.23456\n",
            "Instrument Type Test With VGG16 on epoch 4 has accuracy: 90.000\n",
            "\n",
            "EPOCH 5\n"
          ]
        }
      ]
    },
    {
      "cell_type": "code",
      "execution_count": null,
      "id": "728432a5",
      "metadata": {
        "id": "728432a5"
      },
      "outputs": [],
      "source": [
        "# Test with Fine-Tuning\n",
        "if LOAD_INS_COUNTRY:\n",
        "  alex_country_results = train_test_network(alexnet_country, train_loader_country, val_loader_country, test_loader_country, criterion_country, optimizer_country, description = \"Country Made Test\", nepoch=num_epochs_country)\n",
        "  queue_loss_list_country, train_loss_list_country, val_loss_list_country, test_acc_list_country = alex_country_results\n",
        "  test_network(alexnet_country, test_loader_country, description = \"Country Made Test\", epoch_cnt=\"after training\")\n",
        "  with open(\"drive/MyDrive/CS342/alexnet_country.dat\", \"wb\") as f:\n",
        "    pickle.dump(alexnet_country, f)\n",
        "  with open(\"drive/MyDrive/CS342/alex_country_results.dat\", \"wb\") as f:\n",
        "    pickle.dump(alex_country_results, f)"
      ]
    },
    {
      "cell_type": "code",
      "source": [
        "# Test with all Frozen-Layers Except for The Last Layer (Off-the-Shelf)\n",
        "if LOAD_INS_COUNTRY:\n",
        "  alex_country_results_off_shelf = train_test_network(alexnet_country_off_shelf, train_loader_country, val_loader_country, test_loader_country, criterion_country_off_shelf, optimizer_country_off_shelf, description = \"Country Made Test Off The Shelf\", nepoch=num_epochs_country_off_shelf)\n",
        "  queue_loss_list_country_off_shelf, train_loss_list_country_off_shelf, val_loss_list_country_off_shelf, test_acc_list_country_off_shelf = alex_country_results_off_shelf\n",
        "  test_network(alexnet_country_off_shelf, test_loader_country, description = \"Country Made Test Off The Shelf\", epoch_cnt=\"after training\")\n",
        "  with open(\"drive/MyDrive/CS342/alexnet_country_off_shelf.dat\", \"wb\") as f:\n",
        "    pickle.dump(alexnet_country, f)\n",
        "  with open(\"drive/MyDrive/CS342/alex_country_results_off_shelf.dat\", \"wb\") as f:\n",
        "    pickle.dump(alex_country_results, f)"
      ],
      "metadata": {
        "id": "5PMOfBSNO6-N"
      },
      "id": "5PMOfBSNO6-N",
      "execution_count": null,
      "outputs": []
    },
    {
      "cell_type": "code",
      "source": [
        "# Test with Option 2 For Image Normalization (Local Standardization)\n",
        "if LOAD_INS_COUNTRY:\n",
        "  alex_country_results_OPT2 = train_test_network(alexnet_country_OPT2, train_loader_country, val_loader_country, test_loader_country, criterion_country_OPT2, optimizer_country_OPT2, description = \"Country Made Test With Local Standardization\", nepoch=num_epochs_country_OPT2)\n",
        "  queue_loss_list_country_OPT2, train_loss_list_country_OPT2, val_loss_list_country_OPT2, test_acc_list_country_OPT2 = alex_country_results_OPT2\n",
        "  test_network(alexnet_country_OPT2, test_loader_country, description = \"Country Made Test With Local Standardization\", epoch_cnt=\"after training\")\n",
        "  with open(\"drive/MyDrive/CS342/alexnet_country_OPT2.dat\", \"wb\") as f:\n",
        "    pickle.dump(alexnet_country_OPT2, f)\n",
        "  with open(\"drive/MyDrive/CS342/alex_country_results_OPT2.dat\", \"wb\") as f:\n",
        "    pickle.dump(alex_country_results_OPT2, f)"
      ],
      "metadata": {
        "id": "_1IJcL75yXfG"
      },
      "id": "_1IJcL75yXfG",
      "execution_count": null,
      "outputs": []
    },
    {
      "cell_type": "code",
      "source": [
        "# Test on ResNet\n",
        "if LOAD_INS_COUNTRY:\n",
        "  resnet_country_results = train_test_network(resnet_country_made, train_loader_country, val_loader_country, test_loader_country, criterion_country_made_resnet, optimizer_country_made_resnet, description = \"Country Made Test with Resnet\", nepoch=num_epochs_country_made_resnet)\n",
        "  queue_loss_list_country_resnet, train_loss_list_country_resnet, val_loss_list_country_resnet, test_acc_list_country_resnet = resnet_country_results\n",
        "  test_network(resnet_country_made, test_loader_country, description = \"Country Made Test with Resnet\", epoch_cnt=\"after training\")\n",
        "  with open(\"drive/MyDrive/CS342/resnet_country_made.dat\", \"wb\") as f:\n",
        "    pickle.dump(resnet_country_made, f)\n",
        "  with open(\"drive/MyDrive/CS342/resnet_country_results.dat\", \"wb\") as f:\n",
        "    pickle.dump(resnet_country_results, f)"
      ],
      "metadata": {
        "id": "aCIV98dX5T9n"
      },
      "id": "aCIV98dX5T9n",
      "execution_count": null,
      "outputs": []
    },
    {
      "cell_type": "code",
      "source": [
        "# Test with extra layer of AlexNet (finetuning=True)\n",
        "if LOAD_INS_COUNTRY:\n",
        "  alex_country_results_extra_layer = train_test_network(alexnet_country_made_extra_layer, train_loader_country, val_loader_country, test_loader_country, criterion_country_made_extra_layer, optimizer_country_made_extra_layer, description = \"Country Made Test with Extra Layer\", nepoch=num_epochs_country_made_extra_layer)\n",
        "  queue_loss_list_country_extra_layer, train_loss_list_country_extra_layer, val_loss_list_country_extra_layer, test_acc_list_country_extra_layer = alex_country_results_extra_layer\n",
        "  test_network(alexnet_country_made_extra_layer, test_loader_country, description = \"Country Made Test with Extra Layer\", epoch_cnt=\"after training\")\n",
        "  with open(\"drive/MyDrive/CS342/alex_country_results_extra_layer.dat\", \"wb\") as f:\n",
        "    pickle.dump(alex_country_results_extra_layer, f)\n",
        "  with open(\"drive/MyDrive/CS342/alex_country_results_extra_layer.dat\", \"wb\") as f:\n",
        "    pickle.dump(alex_country_results_extra_layer, f)"
      ],
      "metadata": {
        "id": "9dHu1DYX9kSI"
      },
      "id": "9dHu1DYX9kSI",
      "execution_count": null,
      "outputs": []
    },
    {
      "cell_type": "code",
      "source": [
        "# qqq Test with extra layer of VGG16 (finetuning=True)\n",
        "if LOAD_INS_COUNTRY:\n",
        "  vgg16_country_extra_layer_results = train_test_network(vgg16_country_extra_layer, train_loader_country, val_loader_country, test_loader_country, criterion_vgg16_country_extra_layer, optimizer_vgg16_country_extra_layer, description = \"Country Made Test with VGG16 Extra Layer\", nepoch=10)\n",
        "  queue_loss_list_country_extra_layer, train_loss_list_country_extra_layer, val_loss_list_country_extra_layer, test_acc_list_country_extra_layer = alex_country_results_extra_layer\n",
        "  test_network(alexnet_country_made_extra_layer, test_loader_country, description = \"Country Made Test with VGG16 Extra Layer\", epoch_cnt=\"after training\")\n",
        "  with open(\"drive/MyDrive/CS342/vgg16_country_extra_layer.dat\", \"wb\") as f:\n",
        "    pickle.dump(vgg16_country_extra_layer, f)\n",
        "  with open(\"drive/MyDrive/CS342/vgg16_country_extra_layer_results.dat\", \"wb\") as f:\n",
        "    pickle.dump(vgg16_country_extra_layer_results, f)"
      ],
      "metadata": {
        "id": "n7NL4GE50ASe"
      },
      "id": "n7NL4GE50ASe",
      "execution_count": null,
      "outputs": []
    },
    {
      "cell_type": "code",
      "source": [
        "# Test with extra layer of AlexNet (finetuning=True)\n",
        "if LOAD_INS_COUNTRY:\n",
        "  ins_vg16_country_made_results = train_test_network(ins_vg16_country_made, train_loader_country, val_loader_country, test_loader_country, criterion_vg16_country_made, optimizer_vg16_country_made, description = \"Country Made Test with VGG16\", nepoch=num_epochs_ins_vg16_country_made)\n",
        "  queue_loss_list_ins_vg16_country_made_results, train_loss_list_country_ins_vg16_country_made_results, val_loss_list_ins_vg16_country_made_results, test_acc_list_ins_vg16_country_made_results = ins_vg16_country_made_results\n",
        "  with open(\"drive/MyDrive/CS342/ins_vg16_country_made.dat\", \"wb\") as f:\n",
        "    pickle.dump(ins_vg16_country_made, f)\n",
        "  test_network(alexnet_country_made_extra_layer, test_loader_country, description = \"Country Made Test with VGG16\", epoch_cnt=\"after training\")\n",
        "  with open(\"drive/MyDrive/CS342/ins_vg16_country_made_results.dat\", \"wb\") as f:\n",
        "    pickle.dump(ins_vg16_country_made_results, f)"
      ],
      "metadata": {
        "id": "PIX5nQ0QRbxD"
      },
      "id": "PIX5nQ0QRbxD",
      "execution_count": null,
      "outputs": []
    },
    {
      "cell_type": "markdown",
      "source": [
        "Balanced Dataset training and testing"
      ],
      "metadata": {
        "id": "ph-dxcQDLAnH"
      },
      "id": "ph-dxcQDLAnH"
    },
    {
      "cell_type": "code",
      "execution_count": null,
      "id": "2d20b79d",
      "metadata": {
        "id": "2d20b79d"
      },
      "outputs": [],
      "source": [
        "if LOAD_INS_BALANCED:\n",
        "  queue_loss_list_ins_balanced, train_loss_list_ins_balanced, val_loss_list_ins_balanced, test_acc_list_ins_balanced  = train_test_network(alexnet_ins_balanced, train_loader_ins_balanced, val_loader_ins_balanced, test_loader_ins_balanced, criterion_ins_balanced, optimizer_ins_balanced, description = \"Instrument Type Test With Balanced Dataset\", nepoch=num_epochs_ins_balanced)\n",
        "  test_network(alexnet_ins_balanced, test_loader_ins_balanced, description=\"Instrument Type Test With Balanced Dataset\", epoch_cnt=\"after training\")\n",
        "  alexnet_ins_balanced_results =   queue_loss_list_ins_balanced, train_loss_list_ins_balanced, val_loss_list_ins_balanced, test_acc_list_ins_balanced\n",
        "  with open(\"drive/MyDrive/CS342/alexnet_ins_balanced.dat\", \"wb\") as f:\n",
        "      pickle.dump(alexnet_ins_balanced, f)\n",
        "  with open(\"drive/MyDrive/CS342/alexnet_ins_balanced_results.dat\", \"wb\") as f:\n",
        "      pickle.dump(alexnet_ins_balanced_results, f)"
      ]
    },
    {
      "cell_type": "markdown",
      "source": [
        "## Creating different test set, model pairs to Test General Performance"
      ],
      "metadata": {
        "id": "XXvwNjgp8OI6"
      },
      "id": "XXvwNjgp8OI6"
    },
    {
      "cell_type": "markdown",
      "source": [
        "# Evaluation Visualization:"
      ],
      "metadata": {
        "id": "E7Z7kYrfHSYx"
      },
      "id": "E7Z7kYrfHSYx"
    },
    {
      "cell_type": "code",
      "source": [
        "def plot_accuracy(loss_dictionary, title = \"Accuracy Results from AlexNet\"): # acc_list_1, acc_list_1_description, acc_list_2, acc_list_2_description\n",
        "  plt.title(title)\n",
        "  plt.xlabel('Epoch')\n",
        "  plt.ylabel('Accuracy')\n",
        "  plt.ylim([0,100])\n",
        "  for description, acc_list in loss_dictionary.items():\n",
        "    epoch_num = list(range(len(acc_list)))\n",
        "    # plot lines\n",
        "    plt.plot(epoch_num, acc_list, label = description, linestyle=\"-\")\n",
        "  plt.legend()\n",
        "  title = title.replace(\"\\n\",\"\").replace(\" \",\"_\")\n",
        "  plt.savefig('drive/MyDrive/CS342/'+title+'.png')\n",
        "  plt.show()\n"
      ],
      "metadata": {
        "id": "h1ivpGzkhxvq"
      },
      "id": "h1ivpGzkhxvq",
      "execution_count": null,
      "outputs": []
    },
    {
      "cell_type": "code",
      "source": [
        "def plot_loss_train_eval(loss_dictionary,title, y_axis_range = None,):\n",
        "  plt.title(title)\n",
        "  plt.xlabel('Epoch')\n",
        "  plt.ylabel('Loss')\n",
        "  if y_axis_range!=None:\n",
        "    plt.ylim(y_axis_range)\n",
        "  for description, loss_list in loss_dictionary.items():\n",
        "    epoch_num = list(range(len(loss_list)))\n",
        "    # plot lines\n",
        "    plt.plot(epoch_num, loss_list, label = description, linestyle=\"-\")\n",
        "\n",
        "  plt.legend()\n",
        "  title = title.replace(\"\\n\",\"\").replace(\" \",\"_\")\n",
        "  plt.savefig('drive/MyDrive/CS342/'+title+'.png')\n",
        "  plt.show()\n"
      ],
      "metadata": {
        "id": "7q5t2DlUgRF_"
      },
      "id": "7q5t2DlUgRF_",
      "execution_count": null,
      "outputs": []
    },
    {
      "cell_type": "code",
      "source": [
        "from sklearn.metrics import confusion_matrix\n",
        "from sklearn.metrics import classification_report\n",
        "from torch.nn.utils.rnn import pad_sequence\n",
        "\n",
        "def generate_pretty_confusion_matrix(model, test_loader, label_names, file_name, title):\n",
        "    correct = 0\n",
        "    total = 0\n",
        "    true, pred = [], []\n",
        "    model.eval()\n",
        "    num_labels = 1\n",
        "    with torch.no_grad():\n",
        "      for inputs, labels  in test_loader:\n",
        "        inputs = inputs.to(device)\n",
        "        # print(labels.is_cuda)\n",
        "        labels = labels.to(device)\n",
        "        num_labels = max(max(labels), num_labels)\n",
        "        outputs = model.forward(inputs)\n",
        "        # print(outputs.is_cuda)\n",
        "        predicted = torch.argmax(outputs.cpu(), dim=1).cpu()\n",
        "        labels = labels.cpu()\n",
        "        # print(predicted.is_cuda)\n",
        "        total += labels.size(0)\n",
        "        correct += (predicted == labels).sum().item()\n",
        "        true.append(labels)\n",
        "        pred.append(predicted)\n",
        "    true_1 = torch.flatten(pad_sequence(true))\n",
        "    pred_1 = torch.flatten(pad_sequence(pred))\n",
        "    cm_analysis(true_1, pred_1, label_names,file_name, ymap=None, figsize=(10,10), plt_title=title)"
      ],
      "metadata": {
        "id": "FmF9axzwhtcy"
      },
      "id": "FmF9axzwhtcy",
      "execution_count": null,
      "outputs": []
    },
    {
      "cell_type": "code",
      "source": [
        "import numpy as np\n",
        "import pandas as pd\n",
        "import matplotlib.pyplot as plt\n",
        "import seaborn as sns\n",
        "from sklearn.metrics import accuracy_score, confusion_matrix\n",
        "\n",
        "# Simplified from https://raw.githubusercontent.com/vlainic/machine-learning-visualizations/master/cm_analysis.py\n",
        "def cm_analysis(y_true, y_pred, labels, file_name, ymap=None, figsize=(10,10), plt_title=None):\n",
        "    cm = confusion_matrix(y_true, y_pred) \n",
        "    cm_sum = np.sum(cm, axis=1, keepdims=True)\n",
        "    cm_perc = cm / cm_sum.astype(float) * 100\n",
        "    annot = np.empty_like(cm).astype(str)\n",
        "    nrows, ncols = cm.shape\n",
        "    for i in range(nrows):\n",
        "        for j in range(ncols):\n",
        "            c = cm[i, j]\n",
        "            p = cm_perc[i, j]\n",
        "            if i == j:\n",
        "                s = cm_sum[i]\n",
        "                annot[i, j] = '%.1f%%\\n%d/%d' % (p, c, s)\n",
        "            elif c == 0:\n",
        "                annot[i, j] = ''\n",
        "            else:\n",
        "                annot[i, j] = '%.1f%%\\n%d' % (p, c)\n",
        "    cm = pd.DataFrame(cm, index=labels, columns=labels)\n",
        "    cm.index.name = 'Actual'\n",
        "    cm.columns.name = 'Predicted'\n",
        "    fig, ax = plt.subplots(figsize=figsize)\n",
        "    plt.title(plt_title)\n",
        "    sns.set(font_scale=1.2)\n",
        "    sns.heatmap(cm, annot=annot, fmt='', ax=ax, cmap=\"YlGnBu\") ### options: YlGnBu, jet, summer\n",
        "    plt.savefig(file_name)\n",
        "    plt.show()"
      ],
      "metadata": {
        "id": "kggVsLwp3mGY"
      },
      "id": "kggVsLwp3mGY",
      "execution_count": null,
      "outputs": []
    },
    {
      "cell_type": "code",
      "source": [
        "with open(\"drive/MyDrive/CS342/alexnet_ins_view.dat\", \"rb\") as f: # This is instrument type data\n",
        "    alexnet_ins_view = pickle.load(f)\n",
        "if \"test_loader_ins_view\" not in locals():\n",
        "  with open(\"drive/MyDrive/CS342/test_loader_ins_view.dat\", \"rb\") as f: # This is instrument type data\n",
        "      test_loader_ins_view = pickle.load(f)\n",
        "generate_pretty_confusion_matrix(alexnet_ins_view, test_loader_ins_view, [\"Front\", 'Back'], \"drive/MyDrive/CS342/Confusion_Matrix_Ins_View\",title=\"Confusion Matrix Instrument View\\n\")\n",
        "del alexnet_ins_view\n",
        "del test_loader_ins_view\n",
        "# conf_matrix, class_report = generate_confusion_matrix_and_classification_report(alexnet_ins_view, test_loader_ins_view)"
      ],
      "metadata": {
        "id": "ozKU7IJiBxF7",
        "colab": {
          "base_uri": "https://localhost:8080/",
          "height": 637
        },
        "outputId": "93eed7f3-7396-426d-9141-95db5586eb59"
      },
      "id": "ozKU7IJiBxF7",
      "execution_count": null,
      "outputs": [
        {
          "output_type": "display_data",
          "data": {
            "text/plain": [
              "<Figure size 720x720 with 2 Axes>"
            ],
            "image/png": "[encoded data removed]"
          },
          "metadata": {
            "needs_background": "light"
          }
        }
      ]
    },
    {
      "cell_type": "code",
      "source": [
        "with open(\"drive/MyDrive/CS342/alexnet_ins.dat\", \"rb\") as f: # This is instrument type data\n",
        "    alexnet_ins = pickle.load(f)\n",
        "if \"test_loader_ins\" not in locals():\n",
        "  with open(\"drive/MyDrive/CS342/test_loader_ins.dat\", \"rb\") as f: # This is instrument type data\n",
        "      test_loader_ins = pickle.load(f)\n",
        "generate_pretty_confusion_matrix(alexnet_ins, test_loader_ins, [\"Violin\", 'Viola','Cello'], \"drive/MyDrive/CS342/Confusion_Matrix_Ins_Type\",title=\"Confusion Matrix Instrument Type\\n\")\n",
        "del alexnet_ins\n",
        "del test_loader_ins"
      ],
      "metadata": {
        "id": "Zx4W_xOY-rGO"
      },
      "id": "Zx4W_xOY-rGO",
      "execution_count": null,
      "outputs": []
    },
    {
      "cell_type": "code",
      "source": [
        "with open(\"drive/MyDrive/CS342/alexnet_country.dat\", \"rb\") as f: # This is instrument type data\n",
        "    alexnet_country = pickle.load(f)\n",
        "if \"test_loader_country\" not in locals():\n",
        "  with open(\"drive/MyDrive/CS342/test_loader_country.dat\", \"rb\") as f: # This is instrument type data\n",
        "      test_loader_country = pickle.load(f)\n",
        "generate_pretty_confusion_matrix(alexnet_country, test_loader_country, [\"Italy\", 'France','Holland','USA', 'Germany','Austria',\"Holland\"], \"drive/MyDrive/CS342/Confusion_Matrix_Ins_Country\",title=\"Confusion Matrix Instrument Country Made\\n\")\n",
        "del alexnet_country\n",
        "del test_loader_country"
      ],
      "metadata": {
        "id": "GxgxXJZf8Z-Q"
      },
      "id": "GxgxXJZf8Z-Q",
      "execution_count": null,
      "outputs": []
    },
    {
      "cell_type": "code",
      "source": [
        "with open(\"drive/MyDrive/CS342/ins_result_data.dat\", \"rb\") as f: # This is instrument type data\n",
        "      queue_loss_list_ins, train_loss_list_ins, val_loss_list_ins, test_acc_list_ins  = pickle.load(f)\n",
        "plot_loss_train_eval({\"Training Loss\":train_loss_list_ins, \"Validation Loss\": val_loss_list_ins}, title = 'Instrument Type Prediction')"
      ],
      "metadata": {
        "id": "UUAjfmGlgmBM",
        "colab": {
          "base_uri": "https://localhost:8080/",
          "height": 306
        },
        "outputId": "6a90f1dd-267f-4eb8-8dad-1358bac34788"
      },
      "id": "UUAjfmGlgmBM",
      "execution_count": null,
      "outputs": [
        {
          "output_type": "display_data",
          "data": {
            "text/plain": [
              "<Figure size 432x288 with 1 Axes>"
            ],
            "image/png": "[encoded data removed]"
          },
          "metadata": {}
        }
      ]
    },
    {
      "cell_type": "code",
      "source": [
        "with open(\"drive/MyDrive/CS342/alex_ins_view_results.dat\", \"rb\") as f: # This is instrument type data\n",
        "        queue_loss_list_ins_view, train_loss_list_ins_view, val_loss_list_ins_view, test_acc_list_ins_view = pickle.load(f)\n",
        "loss_dict_ins_view = {\"Training Loss\":train_loss_list_ins_view, \"Validation Loss\": val_loss_list_ins_view}\n",
        "plot_loss_train_eval(loss_dict_ins_view, title = 'Instrument View Prediction (Front versus Back)',y_axis_range =(0,1))"
      ],
      "metadata": {
        "id": "Vsg0yI6Yg3i4",
        "colab": {
          "base_uri": "https://localhost:8080/",
          "height": 306
        },
        "outputId": "90512090-d0a2-47ee-de82-b3ee73c95b0c"
      },
      "id": "Vsg0yI6Yg3i4",
      "execution_count": null,
      "outputs": [
        {
          "output_type": "display_data",
          "data": {
            "text/plain": [
              "<Figure size 432x288 with 1 Axes>"
            ],
            "image/png": "[encoded data removed]"
          },
          "metadata": {}
        }
      ]
    },
    {
      "cell_type": "code",
      "source": [
        "with open(\"drive/MyDrive/CS342/alex_country_results.dat\", \"rb\") as f:\n",
        "  queue_loss_list_country, train_loss_list_country, val_loss_list_country, test_acc_list_country = pickle.load(f)\n",
        "loss_dict_ins_view = {\"Training Loss\":train_loss_list_country, \"Validation Loss\": val_loss_list_country}\n",
        "plot_loss_train_eval(loss_dict_ins_view,title = \"Country Made Prediction\" )"
      ],
      "metadata": {
        "id": "X77QyfCNtrEK"
      },
      "id": "X77QyfCNtrEK",
      "execution_count": null,
      "outputs": []
    },
    {
      "cell_type": "code",
      "source": [
        "with open(\"drive/MyDrive/CS342/alex_country_results.dat\", \"rb\") as f:\n",
        "  queue_loss_list_country, train_loss_list_country, val_loss_list_country, test_acc_list_country = pickle.load(f)\n",
        "loss_dict_ins_view = {\"Training Loss\":train_loss_list_country, \"Validation Loss\": val_loss_list_country}\n",
        "plot_loss_train_eval(loss_dict_ins_view,title = \"Country Made Prediction\" )"
      ],
      "metadata": {
        "id": "ZKz3y5Qm2yMG"
      },
      "id": "ZKz3y5Qm2yMG",
      "execution_count": null,
      "outputs": []
    },
    {
      "cell_type": "code",
      "source": [
        "with open(\"drive/MyDrive/CS342/ins_result_data.dat\", \"rb\") as f:\n",
        "  queue_loss_list_ins, train_loss_list_ins, val_loss_list_ins, test_acc_list_ins = pickle.load(f)\n",
        "with open(\"drive/MyDrive/CS342/alexnet_ins_balanced_results.dat\", \"rb\") as f:\n",
        "  queue_loss_list_ins_balanced, train_loss_list_ins_balanced, val_loss_list_ins_balanced, test_acc_list_ins_balanced = pickle.load(f)\n",
        "loss_dict_ins_comparision = {\"Training Loss Balanced Dataset\":train_loss_list_ins_balanced, \"Validation Loss Balanced Dataset\": val_loss_list_ins_balanced,\"Training Loss Full Dataset\":train_loss_list_ins, \"Validation Loss Full Dataset\": val_loss_list_ins}\n",
        "plot_loss_train_eval(loss_dict_ins_comparision,title = \"Instrument Type Prediction Performance Comparison\" )"
      ],
      "metadata": {
        "id": "aYj2gynyLr3N",
        "colab": {
          "base_uri": "https://localhost:8080/",
          "height": 306
        },
        "outputId": "172f73d6-6f61-436f-d7a1-848691e567b7"
      },
      "id": "aYj2gynyLr3N",
      "execution_count": null,
      "outputs": [
        {
          "output_type": "display_data",
          "data": {
            "text/plain": [
              "<Figure size 432x288 with 1 Axes>"
            ],
            "image/png": "[encoded data removed]"
          },
          "metadata": {}
        }
      ]
    },
    {
      "cell_type": "code",
      "source": [
        "plot_accuracy({\"Instrument Type Prediction with Balanced Dataset\": test_acc_list_ins_balanced, \"Instrument Type Prediction with Weighted Loss\":test_acc_list_ins}, title = \"Accuracy Results from AlexNet\")"
      ],
      "metadata": {
        "id": "8ZuSdsJUu02S"
      },
      "id": "8ZuSdsJUu02S",
      "execution_count": null,
      "outputs": []
    },
    {
      "cell_type": "code",
      "source": [
        "with open(\"drive/MyDrive/CS342/alex_country_results.dat\", \"rb\") as f:\n",
        "  queue_loss_list_country, train_loss_list_country, val_loss_list_country, test_acc_list_country = pickle.load(f)\n",
        "with open(\"drive/MyDrive/CS342/alex_country_results_OPT2.dat\", \"rb\") as f:\n",
        "  queue_loss_list_country_OPT2, train_loss_list_country_OPT2, val_loss_list_country_OPT2, test_acc_list_country_OPT2 = pickle.load(f)\n",
        "loss_dict_ins_view = {\"Training Loss Local Standardization\":train_loss_list_country_OPT2, \"Validation Loss Local Standardization\": val_loss_list_country_OPT2,\"Training Loss Global Standardization\":train_loss_list_country, \"Validation Loss Global Standardization\": val_loss_list_country}\n",
        "plot_loss_train_eval(loss_dict_ins_view,title = \"Country Made Prediction with Different Image Standardizations\" )"
      ],
      "metadata": {
        "id": "lku4KfkM3ZoO"
      },
      "id": "lku4KfkM3ZoO",
      "execution_count": null,
      "outputs": []
    },
    {
      "cell_type": "code",
      "source": [
        "description_to_acc_list = {\n",
        "    \"Country Made Prediction with Global Standardization (Opt 1)\" : test_acc_list_country ,\n",
        "    \"Country Made Prediction with Local Standardization (Opt 2)\" : alexnet_country_OPT2\n",
        "}\n",
        "plot_accuracy(description_to_acc_list)"
      ],
      "metadata": {
        "id": "p2jaA9Gp3-X_"
      },
      "id": "p2jaA9Gp3-X_",
      "execution_count": null,
      "outputs": []
    },
    {
      "cell_type": "code",
      "source": [
        "description_to_acc_list = {\n",
        "    \"Instrument Type Prediction\": test_acc_list_ins,\n",
        "    'Instrument View Prediction (Front versus Back)': test_acc_list_ins_view,\n",
        "    \"Country Made Prediction\" : test_acc_list_country\n",
        "}\n",
        "plot_accuracy(description_to_acc_list, title = \"AlexNet Accuracy with Fine-Tuning \\n and Modified Last Linear Layer\")"
      ],
      "metadata": {
        "id": "6RTLk-zoiqZs"
      },
      "id": "6RTLk-zoiqZs",
      "execution_count": null,
      "outputs": []
    },
    {
      "cell_type": "markdown",
      "source": [
        "### Computational Experiment: Off-the-Shelf versus Fine-Tuning\n",
        "Compare the effectiveness of “off-the-shelf” to “fine-tuning” learning strategy.<br>\n",
        "Question: \n",
        "Will fine-tuning all layers of AlexNet lead to increased performance compared to freezing the weights in earlier layers? Which method will lead to a better model for predicting instrument type and country made?<br>\n",
        "Option 1: \n",
        "Only Modify the final Layer of AlexNet <br>\n",
        "Option 2: \n",
        "Allow backpropagation and weight updating throughout all of AlexNet.<br>\n"
      ],
      "metadata": {
        "id": "Vb7hXj6CdHtc"
      },
      "id": "Vb7hXj6CdHtc"
    },
    {
      "cell_type": "code",
      "source": [
        "# Computational Experiment 3:\n",
        "with open(\"drive/MyDrive/CS342/ins_result_data.dat\", \"rb\") as f: # This is instrument type data\n",
        "        queue_loss_list_ins, train_loss_list_ins, val_loss_list_ins, test_acc_list_ins  = pickle.load(f)\n",
        "# plot_loss_train_eval({\"Training Loss\":train_loss_list_ins, \"Validation Loss\": val_loss_list_ins}, title = 'Instrument Type Prediction')\n",
        "with open(\"drive/MyDrive/CS342/ins_result_data_off_shelf.dat\", \"rb\") as f: # This is instrument type data\n",
        "        queue_loss_list_ins_off_shelf, train_loss_list_ins_off_shelf, val_loss_list_ins_off_shelf, test_acc_list_ins_off_shelf  = pickle.load(f)\n",
        "plot_loss_train_eval({\"Training Loss Fine-Tuning\":train_loss_list_ins, \"Validation Loss Fine-Tuning\": val_loss_list_ins,\n",
        "                      \"Training Loss Off-The-Shelf\":train_loss_list_ins_off_shelf, \"Validation Loss  Off-The-Shelf\": val_loss_list_ins_off_shelf}, title = 'Instrument Type Prediction Performance Comparision')"
      ],
      "metadata": {
        "id": "9ogJ392RhvCH",
        "colab": {
          "base_uri": "https://localhost:8080/",
          "height": 306
        },
        "outputId": "fed595b0-c471-492c-c017-c18112b153bb"
      },
      "id": "9ogJ392RhvCH",
      "execution_count": null,
      "outputs": [
        {
          "output_type": "display_data",
          "data": {
            "text/plain": [
              "<Figure size 432x288 with 1 Axes>"
            ],
            "image/png": "[encoded data removed]"
          },
          "metadata": {}
        }
      ]
    },
    {
      "cell_type": "code",
      "source": [
        "plot_accuracy({\"Instrument Type Prediction with Fine-Tuning\": test_acc_list_ins, \"Instrument Type Prediction Off-The_Shelf\":test_acc_list_ins_off_shelf}, title = \"Accuracy Results from AlexNet\")"
      ],
      "metadata": {
        "id": "RDZlr4rQjI2y",
        "colab": {
          "base_uri": "https://localhost:8080/",
          "height": 306
        },
        "outputId": "de4b1326-bc49-4c35-d8c2-c1c5533914fa"
      },
      "id": "RDZlr4rQjI2y",
      "execution_count": null,
      "outputs": [
        {
          "output_type": "display_data",
          "data": {
            "text/plain": [
              "<Figure size 432x288 with 1 Axes>"
            ],
            "image/png": "[encoded data removed]"
          },
          "metadata": {}
        }
      ]
    },
    {
      "cell_type": "markdown",
      "id": "42a8612d",
      "metadata": {
        "id": "42a8612d"
      },
      "source": [
        "### Computational Experiment: Creating Class Saliency Map to Detect Important Features <br>\n",
        "Question:\n",
        "What parts of a musical instrument are most important for predicting the view and type of instrument?<br>\n",
        "\n",
        "Methodology:\n",
        "We decide which part of the image is most important by adding peturbations to an image, and then we attribute the activation of unit i to specific elements of each input. We compute difference in activations by the following formula: Δai(X’) = |ai(X) — ai(X’)|. Below is an example of a large perturbation to an input image that decreases the performance of the model. For the results below, our buble size is 15 pixels in diameter.\n"
      ]
    },
    {
      "cell_type": "code",
      "source": [
        "# function that adds bubbles to an image ( a circle of zeroes that replaces existing pixel values at a x,y location)\n",
        "def peturb_image(input_image, x_center, y_center, bubble_size):\n",
        "    input_image_copy = copy.deepcopy(input_image)\n",
        "#     print(input_image_copy)\n",
        "    xx, yy,zz = np.meshgrid(range(224), range(224), range(3))\n",
        "    image_mask = (np.sqrt((xx - y_center)**2 + (yy - x_center)**2) > bubble_size//2).astype(np.float32)\n",
        "#     print(image_mask)\n",
        "    image_mask_tensor = torch.tensor(image_mask, dtype=torch.float32).cpu()\n",
        "#     print(image_mask_tensor.shape)\n",
        "    image_with_mask= image_mask_tensor * torch.transpose(input_image_copy,0, 2).cpu()\n",
        "    image_with_mask = torch.transpose(image_with_mask,0, 2)\n",
        "    # Makes values white instead of 0\n",
        "    image_with_mask[image_with_mask==0] = torch.max(image_with_mask)\n",
        "#     image_with_mask = image_with_mask[image_with_mask==0] = 2\n",
        "#     for i in range()\n",
        "    return image_with_mask\n",
        "\n",
        "def reverse_dimensions(arr):\n",
        "    arr1 =  torch.transpose(arr, 0 , 2)\n",
        "    arr2 = torch.transpose(arr1, 0 , 1)\n",
        "    return arr2"
      ],
      "metadata": {
        "id": "7SlO_kCi32D-"
      },
      "id": "7SlO_kCi32D-",
      "execution_count": null,
      "outputs": []
    },
    {
      "cell_type": "code",
      "source": [
        "# Calculates and returns difference in loss of bubble peturbations at each pixel\n",
        "def calc_attribution_bubbles(image_arr, model, criterion, step_size = 4, bubble_size=10):\n",
        "    loss_difference_vals = torch.zeros(256,256)\n",
        "    output_ins_type = image_arr[1]\n",
        "    orig_image = peturb_image(copy.deepcopy(image_arr[0]), x_center = 0, y_center=0, bubble_size=0)\n",
        "    orig_predicted = model.forward(orig_image.unsqueeze(0).to(device))\n",
        "    pred = torch.tensor(output_ins_type).unsqueeze(0).to(device)\n",
        "    assert pred.is_cuda and orig_predicted.is_cuda\n",
        "    orig_loss = criterion(orig_predicted, pred)\n",
        "    for i_pixel in range(0,256,step_size):\n",
        "        for j_pixel  in range(0,256,step_size):\n",
        "            modified_input_image = peturb_image(copy.deepcopy(image_arr[0]), i_pixel, j_pixel, bubble_size)\n",
        "            with torch.no_grad():\n",
        "                input_squeezed = modified_input_image.unsqueeze(0).to(device)\n",
        "                assert input_squeezed.is_cuda\n",
        "                predicted = model.forward(input_squeezed)\n",
        "    #             predicted = alexnet_ins.forward(torch.zeros(3,256,256).unsqueeze(0))\n",
        "#                 print(\"predicted: {}\".format(predicted))\n",
        "                ans = torch.tensor(output_ins_type).unsqueeze(0).to(device)\n",
        "                assert ans.is_cuda\n",
        "                loss = criterion(predicted, ans) \n",
        "                # print(\"loss: {}\".format(loss))\n",
        "                loss_difference_vals[i_pixel][j_pixel] = loss - orig_loss\n",
        "    return loss_difference_vals"
      ],
      "metadata": {
        "id": "PjfpXm9Y35FM"
      },
      "id": "PjfpXm9Y35FM",
      "execution_count": null,
      "outputs": []
    },
    {
      "cell_type": "code",
      "source": [
        "def showTensor(tensor):\n",
        "    plt.figure()\n",
        "    plt.imshow(tensor.numpy())\n",
        "    plt.colorbar()\n",
        "    plt.show()"
      ],
      "metadata": {
        "id": "UgPs9UW739b4"
      },
      "id": "UgPs9UW739b4",
      "execution_count": null,
      "outputs": []
    },
    {
      "cell_type": "code",
      "source": [
        "if LOAD_INS_VIEW or LOAD_INS_TYPE:\n",
        "  if \"class_weights_ins\" not in locals():\n",
        "    with open(\"drive/MyDrive/CS342/class_weights_ins.dat\", \"rb\") as f:\n",
        "        class_weights_ins = pickle.load(f)\n",
        "  if \"criterion_ins_extra_layer\" not in locals():\n",
        "    criterion_ins_extra_layer = nn.CrossEntropyLoss(weight=class_weights_ins,reduction='mean')\n"
      ],
      "metadata": {
        "id": "fYvaozxLAc82"
      },
      "id": "fYvaozxLAc82",
      "execution_count": null,
      "outputs": []
    },
    {
      "cell_type": "code",
      "source": [
        "image_ins_type_only[20]\n",
        "\n",
        "with open(\"drive/MyDrive/CS342/image_ins_type_only[2].dat\", \"wb\") as f:\n",
        "    pickle.dump(image_ins_type_only[2], f)\n",
        "\n",
        "\n",
        "with open(\"drive/MyDrive/CS342/image_ins_type_only[8230].dat\", \"wb\") as f:\n",
        "    pickle.dump(image_ins_type_only[8230], f)"
      ],
      "metadata": {
        "id": "TKXK6l8tFs5-"
      },
      "id": "TKXK6l8tFs5-",
      "execution_count": null,
      "outputs": []
    },
    {
      "cell_type": "code",
      "source": [
        "show_image_processed(image_ins_type_only[8230][0]) # 8230 Violin"
      ],
      "metadata": {
        "id": "vSUrc-VRCPfv",
        "colab": {
          "base_uri": "https://localhost:8080/",
          "height": 279
        },
        "outputId": "c4976dc7-9938-417e-a55e-0a449596179c"
      },
      "id": "vSUrc-VRCPfv",
      "execution_count": null,
      "outputs": [
        {
          "output_type": "display_data",
          "data": {
            "text/plain": [
              "<Figure size 432x288 with 2 Axes>"
            ],
            "image/png": "[encoded data removed]"
          },
          "metadata": {}
        }
      ]
    },
    {
      "cell_type": "code",
      "source": [
        "peturbed_image = peturb_image(image_ins_type_only[2][0], x_center = 100, y_center=100, bubble_size=30)\n",
        "show_image_processed(peturbed_image,save_name= \"Peturbed Image Cello\",title=\"Peturbed Image of Cello\\n\")"
      ],
      "metadata": {
        "id": "rYHwuPFloxtz",
        "colab": {
          "base_uri": "https://localhost:8080/",
          "height": 298
        },
        "outputId": "5e3352e6-448d-4c00-828b-0617685a2226"
      },
      "id": "rYHwuPFloxtz",
      "execution_count": null,
      "outputs": [
        {
          "output_type": "display_data",
          "data": {
            "text/plain": [
              "<Figure size 432x288 with 2 Axes>"
            ],
            "image/png": "[encoded data removed]"
          },
          "metadata": {}
        }
      ]
    },
    {
      "cell_type": "code",
      "source": [
        "attribution_bubbles_cello = calc_attribution_bubbles(image_ins_type_only[20], alexnet_ins, criterion_ins_extra_layer,step_size=1)"
      ],
      "metadata": {
        "id": "xFQLzvQZ_cCs"
      },
      "id": "xFQLzvQZ_cCs",
      "execution_count": null,
      "outputs": []
    },
    {
      "cell_type": "code",
      "source": [
        "attribution_bubbles_violin = calc_attribution_bubbles(image_ins_type_only[8230], alexnet_ins, criterion_ins_extra_layer,step_size=1)"
      ],
      "metadata": {
        "id": "AH1J2O2nDWjt"
      },
      "id": "AH1J2O2nDWjt",
      "execution_count": null,
      "outputs": []
    },
    {
      "cell_type": "code",
      "execution_count": null,
      "id": "c004f01b",
      "metadata": {
        "id": "c004f01b"
      },
      "outputs": [],
      "source": [
        "# Dumb function that creates new array of reshaped tensor images. Similar to torch.transpose \n",
        "def convert_image_to_show(attribution_bubles):\n",
        "  image_with_peturbation=torch.zeros(([3,256,256]))\n",
        "  for i in range(image_with_peturbation.shape[0]):\n",
        "      for j in range(image_with_peturbation.shape[1]):\n",
        "          for k in range(image_with_peturbation.shape[2]):\n",
        "              image_with_peturbation[i][j][k] = attribution_bubles[k][j]\n",
        "  return image_with_peturbation"
      ]
    },
    {
      "cell_type": "code",
      "source": [
        "attribution_bubbles_cello_converted = convert_image_to_show(attribution_bubbles_cello)"
      ],
      "metadata": {
        "id": "WY1mk7BgOKlN"
      },
      "id": "WY1mk7BgOKlN",
      "execution_count": null,
      "outputs": []
    },
    {
      "cell_type": "code",
      "source": [
        "attribution_bubbles_cello_converted = convert_image_to_show(attribution_bubbles_cello)\n",
        "show_image_processed(attribution_bubbles_cello_converted)\n",
        "with open(\"peturbation_map_ins_cello.dat\", \"wb\") as f:\n",
        "    pickle.dump(attribution_bubbles_cello_converted, f)"
      ],
      "metadata": {
        "id": "amuNwss4KQYp"
      },
      "id": "amuNwss4KQYp",
      "execution_count": null,
      "outputs": []
    },
    {
      "cell_type": "code",
      "execution_count": null,
      "id": "ecebafce",
      "metadata": {
        "id": "ecebafce"
      },
      "outputs": [],
      "source": [
        "show_image_processed(attribution_bubbles_violin)\n",
        "with open(\"peturbation_map_ins_violin.dat\", \"wb\") as f:\n",
        "    pickle.dump(attribution_bubbles_violin, f)"
      ]
    },
    {
      "cell_type": "code",
      "source": [
        "show_image_processed(image_with_peturbation)"
      ],
      "metadata": {
        "id": "QSBrVbSHBdPf"
      },
      "id": "QSBrVbSHBdPf",
      "execution_count": null,
      "outputs": []
    },
    {
      "cell_type": "code",
      "source": [
        "show_image_processed(attribution_bubbles_cello_converted,save_name= \"cello_saliency\",title=\"Saliency Map of Cello for Predicting Instrument Type\\n\")"
      ],
      "metadata": {
        "id": "mxo0MfdWOOE8"
      },
      "id": "mxo0MfdWOOE8",
      "execution_count": null,
      "outputs": []
    },
    {
      "cell_type": "code",
      "source": [
        "show_image_processed(images[2],save_name= \"violin_saliency_map\", title=\"Saliency Map of Violin for Predicting Instrument View\\n\",)"
      ],
      "metadata": {
        "id": "lC7a8rJkjXSB"
      },
      "id": "lC7a8rJkjXSB",
      "execution_count": null,
      "outputs": []
    },
    {
      "cell_type": "markdown",
      "source": [
        "Note to grader: The following is extra work that is not a computational experiment, but that I still wanted to include so that I could improve when I pickup this project once again"
      ],
      "metadata": {
        "id": "-EvIJWIlgVI_"
      },
      "id": "-EvIJWIlgVI_"
    },
    {
      "cell_type": "code",
      "execution_count": null,
      "id": "aea4fbe0",
      "metadata": {
        "id": "aea4fbe0",
        "colab": {
          "base_uri": "https://localhost:8080/",
          "height": 105
        },
        "outputId": "ea3137e7-6c4a-4435-91c5-f40d499d67b7"
      },
      "outputs": [
        {
          "output_type": "execute_result",
          "data": {
            "text/plain": [
              "\"\\nNotes on potential Future Optimization:\\n  clipping cvalues(make sure they don't exceed fix range)\\n  need regularization: weight decay, or explicit penalty to loss (add some factor times the sum of the squares of some pixel values)\\n  apply more interesting penalties to make it more image like, penalize it if it creates images that are Graph\\n  total variation norm/ total variation denoising (sometimes called tv1 norm(make image prefer flat patches/[pieceswise]): forces image to only tv2 norm(prefers smooth norm))\\n  blur image early on (slowly decrease blurring ) or blur after each step maybe\\n\\n\""
            ],
            "application/vnd.google.colaboratory.intrinsic+json": {
              "type": "string"
            }
          },
          "metadata": {},
          "execution_count": 47
        }
      ],
      "source": [
        "# Future Optimizations: Modify loss function to make optimized image not random looking. ex: https://distill.pub/2017/feature-visualization/\n",
        "import random \n",
        "class InputOptim(nn.Module):\n",
        "    def __init__(self, model, optimized_input = None):\n",
        "        \n",
        "        super().__init__()\n",
        "        self.model = model\n",
        "        if optimized_input == None:\n",
        "            self.optimized_input = torch.zeros((1,3,256,256)).requires_grad_(True)\n",
        "        else:\n",
        "            self.optimized_input = optimized_input\n",
        "        \n",
        "    def forward(self, x):\n",
        "        pred = self.model.forward(x)\n",
        "        return pred\n",
        "    \n",
        "    def parameters(self):\n",
        "        return [self.optimized_input]\n",
        "\n",
        "'''\n",
        "Notes on potential Future Optimization:\n",
        "  clipping cvalues(make sure they don't exceed fix range)\n",
        "  need regularization: weight decay, or explicit penalty to loss (add some factor times the sum of the squares of some pixel values)\n",
        "  apply more interesting penalties to make it more image like, penalize it if it creates images that are Graph\n",
        "  total variation norm/ total variation denoising (sometimes called tv1 norm(make image prefer flat patches/[pieceswise]): forces image to only tv2 norm(prefers smooth norm))\n",
        "  blur image early on (slowly decrease blurring ) or blur after each step maybe\n",
        "\n",
        "'''"
      ]
    },
    {
      "cell_type": "code",
      "execution_count": null,
      "id": "8fe7f7d2",
      "metadata": {
        "id": "8fe7f7d2"
      },
      "outputs": [],
      "source": [
        "# Dumb code that returns index of instrument that does not perform well with alexNet\n",
        "def get_terrible_prediction_ins_view():\n",
        "    for index in range(5,10000):\n",
        "        image = image_to_back_or_front_category_np[index][0].unsqueeze(dim=0)\n",
        "        pred = alexnet_ins_view(image)\n",
        "        actual = torch.tensor(image_to_back_or_front_category_np[index][1]).unsqueeze(dim=0)\n",
        "        # actual = torch.tensor(image_to_back_or_front_category_np[index][0])\n",
        "    #     print(actual.shape)\n",
        "        loss = criterion_ins_view(pred, actual)\n",
        "        if loss>2.5:\n",
        "            print(index)\n",
        "            print(loss)\n",
        "            return index\n",
        "index_bad_ins =get_terrible_prediction_ins_view()\n",
        "index_bad_ins"
      ]
    },
    {
      "cell_type": "code",
      "execution_count": null,
      "id": "07e30719",
      "metadata": {
        "id": "07e30719"
      },
      "outputs": [],
      "source": [
        "\n",
        "def optimize_photo(ins_index, model, n_epochs=20, lr=22):\n",
        "    # input_model = InputOptim(alexnet_ins_view, optimized_input = None)\n",
        "    input_model = InputOptim(alexnet_ins_view, optimized_input = image_to_back_or_front_category_np[ins_index][0].clone().unsqueeze(dim=0).requires_grad_(True))\n",
        "    optimizer = torch.optim.Adam(input_model.parameters(), lr=lr)\n",
        "    lossfxn  = nn.CrossEntropyLoss() \n",
        "    t = image_to_back_or_front_category_np[ins_index][1]\n",
        "    # image_to_back_or_front_category_np[2][0]\n",
        "    # image_to_back_or_front_category_np[2][1]\n",
        "    print(\"target: \", t)\n",
        "    for itr, epoch in enumerate(range(n_epochs)):\n",
        "        optimizer.zero_grad()\n",
        "        pred = input_model.forward(input_model.optimized_input)\n",
        "        target = torch.tensor([t], dtype=torch.int64)\n",
        "        loss = lossfxn(pred, target) \n",
        "        if not itr%10:\n",
        "            print(\"loss %f\" % loss)\n",
        "        loss.backward()\n",
        "        optimizer.step()  \n",
        "    return input_model.optimized_input.squeeze().detach()\n",
        "    \n",
        "optimized_photo_1 = optimize_photo(557, alexnet_ins_view, n_epochs=30, lr=.02)\n",
        "optimized_photo_2 = optimize_photo(557, alexnet_ins_view, n_epochs=30, lr=.2)\n",
        "optimized_photo_3 = optimize_photo(557, alexnet_ins_view, n_epochs=30, lr=2)"
      ]
    },
    {
      "cell_type": "code",
      "execution_count": null,
      "id": "ecbde25c",
      "metadata": {
        "id": "ecbde25c"
      },
      "outputs": [],
      "source": [
        "show_image_processed(image_to_back_or_front_category_np[557][0])"
      ]
    },
    {
      "cell_type": "code",
      "execution_count": null,
      "id": "aa7ced27",
      "metadata": {
        "scrolled": true,
        "id": "aa7ced27"
      },
      "outputs": [],
      "source": [
        "show_image_processed(optimized_photo_1)"
      ]
    },
    {
      "cell_type": "code",
      "execution_count": null,
      "id": "1f2a3906",
      "metadata": {
        "id": "1f2a3906"
      },
      "outputs": [],
      "source": [
        "show_image_processed(optimized_photo_2)"
      ]
    },
    {
      "cell_type": "code",
      "execution_count": null,
      "id": "d056f236",
      "metadata": {
        "id": "d056f236"
      },
      "outputs": [],
      "source": [
        "show_image_processed(optimized_photo_3)"
      ]
    }
  ],
  "metadata": {
    "kernelspec": {
      "display_name": "Python [conda env:root] *",
      "language": "python",
      "name": "conda-root-py"
    },
    "language_info": {
      "codemirror_mode": {
        "name": "ipython",
        "version": 3
      },
      "file_extension": ".py",
      "mimetype": "text/x-python",
      "name": "python",
      "nbconvert_exporter": "python",
      "pygments_lexer": "ipython3",
      "version": "3.8.8"
    },
    "colab": {
      "name": "Final Project.ipynb",
      "provenance": [],
      "collapsed_sections": [],
      "machine_shape": "hm",
      "toc_visible": true
    },
    "accelerator": "GPU",
    "widgets": {
      "application/vnd.jupyter.widget-state+json": {
        "b2edc7a002a44ff992346e7cf6198762": {
          "model_module": "@jupyter-widgets/controls",
          "model_name": "HBoxModel",
          "model_module_version": "1.5.0",
          "state": {
            "_dom_classes": [],
            "_model_module": "@jupyter-widgets/controls",
            "_model_module_version": "1.5.0",
            "_model_name": "HBoxModel",
            "_view_count": null,
            "_view_module": "@jupyter-widgets/controls",
            "_view_module_version": "1.5.0",
            "_view_name": "HBoxView",
            "box_style": "",
            "children": [
              "IPY_MODEL_025a6cf1f62d4ae3b3e25c4ac1b2dc7d",
              "IPY_MODEL_e8ea27d7d70e4e97a323e2b84dadf267",
              "IPY_MODEL_32961ded58f34d6f8f896b6260ef7fe7"
            ],
            "layout": "IPY_MODEL_251b7565e49041ae83146e643e538841"
          }
        },
        "025a6cf1f62d4ae3b3e25c4ac1b2dc7d": {
          "model_module": "@jupyter-widgets/controls",
          "model_name": "HTMLModel",
          "model_module_version": "1.5.0",
          "state": {
            "_dom_classes": [],
            "_model_module": "@jupyter-widgets/controls",
            "_model_module_version": "1.5.0",
            "_model_name": "HTMLModel",
            "_view_count": null,
            "_view_module": "@jupyter-widgets/controls",
            "_view_module_version": "1.5.0",
            "_view_name": "HTMLView",
            "description": "",
            "description_tooltip": null,
            "layout": "IPY_MODEL_13555e89486e4dd68334dbf720372c4f",
            "placeholder": "​",
            "style": "IPY_MODEL_a50ca6e825bf49ea9677b405c3ed275d",
            "value": "100%"
          }
        },
        "e8ea27d7d70e4e97a323e2b84dadf267": {
          "model_module": "@jupyter-widgets/controls",
          "model_name": "FloatProgressModel",
          "model_module_version": "1.5.0",
          "state": {
            "_dom_classes": [],
            "_model_module": "@jupyter-widgets/controls",
            "_model_module_version": "1.5.0",
            "_model_name": "FloatProgressModel",
            "_view_count": null,
            "_view_module": "@jupyter-widgets/controls",
            "_view_module_version": "1.5.0",
            "_view_name": "ProgressView",
            "bar_style": "success",
            "description": "",
            "description_tooltip": null,
            "layout": "IPY_MODEL_0eb8d671a8f74459ad983bb1fef751ac",
            "max": 10,
            "min": 0,
            "orientation": "horizontal",
            "style": "IPY_MODEL_cfd3815257464ca78d7a67eb190f8d62",
            "value": 10
          }
        },
        "32961ded58f34d6f8f896b6260ef7fe7": {
          "model_module": "@jupyter-widgets/controls",
          "model_name": "HTMLModel",
          "model_module_version": "1.5.0",
          "state": {
            "_dom_classes": [],
            "_model_module": "@jupyter-widgets/controls",
            "_model_module_version": "1.5.0",
            "_model_name": "HTMLModel",
            "_view_count": null,
            "_view_module": "@jupyter-widgets/controls",
            "_view_module_version": "1.5.0",
            "_view_name": "HTMLView",
            "description": "",
            "description_tooltip": null,
            "layout": "IPY_MODEL_dbb4c1bcac084c99a6a3f1a57244c941",
            "placeholder": "​",
            "style": "IPY_MODEL_30b57087b0964ad896db4a4cff62a09a",
            "value": " 10/10 [02:11&lt;00:00, 13.45s/it]"
          }
        },
        "251b7565e49041ae83146e643e538841": {
          "model_module": "@jupyter-widgets/base",
          "model_name": "LayoutModel",
          "model_module_version": "1.2.0",
          "state": {
            "_model_module": "@jupyter-widgets/base",
            "_model_module_version": "1.2.0",
            "_model_name": "LayoutModel",
            "_view_count": null,
            "_view_module": "@jupyter-widgets/base",
            "_view_module_version": "1.2.0",
            "_view_name": "LayoutView",
            "align_content": null,
            "align_items": null,
            "align_self": null,
            "border": null,
            "bottom": null,
            "display": null,
            "flex": null,
            "flex_flow": null,
            "grid_area": null,
            "grid_auto_columns": null,
            "grid_auto_flow": null,
            "grid_auto_rows": null,
            "grid_column": null,
            "grid_gap": null,
            "grid_row": null,
            "grid_template_areas": null,
            "grid_template_columns": null,
            "grid_template_rows": null,
            "height": null,
            "justify_content": null,
            "justify_items": null,
            "left": null,
            "margin": null,
            "max_height": null,
            "max_width": null,
            "min_height": null,
            "min_width": null,
            "object_fit": null,
            "object_position": null,
            "order": null,
            "overflow": null,
            "overflow_x": null,
            "overflow_y": null,
            "padding": null,
            "right": null,
            "top": null,
            "visibility": null,
            "width": null
          }
        },
        "13555e89486e4dd68334dbf720372c4f": {
          "model_module": "@jupyter-widgets/base",
          "model_name": "LayoutModel",
          "model_module_version": "1.2.0",
          "state": {
            "_model_module": "@jupyter-widgets/base",
            "_model_module_version": "1.2.0",
            "_model_name": "LayoutModel",
            "_view_count": null,
            "_view_module": "@jupyter-widgets/base",
            "_view_module_version": "1.2.0",
            "_view_name": "LayoutView",
            "align_content": null,
            "align_items": null,
            "align_self": null,
            "border": null,
            "bottom": null,
            "display": null,
            "flex": null,
            "flex_flow": null,
            "grid_area": null,
            "grid_auto_columns": null,
            "grid_auto_flow": null,
            "grid_auto_rows": null,
            "grid_column": null,
            "grid_gap": null,
            "grid_row": null,
            "grid_template_areas": null,
            "grid_template_columns": null,
            "grid_template_rows": null,
            "height": null,
            "justify_content": null,
            "justify_items": null,
            "left": null,
            "margin": null,
            "max_height": null,
            "max_width": null,
            "min_height": null,
            "min_width": null,
            "object_fit": null,
            "object_position": null,
            "order": null,
            "overflow": null,
            "overflow_x": null,
            "overflow_y": null,
            "padding": null,
            "right": null,
            "top": null,
            "visibility": null,
            "width": null
          }
        },
        "a50ca6e825bf49ea9677b405c3ed275d": {
          "model_module": "@jupyter-widgets/controls",
          "model_name": "DescriptionStyleModel",
          "model_module_version": "1.5.0",
          "state": {
            "_model_module": "@jupyter-widgets/controls",
            "_model_module_version": "1.5.0",
            "_model_name": "DescriptionStyleModel",
            "_view_count": null,
            "_view_module": "@jupyter-widgets/base",
            "_view_module_version": "1.2.0",
            "_view_name": "StyleView",
            "description_width": ""
          }
        },
        "0eb8d671a8f74459ad983bb1fef751ac": {
          "model_module": "@jupyter-widgets/base",
          "model_name": "LayoutModel",
          "model_module_version": "1.2.0",
          "state": {
            "_model_module": "@jupyter-widgets/base",
            "_model_module_version": "1.2.0",
            "_model_name": "LayoutModel",
            "_view_count": null,
            "_view_module": "@jupyter-widgets/base",
            "_view_module_version": "1.2.0",
            "_view_name": "LayoutView",
            "align_content": null,
            "align_items": null,
            "align_self": null,
            "border": null,
            "bottom": null,
            "display": null,
            "flex": null,
            "flex_flow": null,
            "grid_area": null,
            "grid_auto_columns": null,
            "grid_auto_flow": null,
            "grid_auto_rows": null,
            "grid_column": null,
            "grid_gap": null,
            "grid_row": null,
            "grid_template_areas": null,
            "grid_template_columns": null,
            "grid_template_rows": null,
            "height": null,
            "justify_content": null,
            "justify_items": null,
            "left": null,
            "margin": null,
            "max_height": null,
            "max_width": null,
            "min_height": null,
            "min_width": null,
            "object_fit": null,
            "object_position": null,
            "order": null,
            "overflow": null,
            "overflow_x": null,
            "overflow_y": null,
            "padding": null,
            "right": null,
            "top": null,
            "visibility": null,
            "width": null
          }
        },
        "cfd3815257464ca78d7a67eb190f8d62": {
          "model_module": "@jupyter-widgets/controls",
          "model_name": "ProgressStyleModel",
          "model_module_version": "1.5.0",
          "state": {
            "_model_module": "@jupyter-widgets/controls",
            "_model_module_version": "1.5.0",
            "_model_name": "ProgressStyleModel",
            "_view_count": null,
            "_view_module": "@jupyter-widgets/base",
            "_view_module_version": "1.2.0",
            "_view_name": "StyleView",
            "bar_color": null,
            "description_width": ""
          }
        },
        "dbb4c1bcac084c99a6a3f1a57244c941": {
          "model_module": "@jupyter-widgets/base",
          "model_name": "LayoutModel",
          "model_module_version": "1.2.0",
          "state": {
            "_model_module": "@jupyter-widgets/base",
            "_model_module_version": "1.2.0",
            "_model_name": "LayoutModel",
            "_view_count": null,
            "_view_module": "@jupyter-widgets/base",
            "_view_module_version": "1.2.0",
            "_view_name": "LayoutView",
            "align_content": null,
            "align_items": null,
            "align_self": null,
            "border": null,
            "bottom": null,
            "display": null,
            "flex": null,
            "flex_flow": null,
            "grid_area": null,
            "grid_auto_columns": null,
            "grid_auto_flow": null,
            "grid_auto_rows": null,
            "grid_column": null,
            "grid_gap": null,
            "grid_row": null,
            "grid_template_areas": null,
            "grid_template_columns": null,
            "grid_template_rows": null,
            "height": null,
            "justify_content": null,
            "justify_items": null,
            "left": null,
            "margin": null,
            "max_height": null,
            "max_width": null,
            "min_height": null,
            "min_width": null,
            "object_fit": null,
            "object_position": null,
            "order": null,
            "overflow": null,
            "overflow_x": null,
            "overflow_y": null,
            "padding": null,
            "right": null,
            "top": null,
            "visibility": null,
            "width": null
          }
        },
        "30b57087b0964ad896db4a4cff62a09a": {
          "model_module": "@jupyter-widgets/controls",
          "model_name": "DescriptionStyleModel",
          "model_module_version": "1.5.0",
          "state": {
            "_model_module": "@jupyter-widgets/controls",
            "_model_module_version": "1.5.0",
            "_model_name": "DescriptionStyleModel",
            "_view_count": null,
            "_view_module": "@jupyter-widgets/base",
            "_view_module_version": "1.2.0",
            "_view_name": "StyleView",
            "description_width": ""
          }
        },
        "3d15498d1ba24f12959aa681581b9792": {
          "model_module": "@jupyter-widgets/controls",
          "model_name": "HBoxModel",
          "model_module_version": "1.5.0",
          "state": {
            "_dom_classes": [],
            "_model_module": "@jupyter-widgets/controls",
            "_model_module_version": "1.5.0",
            "_model_name": "HBoxModel",
            "_view_count": null,
            "_view_module": "@jupyter-widgets/controls",
            "_view_module_version": "1.5.0",
            "_view_name": "HBoxView",
            "box_style": "",
            "children": [
              "IPY_MODEL_a3ed3e580ef14bad8efd735021234e18",
              "IPY_MODEL_d0881b395805482b83700827b88c8db1",
              "IPY_MODEL_d684a0c65f11499f88742d5af7d02e8b"
            ],
            "layout": "IPY_MODEL_dceb62b73a214ec095dd4ea27f3574b9"
          }
        },
        "a3ed3e580ef14bad8efd735021234e18": {
          "model_module": "@jupyter-widgets/controls",
          "model_name": "HTMLModel",
          "model_module_version": "1.5.0",
          "state": {
            "_dom_classes": [],
            "_model_module": "@jupyter-widgets/controls",
            "_model_module_version": "1.5.0",
            "_model_name": "HTMLModel",
            "_view_count": null,
            "_view_module": "@jupyter-widgets/controls",
            "_view_module_version": "1.5.0",
            "_view_name": "HTMLView",
            "description": "",
            "description_tooltip": null,
            "layout": "IPY_MODEL_f2833e3f5a4640cdba3a59225125b2ec",
            "placeholder": "​",
            "style": "IPY_MODEL_6394b503df344211b8b57a7adb6553ed",
            "value": "100%"
          }
        },
        "d0881b395805482b83700827b88c8db1": {
          "model_module": "@jupyter-widgets/controls",
          "model_name": "FloatProgressModel",
          "model_module_version": "1.5.0",
          "state": {
            "_dom_classes": [],
            "_model_module": "@jupyter-widgets/controls",
            "_model_module_version": "1.5.0",
            "_model_name": "FloatProgressModel",
            "_view_count": null,
            "_view_module": "@jupyter-widgets/controls",
            "_view_module_version": "1.5.0",
            "_view_name": "ProgressView",
            "bar_style": "success",
            "description": "",
            "description_tooltip": null,
            "layout": "IPY_MODEL_653a34f22de64d5cb7ffa48ecee1baf3",
            "max": 10,
            "min": 0,
            "orientation": "horizontal",
            "style": "IPY_MODEL_c8c6672cba444df6a6c169cdbb72415c",
            "value": 10
          }
        },
        "d684a0c65f11499f88742d5af7d02e8b": {
          "model_module": "@jupyter-widgets/controls",
          "model_name": "HTMLModel",
          "model_module_version": "1.5.0",
          "state": {
            "_dom_classes": [],
            "_model_module": "@jupyter-widgets/controls",
            "_model_module_version": "1.5.0",
            "_model_name": "HTMLModel",
            "_view_count": null,
            "_view_module": "@jupyter-widgets/controls",
            "_view_module_version": "1.5.0",
            "_view_name": "HTMLView",
            "description": "",
            "description_tooltip": null,
            "layout": "IPY_MODEL_8b1a9960a77c42768b6a3d85f224af47",
            "placeholder": "​",
            "style": "IPY_MODEL_a6abc6e772db41489def8b23ce83df21",
            "value": " 10/10 [00:48&lt;00:00,  4.86s/it]"
          }
        },
        "dceb62b73a214ec095dd4ea27f3574b9": {
          "model_module": "@jupyter-widgets/base",
          "model_name": "LayoutModel",
          "model_module_version": "1.2.0",
          "state": {
            "_model_module": "@jupyter-widgets/base",
            "_model_module_version": "1.2.0",
            "_model_name": "LayoutModel",
            "_view_count": null,
            "_view_module": "@jupyter-widgets/base",
            "_view_module_version": "1.2.0",
            "_view_name": "LayoutView",
            "align_content": null,
            "align_items": null,
            "align_self": null,
            "border": null,
            "bottom": null,
            "display": null,
            "flex": null,
            "flex_flow": null,
            "grid_area": null,
            "grid_auto_columns": null,
            "grid_auto_flow": null,
            "grid_auto_rows": null,
            "grid_column": null,
            "grid_gap": null,
            "grid_row": null,
            "grid_template_areas": null,
            "grid_template_columns": null,
            "grid_template_rows": null,
            "height": null,
            "justify_content": null,
            "justify_items": null,
            "left": null,
            "margin": null,
            "max_height": null,
            "max_width": null,
            "min_height": null,
            "min_width": null,
            "object_fit": null,
            "object_position": null,
            "order": null,
            "overflow": null,
            "overflow_x": null,
            "overflow_y": null,
            "padding": null,
            "right": null,
            "top": null,
            "visibility": null,
            "width": null
          }
        },
        "f2833e3f5a4640cdba3a59225125b2ec": {
          "model_module": "@jupyter-widgets/base",
          "model_name": "LayoutModel",
          "model_module_version": "1.2.0",
          "state": {
            "_model_module": "@jupyter-widgets/base",
            "_model_module_version": "1.2.0",
            "_model_name": "LayoutModel",
            "_view_count": null,
            "_view_module": "@jupyter-widgets/base",
            "_view_module_version": "1.2.0",
            "_view_name": "LayoutView",
            "align_content": null,
            "align_items": null,
            "align_self": null,
            "border": null,
            "bottom": null,
            "display": null,
            "flex": null,
            "flex_flow": null,
            "grid_area": null,
            "grid_auto_columns": null,
            "grid_auto_flow": null,
            "grid_auto_rows": null,
            "grid_column": null,
            "grid_gap": null,
            "grid_row": null,
            "grid_template_areas": null,
            "grid_template_columns": null,
            "grid_template_rows": null,
            "height": null,
            "justify_content": null,
            "justify_items": null,
            "left": null,
            "margin": null,
            "max_height": null,
            "max_width": null,
            "min_height": null,
            "min_width": null,
            "object_fit": null,
            "object_position": null,
            "order": null,
            "overflow": null,
            "overflow_x": null,
            "overflow_y": null,
            "padding": null,
            "right": null,
            "top": null,
            "visibility": null,
            "width": null
          }
        },
        "6394b503df344211b8b57a7adb6553ed": {
          "model_module": "@jupyter-widgets/controls",
          "model_name": "DescriptionStyleModel",
          "model_module_version": "1.5.0",
          "state": {
            "_model_module": "@jupyter-widgets/controls",
            "_model_module_version": "1.5.0",
            "_model_name": "DescriptionStyleModel",
            "_view_count": null,
            "_view_module": "@jupyter-widgets/base",
            "_view_module_version": "1.2.0",
            "_view_name": "StyleView",
            "description_width": ""
          }
        },
        "653a34f22de64d5cb7ffa48ecee1baf3": {
          "model_module": "@jupyter-widgets/base",
          "model_name": "LayoutModel",
          "model_module_version": "1.2.0",
          "state": {
            "_model_module": "@jupyter-widgets/base",
            "_model_module_version": "1.2.0",
            "_model_name": "LayoutModel",
            "_view_count": null,
            "_view_module": "@jupyter-widgets/base",
            "_view_module_version": "1.2.0",
            "_view_name": "LayoutView",
            "align_content": null,
            "align_items": null,
            "align_self": null,
            "border": null,
            "bottom": null,
            "display": null,
            "flex": null,
            "flex_flow": null,
            "grid_area": null,
            "grid_auto_columns": null,
            "grid_auto_flow": null,
            "grid_auto_rows": null,
            "grid_column": null,
            "grid_gap": null,
            "grid_row": null,
            "grid_template_areas": null,
            "grid_template_columns": null,
            "grid_template_rows": null,
            "height": null,
            "justify_content": null,
            "justify_items": null,
            "left": null,
            "margin": null,
            "max_height": null,
            "max_width": null,
            "min_height": null,
            "min_width": null,
            "object_fit": null,
            "object_position": null,
            "order": null,
            "overflow": null,
            "overflow_x": null,
            "overflow_y": null,
            "padding": null,
            "right": null,
            "top": null,
            "visibility": null,
            "width": null
          }
        },
        "c8c6672cba444df6a6c169cdbb72415c": {
          "model_module": "@jupyter-widgets/controls",
          "model_name": "ProgressStyleModel",
          "model_module_version": "1.5.0",
          "state": {
            "_model_module": "@jupyter-widgets/controls",
            "_model_module_version": "1.5.0",
            "_model_name": "ProgressStyleModel",
            "_view_count": null,
            "_view_module": "@jupyter-widgets/base",
            "_view_module_version": "1.2.0",
            "_view_name": "StyleView",
            "bar_color": null,
            "description_width": ""
          }
        },
        "8b1a9960a77c42768b6a3d85f224af47": {
          "model_module": "@jupyter-widgets/base",
          "model_name": "LayoutModel",
          "model_module_version": "1.2.0",
          "state": {
            "_model_module": "@jupyter-widgets/base",
            "_model_module_version": "1.2.0",
            "_model_name": "LayoutModel",
            "_view_count": null,
            "_view_module": "@jupyter-widgets/base",
            "_view_module_version": "1.2.0",
            "_view_name": "LayoutView",
            "align_content": null,
            "align_items": null,
            "align_self": null,
            "border": null,
            "bottom": null,
            "display": null,
            "flex": null,
            "flex_flow": null,
            "grid_area": null,
            "grid_auto_columns": null,
            "grid_auto_flow": null,
            "grid_auto_rows": null,
            "grid_column": null,
            "grid_gap": null,
            "grid_row": null,
            "grid_template_areas": null,
            "grid_template_columns": null,
            "grid_template_rows": null,
            "height": null,
            "justify_content": null,
            "justify_items": null,
            "left": null,
            "margin": null,
            "max_height": null,
            "max_width": null,
            "min_height": null,
            "min_width": null,
            "object_fit": null,
            "object_position": null,
            "order": null,
            "overflow": null,
            "overflow_x": null,
            "overflow_y": null,
            "padding": null,
            "right": null,
            "top": null,
            "visibility": null,
            "width": null
          }
        },
        "a6abc6e772db41489def8b23ce83df21": {
          "model_module": "@jupyter-widgets/controls",
          "model_name": "DescriptionStyleModel",
          "model_module_version": "1.5.0",
          "state": {
            "_model_module": "@jupyter-widgets/controls",
            "_model_module_version": "1.5.0",
            "_model_name": "DescriptionStyleModel",
            "_view_count": null,
            "_view_module": "@jupyter-widgets/base",
            "_view_module_version": "1.2.0",
            "_view_name": "StyleView",
            "description_width": ""
          }
        },
        "c3c1a1087aec44fbb157449a27773606": {
          "model_module": "@jupyter-widgets/controls",
          "model_name": "HBoxModel",
          "model_module_version": "1.5.0",
          "state": {
            "_dom_classes": [],
            "_model_module": "@jupyter-widgets/controls",
            "_model_module_version": "1.5.0",
            "_model_name": "HBoxModel",
            "_view_count": null,
            "_view_module": "@jupyter-widgets/controls",
            "_view_module_version": "1.5.0",
            "_view_name": "HBoxView",
            "box_style": "",
            "children": [
              "IPY_MODEL_5b0ece5795014fc6b159cb8c15ff53b5",
              "IPY_MODEL_8d26b29112804181bd669fc9fe21449b",
              "IPY_MODEL_9670fbc7b3ce49499b09341da1aa6486"
            ],
            "layout": "IPY_MODEL_ad24fd9a628643b7bfbcff7810fdfe46"
          }
        },
        "5b0ece5795014fc6b159cb8c15ff53b5": {
          "model_module": "@jupyter-widgets/controls",
          "model_name": "HTMLModel",
          "model_module_version": "1.5.0",
          "state": {
            "_dom_classes": [],
            "_model_module": "@jupyter-widgets/controls",
            "_model_module_version": "1.5.0",
            "_model_name": "HTMLModel",
            "_view_count": null,
            "_view_module": "@jupyter-widgets/controls",
            "_view_module_version": "1.5.0",
            "_view_name": "HTMLView",
            "description": "",
            "description_tooltip": null,
            "layout": "IPY_MODEL_7ea68a4091c54dfaa5086dfaa9bd7ab8",
            "placeholder": "​",
            "style": "IPY_MODEL_97383c481f234a3eb9dca5afa63a2a24",
            "value": "100%"
          }
        },
        "8d26b29112804181bd669fc9fe21449b": {
          "model_module": "@jupyter-widgets/controls",
          "model_name": "FloatProgressModel",
          "model_module_version": "1.5.0",
          "state": {
            "_dom_classes": [],
            "_model_module": "@jupyter-widgets/controls",
            "_model_module_version": "1.5.0",
            "_model_name": "FloatProgressModel",
            "_view_count": null,
            "_view_module": "@jupyter-widgets/controls",
            "_view_module_version": "1.5.0",
            "_view_name": "ProgressView",
            "bar_style": "success",
            "description": "",
            "description_tooltip": null,
            "layout": "IPY_MODEL_6c6d97b161c648a595b506ae8da20800",
            "max": 10,
            "min": 0,
            "orientation": "horizontal",
            "style": "IPY_MODEL_1997ae0a7a674c35853bde122600084e",
            "value": 10
          }
        },
        "9670fbc7b3ce49499b09341da1aa6486": {
          "model_module": "@jupyter-widgets/controls",
          "model_name": "HTMLModel",
          "model_module_version": "1.5.0",
          "state": {
            "_dom_classes": [],
            "_model_module": "@jupyter-widgets/controls",
            "_model_module_version": "1.5.0",
            "_model_name": "HTMLModel",
            "_view_count": null,
            "_view_module": "@jupyter-widgets/controls",
            "_view_module_version": "1.5.0",
            "_view_name": "HTMLView",
            "description": "",
            "description_tooltip": null,
            "layout": "IPY_MODEL_c892e13f6dfb4bbeb506c75ac67d63f9",
            "placeholder": "​",
            "style": "IPY_MODEL_f6ab7709166c48788a353ec6aaef0823",
            "value": " 10/10 [02:58&lt;00:00, 17.82s/it]"
          }
        },
        "ad24fd9a628643b7bfbcff7810fdfe46": {
          "model_module": "@jupyter-widgets/base",
          "model_name": "LayoutModel",
          "model_module_version": "1.2.0",
          "state": {
            "_model_module": "@jupyter-widgets/base",
            "_model_module_version": "1.2.0",
            "_model_name": "LayoutModel",
            "_view_count": null,
            "_view_module": "@jupyter-widgets/base",
            "_view_module_version": "1.2.0",
            "_view_name": "LayoutView",
            "align_content": null,
            "align_items": null,
            "align_self": null,
            "border": null,
            "bottom": null,
            "display": null,
            "flex": null,
            "flex_flow": null,
            "grid_area": null,
            "grid_auto_columns": null,
            "grid_auto_flow": null,
            "grid_auto_rows": null,
            "grid_column": null,
            "grid_gap": null,
            "grid_row": null,
            "grid_template_areas": null,
            "grid_template_columns": null,
            "grid_template_rows": null,
            "height": null,
            "justify_content": null,
            "justify_items": null,
            "left": null,
            "margin": null,
            "max_height": null,
            "max_width": null,
            "min_height": null,
            "min_width": null,
            "object_fit": null,
            "object_position": null,
            "order": null,
            "overflow": null,
            "overflow_x": null,
            "overflow_y": null,
            "padding": null,
            "right": null,
            "top": null,
            "visibility": null,
            "width": null
          }
        },
        "7ea68a4091c54dfaa5086dfaa9bd7ab8": {
          "model_module": "@jupyter-widgets/base",
          "model_name": "LayoutModel",
          "model_module_version": "1.2.0",
          "state": {
            "_model_module": "@jupyter-widgets/base",
            "_model_module_version": "1.2.0",
            "_model_name": "LayoutModel",
            "_view_count": null,
            "_view_module": "@jupyter-widgets/base",
            "_view_module_version": "1.2.0",
            "_view_name": "LayoutView",
            "align_content": null,
            "align_items": null,
            "align_self": null,
            "border": null,
            "bottom": null,
            "display": null,
            "flex": null,
            "flex_flow": null,
            "grid_area": null,
            "grid_auto_columns": null,
            "grid_auto_flow": null,
            "grid_auto_rows": null,
            "grid_column": null,
            "grid_gap": null,
            "grid_row": null,
            "grid_template_areas": null,
            "grid_template_columns": null,
            "grid_template_rows": null,
            "height": null,
            "justify_content": null,
            "justify_items": null,
            "left": null,
            "margin": null,
            "max_height": null,
            "max_width": null,
            "min_height": null,
            "min_width": null,
            "object_fit": null,
            "object_position": null,
            "order": null,
            "overflow": null,
            "overflow_x": null,
            "overflow_y": null,
            "padding": null,
            "right": null,
            "top": null,
            "visibility": null,
            "width": null
          }
        },
        "97383c481f234a3eb9dca5afa63a2a24": {
          "model_module": "@jupyter-widgets/controls",
          "model_name": "DescriptionStyleModel",
          "model_module_version": "1.5.0",
          "state": {
            "_model_module": "@jupyter-widgets/controls",
            "_model_module_version": "1.5.0",
            "_model_name": "DescriptionStyleModel",
            "_view_count": null,
            "_view_module": "@jupyter-widgets/base",
            "_view_module_version": "1.2.0",
            "_view_name": "StyleView",
            "description_width": ""
          }
        },
        "6c6d97b161c648a595b506ae8da20800": {
          "model_module": "@jupyter-widgets/base",
          "model_name": "LayoutModel",
          "model_module_version": "1.2.0",
          "state": {
            "_model_module": "@jupyter-widgets/base",
            "_model_module_version": "1.2.0",
            "_model_name": "LayoutModel",
            "_view_count": null,
            "_view_module": "@jupyter-widgets/base",
            "_view_module_version": "1.2.0",
            "_view_name": "LayoutView",
            "align_content": null,
            "align_items": null,
            "align_self": null,
            "border": null,
            "bottom": null,
            "display": null,
            "flex": null,
            "flex_flow": null,
            "grid_area": null,
            "grid_auto_columns": null,
            "grid_auto_flow": null,
            "grid_auto_rows": null,
            "grid_column": null,
            "grid_gap": null,
            "grid_row": null,
            "grid_template_areas": null,
            "grid_template_columns": null,
            "grid_template_rows": null,
            "height": null,
            "justify_content": null,
            "justify_items": null,
            "left": null,
            "margin": null,
            "max_height": null,
            "max_width": null,
            "min_height": null,
            "min_width": null,
            "object_fit": null,
            "object_position": null,
            "order": null,
            "overflow": null,
            "overflow_x": null,
            "overflow_y": null,
            "padding": null,
            "right": null,
            "top": null,
            "visibility": null,
            "width": null
          }
        },
        "1997ae0a7a674c35853bde122600084e": {
          "model_module": "@jupyter-widgets/controls",
          "model_name": "ProgressStyleModel",
          "model_module_version": "1.5.0",
          "state": {
            "_model_module": "@jupyter-widgets/controls",
            "_model_module_version": "1.5.0",
            "_model_name": "ProgressStyleModel",
            "_view_count": null,
            "_view_module": "@jupyter-widgets/base",
            "_view_module_version": "1.2.0",
            "_view_name": "StyleView",
            "bar_color": null,
            "description_width": ""
          }
        },
        "c892e13f6dfb4bbeb506c75ac67d63f9": {
          "model_module": "@jupyter-widgets/base",
          "model_name": "LayoutModel",
          "model_module_version": "1.2.0",
          "state": {
            "_model_module": "@jupyter-widgets/base",
            "_model_module_version": "1.2.0",
            "_model_name": "LayoutModel",
            "_view_count": null,
            "_view_module": "@jupyter-widgets/base",
            "_view_module_version": "1.2.0",
            "_view_name": "LayoutView",
            "align_content": null,
            "align_items": null,
            "align_self": null,
            "border": null,
            "bottom": null,
            "display": null,
            "flex": null,
            "flex_flow": null,
            "grid_area": null,
            "grid_auto_columns": null,
            "grid_auto_flow": null,
            "grid_auto_rows": null,
            "grid_column": null,
            "grid_gap": null,
            "grid_row": null,
            "grid_template_areas": null,
            "grid_template_columns": null,
            "grid_template_rows": null,
            "height": null,
            "justify_content": null,
            "justify_items": null,
            "left": null,
            "margin": null,
            "max_height": null,
            "max_width": null,
            "min_height": null,
            "min_width": null,
            "object_fit": null,
            "object_position": null,
            "order": null,
            "overflow": null,
            "overflow_x": null,
            "overflow_y": null,
            "padding": null,
            "right": null,
            "top": null,
            "visibility": null,
            "width": null
          }
        },
        "f6ab7709166c48788a353ec6aaef0823": {
          "model_module": "@jupyter-widgets/controls",
          "model_name": "DescriptionStyleModel",
          "model_module_version": "1.5.0",
          "state": {
            "_model_module": "@jupyter-widgets/controls",
            "_model_module_version": "1.5.0",
            "_model_name": "DescriptionStyleModel",
            "_view_count": null,
            "_view_module": "@jupyter-widgets/base",
            "_view_module_version": "1.2.0",
            "_view_name": "StyleView",
            "description_width": ""
          }
        },
        "675e2a4be89a480385513b86332f6b9f": {
          "model_module": "@jupyter-widgets/controls",
          "model_name": "HBoxModel",
          "model_module_version": "1.5.0",
          "state": {
            "_dom_classes": [],
            "_model_module": "@jupyter-widgets/controls",
            "_model_module_version": "1.5.0",
            "_model_name": "HBoxModel",
            "_view_count": null,
            "_view_module": "@jupyter-widgets/controls",
            "_view_module_version": "1.5.0",
            "_view_name": "HBoxView",
            "box_style": "",
            "children": [
              "IPY_MODEL_9067c62e97404b03bff82d3dd6b39d02",
              "IPY_MODEL_a6b744578f9948efa47ef765a7751756",
              "IPY_MODEL_8db56394ef7947d0ad8e187ec9858725"
            ],
            "layout": "IPY_MODEL_8065a557a50241da8a07144a7972ce76"
          }
        },
        "9067c62e97404b03bff82d3dd6b39d02": {
          "model_module": "@jupyter-widgets/controls",
          "model_name": "HTMLModel",
          "model_module_version": "1.5.0",
          "state": {
            "_dom_classes": [],
            "_model_module": "@jupyter-widgets/controls",
            "_model_module_version": "1.5.0",
            "_model_name": "HTMLModel",
            "_view_count": null,
            "_view_module": "@jupyter-widgets/controls",
            "_view_module_version": "1.5.0",
            "_view_name": "HTMLView",
            "description": "",
            "description_tooltip": null,
            "layout": "IPY_MODEL_e7bac1daada64b15a880ace3b15270dc",
            "placeholder": "​",
            "style": "IPY_MODEL_612f4fa491de4951892fe25f3ae60f2a",
            "value": " 50%"
          }
        },
        "a6b744578f9948efa47ef765a7751756": {
          "model_module": "@jupyter-widgets/controls",
          "model_name": "FloatProgressModel",
          "model_module_version": "1.5.0",
          "state": {
            "_dom_classes": [],
            "_model_module": "@jupyter-widgets/controls",
            "_model_module_version": "1.5.0",
            "_model_name": "FloatProgressModel",
            "_view_count": null,
            "_view_module": "@jupyter-widgets/controls",
            "_view_module_version": "1.5.0",
            "_view_name": "ProgressView",
            "bar_style": "",
            "description": "",
            "description_tooltip": null,
            "layout": "IPY_MODEL_9961fc413d664b29abedd2a37909a2b8",
            "max": 10,
            "min": 0,
            "orientation": "horizontal",
            "style": "IPY_MODEL_d409ff6583f64b9aa5ec17971d9995c2",
            "value": 5
          }
        },
        "8db56394ef7947d0ad8e187ec9858725": {
          "model_module": "@jupyter-widgets/controls",
          "model_name": "HTMLModel",
          "model_module_version": "1.5.0",
          "state": {
            "_dom_classes": [],
            "_model_module": "@jupyter-widgets/controls",
            "_model_module_version": "1.5.0",
            "_model_name": "HTMLModel",
            "_view_count": null,
            "_view_module": "@jupyter-widgets/controls",
            "_view_module_version": "1.5.0",
            "_view_name": "HTMLView",
            "description": "",
            "description_tooltip": null,
            "layout": "IPY_MODEL_775083b289b34eb08b0e63c9991bb661",
            "placeholder": "​",
            "style": "IPY_MODEL_97c9817dee4c4cac864fff555e94c11c",
            "value": " 5/10 [06:09&lt;06:09, 73.83s/it]"
          }
        },
        "8065a557a50241da8a07144a7972ce76": {
          "model_module": "@jupyter-widgets/base",
          "model_name": "LayoutModel",
          "model_module_version": "1.2.0",
          "state": {
            "_model_module": "@jupyter-widgets/base",
            "_model_module_version": "1.2.0",
            "_model_name": "LayoutModel",
            "_view_count": null,
            "_view_module": "@jupyter-widgets/base",
            "_view_module_version": "1.2.0",
            "_view_name": "LayoutView",
            "align_content": null,
            "align_items": null,
            "align_self": null,
            "border": null,
            "bottom": null,
            "display": null,
            "flex": null,
            "flex_flow": null,
            "grid_area": null,
            "grid_auto_columns": null,
            "grid_auto_flow": null,
            "grid_auto_rows": null,
            "grid_column": null,
            "grid_gap": null,
            "grid_row": null,
            "grid_template_areas": null,
            "grid_template_columns": null,
            "grid_template_rows": null,
            "height": null,
            "justify_content": null,
            "justify_items": null,
            "left": null,
            "margin": null,
            "max_height": null,
            "max_width": null,
            "min_height": null,
            "min_width": null,
            "object_fit": null,
            "object_position": null,
            "order": null,
            "overflow": null,
            "overflow_x": null,
            "overflow_y": null,
            "padding": null,
            "right": null,
            "top": null,
            "visibility": null,
            "width": null
          }
        },
        "e7bac1daada64b15a880ace3b15270dc": {
          "model_module": "@jupyter-widgets/base",
          "model_name": "LayoutModel",
          "model_module_version": "1.2.0",
          "state": {
            "_model_module": "@jupyter-widgets/base",
            "_model_module_version": "1.2.0",
            "_model_name": "LayoutModel",
            "_view_count": null,
            "_view_module": "@jupyter-widgets/base",
            "_view_module_version": "1.2.0",
            "_view_name": "LayoutView",
            "align_content": null,
            "align_items": null,
            "align_self": null,
            "border": null,
            "bottom": null,
            "display": null,
            "flex": null,
            "flex_flow": null,
            "grid_area": null,
            "grid_auto_columns": null,
            "grid_auto_flow": null,
            "grid_auto_rows": null,
            "grid_column": null,
            "grid_gap": null,
            "grid_row": null,
            "grid_template_areas": null,
            "grid_template_columns": null,
            "grid_template_rows": null,
            "height": null,
            "justify_content": null,
            "justify_items": null,
            "left": null,
            "margin": null,
            "max_height": null,
            "max_width": null,
            "min_height": null,
            "min_width": null,
            "object_fit": null,
            "object_position": null,
            "order": null,
            "overflow": null,
            "overflow_x": null,
            "overflow_y": null,
            "padding": null,
            "right": null,
            "top": null,
            "visibility": null,
            "width": null
          }
        },
        "612f4fa491de4951892fe25f3ae60f2a": {
          "model_module": "@jupyter-widgets/controls",
          "model_name": "DescriptionStyleModel",
          "model_module_version": "1.5.0",
          "state": {
            "_model_module": "@jupyter-widgets/controls",
            "_model_module_version": "1.5.0",
            "_model_name": "DescriptionStyleModel",
            "_view_count": null,
            "_view_module": "@jupyter-widgets/base",
            "_view_module_version": "1.2.0",
            "_view_name": "StyleView",
            "description_width": ""
          }
        },
        "9961fc413d664b29abedd2a37909a2b8": {
          "model_module": "@jupyter-widgets/base",
          "model_name": "LayoutModel",
          "model_module_version": "1.2.0",
          "state": {
            "_model_module": "@jupyter-widgets/base",
            "_model_module_version": "1.2.0",
            "_model_name": "LayoutModel",
            "_view_count": null,
            "_view_module": "@jupyter-widgets/base",
            "_view_module_version": "1.2.0",
            "_view_name": "LayoutView",
            "align_content": null,
            "align_items": null,
            "align_self": null,
            "border": null,
            "bottom": null,
            "display": null,
            "flex": null,
            "flex_flow": null,
            "grid_area": null,
            "grid_auto_columns": null,
            "grid_auto_flow": null,
            "grid_auto_rows": null,
            "grid_column": null,
            "grid_gap": null,
            "grid_row": null,
            "grid_template_areas": null,
            "grid_template_columns": null,
            "grid_template_rows": null,
            "height": null,
            "justify_content": null,
            "justify_items": null,
            "left": null,
            "margin": null,
            "max_height": null,
            "max_width": null,
            "min_height": null,
            "min_width": null,
            "object_fit": null,
            "object_position": null,
            "order": null,
            "overflow": null,
            "overflow_x": null,
            "overflow_y": null,
            "padding": null,
            "right": null,
            "top": null,
            "visibility": null,
            "width": null
          }
        },
        "d409ff6583f64b9aa5ec17971d9995c2": {
          "model_module": "@jupyter-widgets/controls",
          "model_name": "ProgressStyleModel",
          "model_module_version": "1.5.0",
          "state": {
            "_model_module": "@jupyter-widgets/controls",
            "_model_module_version": "1.5.0",
            "_model_name": "ProgressStyleModel",
            "_view_count": null,
            "_view_module": "@jupyter-widgets/base",
            "_view_module_version": "1.2.0",
            "_view_name": "StyleView",
            "bar_color": null,
            "description_width": ""
          }
        },
        "775083b289b34eb08b0e63c9991bb661": {
          "model_module": "@jupyter-widgets/base",
          "model_name": "LayoutModel",
          "model_module_version": "1.2.0",
          "state": {
            "_model_module": "@jupyter-widgets/base",
            "_model_module_version": "1.2.0",
            "_model_name": "LayoutModel",
            "_view_count": null,
            "_view_module": "@jupyter-widgets/base",
            "_view_module_version": "1.2.0",
            "_view_name": "LayoutView",
            "align_content": null,
            "align_items": null,
            "align_self": null,
            "border": null,
            "bottom": null,
            "display": null,
            "flex": null,
            "flex_flow": null,
            "grid_area": null,
            "grid_auto_columns": null,
            "grid_auto_flow": null,
            "grid_auto_rows": null,
            "grid_column": null,
            "grid_gap": null,
            "grid_row": null,
            "grid_template_areas": null,
            "grid_template_columns": null,
            "grid_template_rows": null,
            "height": null,
            "justify_content": null,
            "justify_items": null,
            "left": null,
            "margin": null,
            "max_height": null,
            "max_width": null,
            "min_height": null,
            "min_width": null,
            "object_fit": null,
            "object_position": null,
            "order": null,
            "overflow": null,
            "overflow_x": null,
            "overflow_y": null,
            "padding": null,
            "right": null,
            "top": null,
            "visibility": null,
            "width": null
          }
        },
        "97c9817dee4c4cac864fff555e94c11c": {
          "model_module": "@jupyter-widgets/controls",
          "model_name": "DescriptionStyleModel",
          "model_module_version": "1.5.0",
          "state": {
            "_model_module": "@jupyter-widgets/controls",
            "_model_module_version": "1.5.0",
            "_model_name": "DescriptionStyleModel",
            "_view_count": null,
            "_view_module": "@jupyter-widgets/base",
            "_view_module_version": "1.2.0",
            "_view_name": "StyleView",
            "description_width": ""
          }
        }
      }
    }
  },
  "nbformat": 4,
  "nbformat_minor": 5
}